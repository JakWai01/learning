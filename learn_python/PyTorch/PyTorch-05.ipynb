{
 "cells": [
  {
   "cell_type": "markdown",
   "id": "a838cfa2",
   "metadata": {},
   "source": [
    "# Automatic differentiation with torch.autograd"
   ]
  },
  {
   "cell_type": "markdown",
   "id": "9e929c35",
   "metadata": {},
   "source": [
    "When training neural networks, the most frequentily used algorithm is **back propagation**. In this algorithm, parameters (model weights) are adjusted according to the **gradient** of the loss function with respect to the given parameter."
   ]
  },
  {
   "cell_type": "markdown",
   "id": "6997f2d3",
   "metadata": {},
   "source": [
    "To compute those gradients, PyTorch has a built-in differentiation engine called `torch.autograd`. It supports automatic computation of gradient for any computational graph."
   ]
  },
  {
   "cell_type": "markdown",
   "id": "83bc903c",
   "metadata": {},
   "source": [
    "Consider the simplest one-layer neural network, with input `x`, parameters `w` and `b`, and some loss function. It can be defined in PyTorch in the following manner:"
   ]
  },
  {
   "cell_type": "code",
   "execution_count": 14,
   "id": "eb366ce7",
   "metadata": {},
   "outputs": [],
   "source": [
    "import torch\n",
    "\n",
    "x = torch.ones(5) # input tensor\n",
    "y = torch.zeros(3) # expected output\n",
    "w = torch.randn(5, 3, requires_grad=True)\n",
    "b = torch.randn(3, requires_grad=True)\n",
    "z = torch.matmul(x, w) + b\n",
    "loss = torch.nn.functional.binary_cross_entropy_with_logits(z, y)"
   ]
  },
  {
   "cell_type": "markdown",
   "id": "ef8c0d38",
   "metadata": {},
   "source": [
    "You can set the value of `requires_grad` when creating a tensor, or later by using `x.required_grad_(True)`"
   ]
  },
  {
   "cell_type": "code",
   "execution_count": 15,
   "id": "a9fbf7b3",
   "metadata": {},
   "outputs": [
    {
     "name": "stdout",
     "output_type": "stream",
     "text": [
      "Gradient function for z = <AddBackward0 object at 0x7fc570250280>\n",
      "Gradient function for z = <BinaryCrossEntropyWithLogitsBackward object at 0x7fc570250310>\n"
     ]
    }
   ],
   "source": [
    "print('Gradient function for z =', z.grad_fn)\n",
    "print('Gradient function for z =', loss.grad_fn)"
   ]
  },
  {
   "cell_type": "markdown",
   "id": "32481d36",
   "metadata": {},
   "source": [
    "## Computing Gradients"
   ]
  },
  {
   "cell_type": "code",
   "execution_count": 16,
   "id": "946480b2",
   "metadata": {},
   "outputs": [
    {
     "name": "stdout",
     "output_type": "stream",
     "text": [
      "tensor([[0.3233, 0.1993, 0.1272],\n",
      "        [0.3233, 0.1993, 0.1272],\n",
      "        [0.3233, 0.1993, 0.1272],\n",
      "        [0.3233, 0.1993, 0.1272],\n",
      "        [0.3233, 0.1993, 0.1272]])\n",
      "tensor([0.3233, 0.1993, 0.1272])\n"
     ]
    }
   ],
   "source": [
    "loss.backward()\n",
    "print(w.grad)\n",
    "print(b.grad)"
   ]
  },
  {
   "cell_type": "markdown",
   "id": "fa3aeccd",
   "metadata": {},
   "source": [
    "We can only obtain the `grad` properties for the leaf nodes of the computational graph, which have `requires_grad` property set to `True`. For all other nodes in our graph, gradients will not be available. \n",
    "We can only perform gradient calculations using `backward` once on a given graph, for performance reasons. If we need to do several `backwards` calls on the same graph, we need to pass `retain_graph=True` to the `backward` call."
   ]
  },
  {
   "cell_type": "markdown",
   "id": "c3821fa8",
   "metadata": {},
   "source": [
    "## Disabling Gradient Tracking"
   ]
  },
  {
   "cell_type": "markdown",
   "id": "ca736c57",
   "metadata": {},
   "source": [
    "By default, all tensors with `requires_grad=True` are tracking their computational history and support gradient computation. However, there are some cases when we do not need to do that, for example, when we have trained the model and just want to apply it to some input data, e.g. we only want to do *forward* computations through the network. We can stop tracking computations by surrounding our computation code with a `torch.no_grad()` block."
   ]
  },
  {
   "cell_type": "code",
   "execution_count": 18,
   "id": "24d108be",
   "metadata": {},
   "outputs": [
    {
     "name": "stdout",
     "output_type": "stream",
     "text": [
      "True\n",
      "False\n"
     ]
    }
   ],
   "source": [
    "z = torch.matmul(x, w) + b\n",
    "print(z.requires_grad)\n",
    "\n",
    "with torch.no_grad():\n",
    "    z = torch.matmul(x, w) + b\n",
    "print(z.requires_grad)"
   ]
  },
  {
   "cell_type": "code",
   "execution_count": 19,
   "id": "dd7339cf",
   "metadata": {},
   "outputs": [
    {
     "name": "stdout",
     "output_type": "stream",
     "text": [
      "False\n"
     ]
    }
   ],
   "source": [
    "z = torch.matmul(x, w) + b\n",
    "z_det = z.detach()\n",
    "print(z_det.requires_grad)"
   ]
  },
  {
   "cell_type": "markdown",
   "id": "d837f605",
   "metadata": {},
   "source": [
    "Some reasons to disable gradient tracking:\n",
    "- To mark some parameters in your neural network as **frozen parameters**. This is a very common scenario for **finetuning a pretrained network**\n",
    "- To **speed up computations** when you are only doing forwards pass, because computations of tensors that do not track gradients would be more efficient"
   ]
  }
 ],
 "metadata": {
  "kernelspec": {
   "display_name": "Python 3",
   "language": "python",
   "name": "python3"
  },
  "language_info": {
   "codemirror_mode": {
    "name": "ipython",
    "version": 3
   },
   "file_extension": ".py",
   "mimetype": "text/x-python",
   "name": "python",
   "nbconvert_exporter": "python",
   "pygments_lexer": "ipython3",
   "version": "3.8.6"
  }
 },
 "nbformat": 4,
 "nbformat_minor": 5
}
