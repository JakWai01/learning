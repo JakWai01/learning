{
 "cells": [
  {
   "cell_type": "markdown",
   "id": "numeric-analyst",
   "metadata": {},
   "source": [
    "# Neural Networks"
   ]
  },
  {
   "cell_type": "markdown",
   "id": "fixed-penetration",
   "metadata": {},
   "source": [
    "Neural networks can be constructedd using the `torch.nn` package."
   ]
  },
  {
   "cell_type": "markdown",
   "id": "legendary-father",
   "metadata": {},
   "source": [
    "Now that you had a glimpse of `autograd`, `nn` depends on `autograd` to define models and differentiate them. An nn.Module contains layers, and a method `forward(input)` that returns the output."
   ]
  },
  {
   "cell_type": "markdown",
   "id": "advised-license",
   "metadata": {},
   "source": [
    "A typical training procedure for a neural network is as follow: "
   ]
  },
  {
   "cell_type": "markdown",
   "id": "abstract-france",
   "metadata": {},
   "source": [
    "- Define the neural network that has some learnable parameters (or weights)\n",
    "- Iterate over a dataset of inputs\n",
    "- Process input through the network\n",
    "- Compute the loss (how far is the output from being correct)\n",
    "- Propagate gradients back into the network's parameters\n",
    "- Update the weights of the network, typically usind a simple update rule: `weight = weight - learning_rate * gradient` "
   ]
  },
  {
   "cell_type": "markdown",
   "id": "technical-institution",
   "metadata": {},
   "source": [
    "## Define the network"
   ]
  },
  {
   "cell_type": "markdown",
   "id": "turkish-cleaner",
   "metadata": {},
   "source": [
    "Let's define this network:"
   ]
  },
  {
   "cell_type": "code",
   "execution_count": 8,
   "id": "eligible-concrete",
   "metadata": {},
   "outputs": [],
   "source": [
    "import torch \n",
    "import torch.nn as nn\n",
    "import torch.nn.functional as F"
   ]
  },
  {
   "cell_type": "code",
   "execution_count": 10,
   "id": "accompanied-attribute",
   "metadata": {},
   "outputs": [
    {
     "name": "stdout",
     "output_type": "stream",
     "text": [
      "Net(\n",
      "  (conv1): Conv2d(1, 6, kernel_size=(3, 3), stride=(1, 1))\n",
      "  (conv2): Conv2d(6, 16, kernel_size=(3, 3), stride=(1, 1))\n",
      "  (fc1): Linear(in_features=576, out_features=120, bias=True)\n",
      "  (fc2): Linear(in_features=120, out_features=84, bias=True)\n",
      "  (fc3): Linear(in_features=84, out_features=10, bias=True)\n",
      ")\n"
     ]
    }
   ],
   "source": [
    "class Net(nn.Module):\n",
    "\n",
    "    def __init__(self):\n",
    "        super(Net, self).__init__()\n",
    "        # 1 input image channel, 6 output channels, 3x3 square convolution\n",
    "        # kernel\n",
    "        self.conv1 = nn.Conv2d(1, 6, 3)\n",
    "        self.conv2 = nn.Conv2d(6, 16, 3)\n",
    "        # an affine operation: y = Wx + b\n",
    "        self.fc1 = nn.Linear(16 * 6 * 6, 120)  # 6*6 from image dimension\n",
    "        self.fc2 = nn.Linear(120, 84)\n",
    "        self.fc3 = nn.Linear(84, 10)\n",
    "\n",
    "    def forward(self, x):\n",
    "        # Max pooling over a (2, 2) window\n",
    "        x = F.max_pool2d(F.relu(self.conv1(x)), (2, 2))\n",
    "        # If the size is a square you can only specify a single number\n",
    "        x = F.max_pool2d(F.relu(self.conv2(x)), 2)\n",
    "        x = x.view(-1, self.num_flat_features(x))\n",
    "        x = F.relu(self.fc1(x))\n",
    "        x = F.relu(self.fc2(x))\n",
    "        x = self.fc3(x)\n",
    "        return x\n",
    "\n",
    "    def num_flat_features(self, x):\n",
    "        size = x.size()[1:]  # all dimensions except the batch dimension\n",
    "        num_features = 1\n",
    "        for s in size:\n",
    "            num_features *= s\n",
    "        return num_features\n",
    "\n",
    "\n",
    "net = Net()\n",
    "print(net)"
   ]
  },
  {
   "cell_type": "markdown",
   "id": "molecular-cream",
   "metadata": {},
   "source": [
    "You just have to define the `forward` function and the `backward` function (where gradient are computed) is automatically defined for you using `autograd`. You can use any of the Tensor operations in the `forward` function."
   ]
  },
  {
   "cell_type": "markdown",
   "id": "phantom-preview",
   "metadata": {},
   "source": [
    "The learnable parameters of a model are returned by `net.parameters()`"
   ]
  },
  {
   "cell_type": "markdown",
   "id": "configured-proposal",
   "metadata": {},
   "source": [
    "The learnable parameters of a model are returned by `net.parameters()` "
   ]
  },
  {
   "cell_type": "code",
   "execution_count": 13,
   "id": "actual-jewelry",
   "metadata": {},
   "outputs": [
    {
     "name": "stdout",
     "output_type": "stream",
     "text": [
      "10\n",
      "torch.Size([6, 1, 3, 3])\n"
     ]
    }
   ],
   "source": [
    "params = list(net.parameters())\n",
    "print(len(params))\n",
    "print(params[0].size()) # conv1's .weight "
   ]
  },
  {
   "cell_type": "markdown",
   "id": "mounted-socket",
   "metadata": {},
   "source": [
    "Let's try a random 32x32 input. Note: expected input size of this net (LeNet) is 32x32. To use this net on the MNIST dataset, please resize the images from the dastaset to 32x32."
   ]
  },
  {
   "cell_type": "code",
   "execution_count": 14,
   "id": "consistent-japanese",
   "metadata": {},
   "outputs": [
    {
     "name": "stdout",
     "output_type": "stream",
     "text": [
      "tensor([[-0.0668,  0.0813, -0.0215, -0.0346, -0.0046,  0.0220,  0.1251,  0.0633,\n",
      "          0.0558, -0.0721]], grad_fn=<AddmmBackward>)\n"
     ]
    }
   ],
   "source": [
    "input = torch.rand(1,1,32,32)\n",
    "out = net(input)\n",
    "print(out)"
   ]
  },
  {
   "cell_type": "code",
   "execution_count": 15,
   "id": "endless-genealogy",
   "metadata": {},
   "outputs": [],
   "source": [
    "net.zero_grad()\n",
    "out.backward(torch.rand(1,10))"
   ]
  },
  {
   "cell_type": "markdown",
   "id": "dried-tissue",
   "metadata": {},
   "source": [
    "## Loss Function"
   ]
  },
  {
   "cell_type": "markdown",
   "id": "adverse-hunter",
   "metadata": {},
   "source": [
    "A loss function takes the (output, target) pair of inputs, and computes a value that estimates how far away the output is from the target."
   ]
  },
  {
   "cell_type": "markdown",
   "id": "constitutional-drunk",
   "metadata": {},
   "source": [
    "There are several different loss functions under the nn package. A simple loss is: `nn.MSELoss` which computes the mean-squared error between the input and the target."
   ]
  },
  {
   "cell_type": "markdown",
   "id": "opened-cameroon",
   "metadata": {},
   "source": [
    "For example: "
   ]
  },
  {
   "cell_type": "code",
   "execution_count": 17,
   "id": "secret-surge",
   "metadata": {},
   "outputs": [
    {
     "name": "stdout",
     "output_type": "stream",
     "text": [
      "tensor(0.8914, grad_fn=<MseLossBackward>)\n"
     ]
    }
   ],
   "source": [
    "output = net(input)\n",
    "target = torch.randn(10) # a dummy target, for example\n",
    "target = target.view(1,-1) # make it the same shape as output\n",
    "criterion = nn.MSELoss()\n",
    "\n",
    "loss = criterion(output, target)\n",
    "print(loss)"
   ]
  },
  {
   "cell_type": "markdown",
   "id": "backed-probe",
   "metadata": {},
   "source": [
    "So, when we call `loss.backward()`, the whole graph is differentiated w.r.t the loss, and all Tensors in the graph that has `requires_grad=True` will have their `.grad` Tensor accumulated with their gradient. "
   ]
  },
  {
   "cell_type": "markdown",
   "id": "instrumental-distance",
   "metadata": {},
   "source": [
    "For illustration, let us follow a few steps backward:"
   ]
  },
  {
   "cell_type": "code",
   "execution_count": 19,
   "id": "awful-producer",
   "metadata": {},
   "outputs": [
    {
     "name": "stdout",
     "output_type": "stream",
     "text": [
      "<MseLossBackward object at 0x7fdeebd4d340>\n",
      "<AddmmBackward object at 0x7fdeebd4d130>\n",
      "<AccumulateGrad object at 0x7fdeebd4d340>\n"
     ]
    }
   ],
   "source": [
    "print(loss.grad_fn) # MSELoss\n",
    "print(loss.grad_fn.next_functions[0][0]) # Linear\n",
    "print(loss.grad_fn.next_functions[0][0].next_functions[0][0]) # ReLU"
   ]
  },
  {
   "cell_type": "code",
   "execution_count": null,
   "id": "worldwide-chamber",
   "metadata": {},
   "outputs": [],
   "source": []
  }
 ],
 "metadata": {
  "kernelspec": {
   "display_name": "Python 3",
   "language": "python",
   "name": "python3"
  },
  "language_info": {
   "codemirror_mode": {
    "name": "ipython",
    "version": 3
   },
   "file_extension": ".py",
   "mimetype": "text/x-python",
   "name": "python",
   "nbconvert_exporter": "python",
   "pygments_lexer": "ipython3",
   "version": "3.9.1"
  }
 },
 "nbformat": 4,
 "nbformat_minor": 5
}
