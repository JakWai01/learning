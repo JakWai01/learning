{
 "cells": [
  {
   "cell_type": "markdown",
   "id": "extensive-fifty",
   "metadata": {},
   "source": [
    "# A gentle Introduction to `torch.autograd` "
   ]
  },
  {
   "cell_type": "markdown",
   "id": "grave-classification",
   "metadata": {},
   "source": [
    "`torch.autograd` is PyTorch's automatic differentiation engine that powers neural network training. In this section, you will get a conceptual understanding of how autograd helps aneural network train."
   ]
  },
  {
   "cell_type": "markdown",
   "id": "physical-stocks",
   "metadata": {},
   "source": [
    "## Background "
   ]
  },
  {
   "cell_type": "markdown",
   "id": "round-rebate",
   "metadata": {},
   "source": [
    "Nerual networks (NNs) are a collection of nested functions that are executed on some input data. These functions are defined by parameters (consisting of weights and biases), which in PyTroch are stored in tensors."
   ]
  },
  {
   "cell_type": "markdown",
   "id": "italian-hungarian",
   "metadata": {},
   "source": [
    "Training a NN happens in two steps:"
   ]
  },
  {
   "cell_type": "markdown",
   "id": "corresponding-april",
   "metadata": {},
   "source": [
    "**Forward Propagation:** In forward prop, the NN makes its best guess about the correct output. It runs the input data through each of its functions to make this guess."
   ]
  },
  {
   "cell_type": "markdown",
   "id": "greek-reconstruction",
   "metadata": {},
   "source": [
    "**Backward Propagation:** In backprop, the NN adjusts its parameters proportionate to the error in its guess. It does this by traversing backwards from the output, collecting the derivatives of the error with respect to the parameters of the functions (gradients), and optimizing the parameters using gradient descent. For a more detailed walkthrough of backprop, check out 3Blue1Brown's Video on the topic. "
   ]
  },
  {
   "cell_type": "markdown",
   "id": "experienced-watson",
   "metadata": {},
   "source": [
    "## Usage in PyTorch "
   ]
  },
  {
   "cell_type": "markdown",
   "id": "reasonable-america",
   "metadata": {},
   "source": [
    "Let's take a look at a single training step. For this example, we load a pretrained resnet18 model from `torchvision`. We create a random data tensor to represent a single image with 3 channels, and height & width of 64, and its corresponding `label` initialized to some random values."
   ]
  },
  {
   "cell_type": "code",
   "execution_count": 5,
   "id": "electoral-launch",
   "metadata": {},
   "outputs": [
    {
     "name": "stderr",
     "output_type": "stream",
     "text": [
      "Downloading: \"https://download.pytorch.org/models/resnet18-5c106cde.pth\" to /home/jakobwaibel/.cache/torch/hub/checkpoints/resnet18-5c106cde.pth\n",
      "100.0%\n"
     ]
    }
   ],
   "source": [
    "import torch, torchvision\n",
    "model = torchvision.models.resnet18(pretrained=True)\n",
    "data = torch.rand(1,3,64,64)\n",
    "labels = torch.rand(1,1000)"
   ]
  },
  {
   "cell_type": "markdown",
   "id": "greek-poultry",
   "metadata": {},
   "source": [
    "Next, we run the input data through the model through each of its layers to make a prediciton. This is the **forward pass**"
   ]
  },
  {
   "cell_type": "code",
   "execution_count": 6,
   "id": "random-simpson",
   "metadata": {},
   "outputs": [],
   "source": [
    "prediction = model(data) # forward pass"
   ]
  },
  {
   "cell_type": "markdown",
   "id": "mechanical-drove",
   "metadata": {},
   "source": [
    "We use the model's prediction and the corresponding label to calculate the rror (loss). The next step is to backpropagate this error through the network. Backward propagation is kicked off when we call `.backward()` on the error tensor. Autograd then calculates and stores the gradients for each model parameeter in the parameter's `.grad` attribute."
   ]
  },
  {
   "cell_type": "code",
   "execution_count": 7,
   "id": "false-patient",
   "metadata": {},
   "outputs": [],
   "source": [
    "loss = (prediction - labels).sum()\n",
    "loss.backward() # backward pass"
   ]
  },
  {
   "cell_type": "markdown",
   "id": "furnished-arthritis",
   "metadata": {},
   "source": [
    "Next, we load an optimizer, in this case SGD with a learning rate of 0.01 and momentum of 0.9. We register all the parameters of the model in the optimizer."
   ]
  },
  {
   "cell_type": "code",
   "execution_count": 10,
   "id": "random-renewal",
   "metadata": {},
   "outputs": [],
   "source": [
    "optim = torch.optim.SGD(model.parameters(), lr=1e-2, momentum=0.9)"
   ]
  },
  {
   "cell_type": "markdown",
   "id": "backed-lesbian",
   "metadata": {},
   "source": [
    "Finally, we call `.step()` to initiate gradient descent. The optimizer adjusts each parameter by its gradients stored in `.grad`."
   ]
  },
  {
   "cell_type": "code",
   "execution_count": 11,
   "id": "infinite-relevance",
   "metadata": {},
   "outputs": [],
   "source": [
    "optim.step() # gradient descent"
   ]
  },
  {
   "cell_type": "markdown",
   "id": "floating-wrapping",
   "metadata": {},
   "source": [
    "At this point, you have everything you need to train your neural network. The below sections detail the workings of autograd - feel free to skip them"
   ]
  },
  {
   "cell_type": "code",
   "execution_count": null,
   "id": "psychological-wings",
   "metadata": {},
   "outputs": [],
   "source": []
  }
 ],
 "metadata": {
  "kernelspec": {
   "display_name": "Python 3",
   "language": "python",
   "name": "python3"
  },
  "language_info": {
   "codemirror_mode": {
    "name": "ipython",
    "version": 3
   },
   "file_extension": ".py",
   "mimetype": "text/x-python",
   "name": "python",
   "nbconvert_exporter": "python",
   "pygments_lexer": "ipython3",
   "version": "3.9.1"
  }
 },
 "nbformat": 4,
 "nbformat_minor": 5
}
