{
 "cells": [
  {
   "cell_type": "code",
   "execution_count": 1,
   "id": "specified-puppy",
   "metadata": {},
   "outputs": [
    {
     "name": "stdout",
     "output_type": "stream",
     "text": [
      "3\n"
     ]
    }
   ],
   "source": [
    "print(1+2)"
   ]
  },
  {
   "cell_type": "code",
   "execution_count": 2,
   "id": "nearby-court",
   "metadata": {},
   "outputs": [
    {
     "name": "stdout",
     "output_type": "stream",
     "text": [
      "hallo 30\n"
     ]
    }
   ],
   "source": [
    "print(\"hallo\", 30)"
   ]
  },
  {
   "cell_type": "code",
   "execution_count": 3,
   "id": "gorgeous-aggregate",
   "metadata": {},
   "outputs": [
    {
     "name": "stdout",
     "output_type": "stream",
     "text": [
      "False\n"
     ]
    }
   ],
   "source": [
    "print(3 == 2)"
   ]
  },
  {
   "cell_type": "code",
   "execution_count": 4,
   "id": "early-static",
   "metadata": {},
   "outputs": [
    {
     "name": "stdout",
     "output_type": "stream",
     "text": [
      "There are 10 kinds of people, those who know binary and those who don't\n"
     ]
    }
   ],
   "source": [
    "a = 10;\n",
    "\n",
    "print(f\"There are {a} kinds of people, those who know binary and those who don't\")"
   ]
  },
  {
   "cell_type": "code",
   "execution_count": 5,
   "id": "quality-destination",
   "metadata": {},
   "outputs": [
    {
     "name": "stdout",
     "output_type": "stream",
     "text": [
      "His name was Jakob\n"
     ]
    }
   ],
   "source": [
    "name = \"Jakob\"\n",
    "x = f\"His name was {name}\"\n",
    "\n",
    "print(x)"
   ]
  },
  {
   "cell_type": "code",
   "execution_count": 6,
   "id": "informational-costume",
   "metadata": {},
   "outputs": [
    {
     "name": "stdout",
     "output_type": "stream",
     "text": [
      "..........\n"
     ]
    }
   ],
   "source": [
    "print(10 * \".\")"
   ]
  },
  {
   "cell_type": "code",
   "execution_count": 7,
   "id": "small-capital",
   "metadata": {},
   "outputs": [
    {
     "name": "stdout",
     "output_type": "stream",
     "text": [
      "ad\n"
     ]
    }
   ],
   "source": [
    "b = \"a\"\n",
    "c = \"d\"\n",
    "print(b + c)"
   ]
  },
  {
   "cell_type": "code",
   "execution_count": 8,
   "id": "abstract-ghana",
   "metadata": {},
   "outputs": [
    {
     "name": "stdout",
     "output_type": "stream",
     "text": [
      "a d\n"
     ]
    }
   ],
   "source": [
    "print(b,c)"
   ]
  },
  {
   "cell_type": "code",
   "execution_count": 9,
   "id": "instant-victory",
   "metadata": {},
   "outputs": [
    {
     "name": "stdout",
     "output_type": "stream",
     "text": [
      "1 2 3 4\n"
     ]
    }
   ],
   "source": [
    "formatter = \"{} {} {} {}\"\n",
    "print(formatter.format(1,2,3,4))"
   ]
  },
  {
   "cell_type": "code",
   "execution_count": 10,
   "id": "sustainable-construction",
   "metadata": {},
   "outputs": [
    {
     "name": "stdout",
     "output_type": "stream",
     "text": [
      "one two three four\n"
     ]
    }
   ],
   "source": [
    "print(formatter.format(\"one\", \"two\", \"three\", \"four\"))"
   ]
  },
  {
   "cell_type": "code",
   "execution_count": 11,
   "id": "loose-matthew",
   "metadata": {},
   "outputs": [
    {
     "name": "stdout",
     "output_type": "stream",
     "text": [
      "True False False True\n"
     ]
    }
   ],
   "source": [
    "print(formatter.format(True, False, False, True))"
   ]
  },
  {
   "cell_type": "code",
   "execution_count": 12,
   "id": "desperate-symbol",
   "metadata": {},
   "outputs": [
    {
     "name": "stdout",
     "output_type": "stream",
     "text": [
      "{} {} {} {} {} {} {} {} {} {} {} {} {} {} {} {}\n"
     ]
    }
   ],
   "source": [
    "print(formatter.format(formatter, formatter, formatter, formatter))"
   ]
  },
  {
   "cell_type": "code",
   "execution_count": 13,
   "id": "terminal-activity",
   "metadata": {},
   "outputs": [
    {
     "name": "stdout",
     "output_type": "stream",
     "text": [
      "Try your Own text here Maybe a poem Or a song about fear\n"
     ]
    }
   ],
   "source": [
    "print(formatter.format(\"Try your\", \"Own text here\", \"Maybe a poem\", 'Or a song about fear'))"
   ]
  },
  {
   "cell_type": "code",
   "execution_count": 14,
   "id": "polyphonic-laugh",
   "metadata": {
    "scrolled": true
   },
   "outputs": [
    {
     "name": "stdout",
     "output_type": "stream",
     "text": [
      "How old are you? 12\n"
     ]
    }
   ],
   "source": [
    "print(\"How old are you?\", end=' ')\n",
    "age = input()"
   ]
  },
  {
   "cell_type": "code",
   "execution_count": 15,
   "id": "powered-float",
   "metadata": {},
   "outputs": [
    {
     "name": "stdout",
     "output_type": "stream",
     "text": [
      "How old are you?\n",
      "12\n"
     ]
    }
   ],
   "source": [
    "print(\"How old are you?\")\n",
    "age = input()"
   ]
  },
  {
   "cell_type": "code",
   "execution_count": 16,
   "id": "neural-counter",
   "metadata": {},
   "outputs": [
    {
     "name": "stdout",
     "output_type": "stream",
     "text": [
      "Hey my name is Jakob\n"
     ]
    }
   ],
   "source": [
    "print(\"Hey my name is\", end=' ')\n",
    "print(\"Jakob\")"
   ]
  },
  {
   "cell_type": "code",
   "execution_count": 17,
   "id": "specified-architecture",
   "metadata": {},
   "outputs": [
    {
     "name": "stdout",
     "output_type": "stream",
     "text": [
      "How old are you? 12\n",
      "12\n"
     ]
    }
   ],
   "source": [
    "age = input(\"How old are you? \")\n",
    "print(age)"
   ]
  },
  {
   "cell_type": "code",
   "execution_count": 18,
   "id": "confidential-inside",
   "metadata": {},
   "outputs": [],
   "source": [
    "from sys import argv"
   ]
  },
  {
   "cell_type": "code",
   "execution_count": 19,
   "id": "innovative-parade",
   "metadata": {},
   "outputs": [
    {
     "name": "stdout",
     "output_type": "stream",
     "text": [
      "['/Users/jakobwaibel/Library/Python/3.8/lib/python/site-packages/ipykernel_launcher.py', '-f', '/Users/jakobwaibel/Library/Jupyter/runtime/kernel-84816e93-4c31-400c-99fd-1dc7f8f2d17d.json']\n"
     ]
    }
   ],
   "source": [
    "# red the WYSS section for how to run this\n",
    "print(argv)"
   ]
  },
  {
   "cell_type": "code",
   "execution_count": 20,
   "id": "funded-chocolate",
   "metadata": {},
   "outputs": [],
   "source": [
    "script, first, second = argv"
   ]
  },
  {
   "cell_type": "code",
   "execution_count": 21,
   "id": "muslim-remove",
   "metadata": {},
   "outputs": [
    {
     "name": "stdout",
     "output_type": "stream",
     "text": [
      "The script is called: /Users/jakobwaibel/Library/Python/3.8/lib/python/site-packages/ipykernel_launcher.py\n"
     ]
    }
   ],
   "source": [
    "print(\"The script is called:\", script)"
   ]
  },
  {
   "cell_type": "code",
   "execution_count": 22,
   "id": "boring-thunder",
   "metadata": {},
   "outputs": [
    {
     "name": "stdout",
     "output_type": "stream",
     "text": [
      "> 12\n"
     ]
    }
   ],
   "source": [
    "promt = \"> \"\n",
    "age = input(promt)"
   ]
  },
  {
   "cell_type": "code",
   "execution_count": 23,
   "id": "fatal-exploration",
   "metadata": {},
   "outputs": [
    {
     "name": "stdout",
     "output_type": "stream",
     "text": [
      "['/Users/jakobwaibel/Library/Python/3.8/lib/python/site-packages/ipykernel_launcher.py', '-f', '/Users/jakobwaibel/Library/Jupyter/runtime/kernel-84816e93-4c31-400c-99fd-1dc7f8f2d17d.json']\n"
     ]
    }
   ],
   "source": [
    "from sys import argv\n",
    "print(argv)"
   ]
  },
  {
   "cell_type": "code",
   "execution_count": 24,
   "id": "increased-franchise",
   "metadata": {},
   "outputs": [
    {
     "name": "stdout",
     "output_type": "stream",
     "text": [
      "Here's your file /Users/jakobwaibel/Library/Jupyter/runtime/kernel-84816e93-4c31-400c-99fd-1dc7f8f2d17d.json:\n",
      "{\n",
      "  \"shell_port\": 49699,\n",
      "  \"iopub_port\": 49700,\n",
      "  \"stdin_port\": 49701,\n",
      "  \"control_port\": 49703,\n",
      "  \"hb_port\": 49702,\n",
      "  \"ip\": \"127.0.0.1\",\n",
      "  \"key\": \"eba83b5a-18066151ff6852dae7fd1c59\",\n",
      "  \"transport\": \"tcp\",\n",
      "  \"signature_scheme\": \"hmac-sha256\",\n",
      "  \"kernel_name\": \"\"\n",
      "}\n"
     ]
    }
   ],
   "source": [
    "script, flag ,filename = argv\n",
    "txt = open(filename)\n",
    "\n",
    "print(f\"Here's your file {filename}:\")\n",
    "print(txt.read())"
   ]
  },
  {
   "cell_type": "code",
   "execution_count": 25,
   "id": "compact-crest",
   "metadata": {},
   "outputs": [
    {
     "name": "stdout",
     "output_type": "stream",
     "text": [
      "arg1: Zed, arg2: Shaw\n"
     ]
    }
   ],
   "source": [
    "# this one is like your scripts with argv \n",
    "def print_two(*args):\n",
    "    arg1, arg2 = args\n",
    "    print(f\"arg1: {arg1}, arg2: {arg2}\")\n",
    "    \n",
    "# ok, that *args is actually pointless, we can just do this\n",
    "def print_two_again(arg1, arg2):\n",
    "    print(f\"arg1: {arg1}, arg2: {arg2}\")\n",
    "    \n",
    "# this just takes one argument\n",
    "def print_one(arg1):\n",
    "    print(f\"arg1: {arg1}\")\n",
    "    \n",
    "def print_none():\n",
    "    print(\"I got nothin'.\")\n",
    "    \n",
    "print_two(\"Zed\", \"Shaw\")"
   ]
  },
  {
   "cell_type": "code",
   "execution_count": 26,
   "id": "isolated-queen",
   "metadata": {},
   "outputs": [
    {
     "name": "stdout",
     "output_type": "stream",
     "text": [
      "arg1: Zed, arg2: Shaw\n"
     ]
    }
   ],
   "source": [
    "print_two_again(\"Zed\", \"Shaw\")"
   ]
  },
  {
   "cell_type": "code",
   "execution_count": 27,
   "id": "southeast-repository",
   "metadata": {},
   "outputs": [
    {
     "name": "stdout",
     "output_type": "stream",
     "text": [
      "arg1: First!\n"
     ]
    }
   ],
   "source": [
    "print_one(\"First!\")"
   ]
  },
  {
   "cell_type": "code",
   "execution_count": 28,
   "id": "northern-festival",
   "metadata": {},
   "outputs": [
    {
     "name": "stdout",
     "output_type": "stream",
     "text": [
      "I got nothin'.\n"
     ]
    }
   ],
   "source": [
    "print_none()"
   ]
  },
  {
   "cell_type": "code",
   "execution_count": 29,
   "id": "sonic-renewal",
   "metadata": {},
   "outputs": [],
   "source": [
    "def cheese_and_crackers(cheese_count, boxes_of_crackers):\n",
    "    print(f\"You have {cheese_count} cheeses!\")"
   ]
  },
  {
   "cell_type": "code",
   "execution_count": 30,
   "id": "offensive-edwards",
   "metadata": {},
   "outputs": [
    {
     "name": "stdout",
     "output_type": "stream",
     "text": [
      "You have 20 cheeses!\n"
     ]
    }
   ],
   "source": [
    "cheese_and_crackers(20, 30)"
   ]
  },
  {
   "cell_type": "code",
   "execution_count": 31,
   "id": "subtle-accommodation",
   "metadata": {},
   "outputs": [
    {
     "name": "stdout",
     "output_type": "stream",
     "text": [
      "1.25\n"
     ]
    }
   ],
   "source": [
    "print(2.5/2)"
   ]
  },
  {
   "cell_type": "code",
   "execution_count": 32,
   "id": "eligible-behalf",
   "metadata": {},
   "outputs": [
    {
     "name": "stdout",
     "output_type": "stream",
     "text": [
      "1.0\n"
     ]
    }
   ],
   "source": [
    "print(2.5//2)"
   ]
  },
  {
   "cell_type": "code",
   "execution_count": 33,
   "id": "placed-married",
   "metadata": {},
   "outputs": [
    {
     "data": {
      "text/plain": [
       "90"
      ]
     },
     "execution_count": 33,
     "metadata": {},
     "output_type": "execute_result"
    }
   ],
   "source": [
    "0b1011010"
   ]
  },
  {
   "cell_type": "code",
   "execution_count": 34,
   "id": "frequent-updating",
   "metadata": {},
   "outputs": [
    {
     "data": {
      "text/plain": [
       "90"
      ]
     },
     "execution_count": 34,
     "metadata": {},
     "output_type": "execute_result"
    }
   ],
   "source": [
    "ord('Z')"
   ]
  },
  {
   "cell_type": "code",
   "execution_count": 35,
   "id": "german-litigation",
   "metadata": {},
   "outputs": [
    {
     "data": {
      "text/plain": [
       "'Z'"
      ]
     },
     "execution_count": 35,
     "metadata": {},
     "output_type": "execute_result"
    }
   ],
   "source": [
    "chr(90)"
   ]
  },
  {
   "cell_type": "code",
   "execution_count": 36,
   "id": "anonymous-commodity",
   "metadata": {},
   "outputs": [
    {
     "data": {
      "text/plain": [
       "[90, 90]"
      ]
     },
     "execution_count": 36,
     "metadata": {},
     "output_type": "execute_result"
    }
   ],
   "source": [
    "[90, 90]"
   ]
  },
  {
   "cell_type": "code",
   "execution_count": 37,
   "id": "cardiovascular-student",
   "metadata": {},
   "outputs": [
    {
     "data": {
      "text/plain": [
       "True"
      ]
     },
     "execution_count": 37,
     "metadata": {},
     "output_type": "execute_result"
    }
   ],
   "source": [
    "\"test\" == \"test\""
   ]
  },
  {
   "cell_type": "code",
   "execution_count": 38,
   "id": "streaming-jordan",
   "metadata": {},
   "outputs": [
    {
     "data": {
      "text/plain": [
       "True"
      ]
     },
     "execution_count": 38,
     "metadata": {},
     "output_type": "execute_result"
    }
   ],
   "source": [
    "1 == 1 and 2 == 2"
   ]
  },
  {
   "cell_type": "code",
   "execution_count": 39,
   "id": "joined-college",
   "metadata": {},
   "outputs": [
    {
     "data": {
      "text/plain": [
       "True"
      ]
     },
     "execution_count": 39,
     "metadata": {},
     "output_type": "execute_result"
    }
   ],
   "source": [
    "1 == 1 and 2 == 2"
   ]
  },
  {
   "cell_type": "code",
   "execution_count": 40,
   "id": "intimate-platform",
   "metadata": {},
   "outputs": [
    {
     "data": {
      "text/plain": [
       "'test'"
      ]
     },
     "execution_count": 40,
     "metadata": {},
     "output_type": "execute_result"
    }
   ],
   "source": [
    "\"test\" and \"test\""
   ]
  },
  {
   "cell_type": "code",
   "execution_count": 41,
   "id": "restricted-wilderness",
   "metadata": {},
   "outputs": [
    {
     "data": {
      "text/plain": [
       "1"
      ]
     },
     "execution_count": 41,
     "metadata": {},
     "output_type": "execute_result"
    }
   ],
   "source": [
    "1 and 1 "
   ]
  },
  {
   "cell_type": "code",
   "execution_count": 42,
   "id": "prompt-letter",
   "metadata": {},
   "outputs": [
    {
     "name": "stdout",
     "output_type": "stream",
     "text": [
      "Yea 1 == 1\n"
     ]
    }
   ],
   "source": [
    "if (1 == 1):\n",
    "    print(\"Yea 1 == 1\")\n",
    "else:\n",
    "    print(\"Not today\")"
   ]
  },
  {
   "cell_type": "code",
   "execution_count": 43,
   "id": "turned-chancellor",
   "metadata": {},
   "outputs": [
    {
     "name": "stdout",
     "output_type": "stream",
     "text": [
      "else year\n"
     ]
    }
   ],
   "source": [
    "if (1 == 2):\n",
    "    print(\"yea\")\n",
    "elif (1 == 1):\n",
    "    print(\"else year\")\n",
    "else:\n",
    "    print(\"Hall\")"
   ]
  },
  {
   "cell_type": "code",
   "execution_count": 44,
   "id": "deadly-profession",
   "metadata": {},
   "outputs": [],
   "source": [
    "the_count = [1, 2, 3, 4, 5]"
   ]
  },
  {
   "cell_type": "code",
   "execution_count": 45,
   "id": "wanted-baltimore",
   "metadata": {},
   "outputs": [],
   "source": [
    "fruits = ['apples', 'oranges', 'pears', 'apricots']\n",
    "change = [1, 'pennies', 2, 'dimes', 3, 'quarters']\n",
    "\n",
    "# this first kind of for-loop goes through a list"
   ]
  },
  {
   "cell_type": "code",
   "execution_count": 46,
   "id": "daily-communications",
   "metadata": {},
   "outputs": [
    {
     "name": "stdout",
     "output_type": "stream",
     "text": [
      "1\n",
      "2\n",
      "3\n",
      "4\n",
      "5\n"
     ]
    }
   ],
   "source": [
    "for number in the_count:\n",
    "    print(number)"
   ]
  },
  {
   "cell_type": "code",
   "execution_count": 47,
   "id": "legitimate-fitting",
   "metadata": {},
   "outputs": [
    {
     "name": "stdout",
     "output_type": "stream",
     "text": [
      "apples\n",
      "oranges\n",
      "pears\n",
      "apricots\n"
     ]
    }
   ],
   "source": [
    "for fruit in fruits: \n",
    "    print(fruit)"
   ]
  },
  {
   "cell_type": "code",
   "execution_count": 48,
   "id": "stuffed-dance",
   "metadata": {},
   "outputs": [
    {
     "name": "stdout",
     "output_type": "stream",
     "text": [
      "1\n",
      "pennies\n",
      "2\n",
      "dimes\n",
      "3\n",
      "quarters\n"
     ]
    }
   ],
   "source": [
    "for i in change: \n",
    "    print(i)"
   ]
  },
  {
   "cell_type": "code",
   "execution_count": 49,
   "id": "arranged-jersey",
   "metadata": {},
   "outputs": [],
   "source": [
    "elements = []\n",
    "\n",
    "for i in range(0,6):\n",
    "    elements.append(i)"
   ]
  },
  {
   "cell_type": "code",
   "execution_count": 50,
   "id": "horizontal-florence",
   "metadata": {},
   "outputs": [
    {
     "name": "stdout",
     "output_type": "stream",
     "text": [
      "0\n",
      "1\n",
      "2\n",
      "3\n",
      "4\n",
      "5\n"
     ]
    }
   ],
   "source": [
    "for i in elements:\n",
    "    print(i)"
   ]
  },
  {
   "cell_type": "code",
   "execution_count": 51,
   "id": "modular-surgery",
   "metadata": {},
   "outputs": [],
   "source": [
    "from sys import exit\n",
    "\n",
    "def gold_room():\n",
    "    print(\"This room is full of gold. How much do you take?\")\n",
    "    \n",
    "    choice = input(\"> \")\n",
    "    if \"0\" in choice or \"1\" in choice:\n",
    "        how_much = int(choice)\n",
    "    else: \n",
    "        dead(\"Man, learn to type a number.\")\n",
    "        \n",
    "    if how_much < 50:\n",
    "        print(\"Nice, you're not greedy, you win!\")\n",
    "        exit(0)\n",
    "    else:\n",
    "        dead(\"You greedy bastard!\")\n",
    "        \n",
    "def dead(why):\n",
    "    print(why, \"Good job!\")\n",
    "    exit(0)"
   ]
  },
  {
   "cell_type": "code",
   "execution_count": 54,
   "id": "equivalent-blond",
   "metadata": {},
   "outputs": [
    {
     "name": "stdout",
     "output_type": "stream",
     "text": [
      "This room is full of gold. How much do you take?\n",
      "> as\n",
      "Man, learn to type a number. Good job!\n"
     ]
    },
    {
     "ename": "SystemExit",
     "evalue": "0",
     "output_type": "error",
     "traceback": [
      "An exception has occurred, use %tb to see the full traceback.\n",
      "\u001b[0;31mSystemExit\u001b[0m\u001b[0;31m:\u001b[0m 0\n"
     ]
    }
   ],
   "source": [
    "gold_room()"
   ]
  },
  {
   "cell_type": "code",
   "execution_count": 55,
   "id": "noble-earthquake",
   "metadata": {},
   "outputs": [
    {
     "name": "stdout",
     "output_type": "stream",
     "text": [
      "Wait there are not 10 things in that list. Let's fix that.\n"
     ]
    }
   ],
   "source": [
    "ten_things = \"Apples Oranges Crows Telephone Light Sugar\"\n",
    "\n",
    "print(\"Wait there are not 10 things in that list. Let's fix that.\")\n",
    "\n",
    "stuff = ten_things.split(' ')\n",
    "more_stuff = [\"Day\", \"Night\", \"Song\", \"Frisbee\", \"Corn\", \"Banana\", \"Girl\", \"Boy\"]"
   ]
  },
  {
   "cell_type": "code",
   "execution_count": 56,
   "id": "valuable-operator",
   "metadata": {},
   "outputs": [
    {
     "name": "stdout",
     "output_type": "stream",
     "text": [
      "Adding:  Boy\n",
      "There are 7 items now.\n",
      "Adding:  Girl\n",
      "There are 8 items now.\n",
      "Adding:  Banana\n",
      "There are 9 items now.\n",
      "Adding:  Corn\n",
      "There are 10 items now.\n",
      "There we go:  ['Apples', 'Oranges', 'Crows', 'Telephone', 'Light', 'Sugar', 'Boy', 'Girl', 'Banana', 'Corn']\n",
      "Let's do some things with stuff.\n",
      "Oranges\n",
      "Corn\n",
      "Corn\n",
      "Apples Oranges Crows Telephone Light Sugar Boy Girl Banana\n",
      "Telephone#Light\n"
     ]
    }
   ],
   "source": [
    "while len(stuff) != 10:\n",
    "    next_one = more_stuff.pop()\n",
    "    print(\"Adding: \", next_one)\n",
    "    stuff.append(next_one)\n",
    "    print(f\"There are {len(stuff)} items now.\")\n",
    "    \n",
    "print(\"There we go: \", stuff)\n",
    "\n",
    "print(\"Let's do some things with stuff.\")\n",
    "\n",
    "print(stuff[1])\n",
    "print(stuff[-1]) # whoa! fancy\n",
    "print(stuff.pop())\n",
    "print(' '.join(stuff)) # what? cool!\n",
    "print('#'.join(stuff[3:5])) # super stellar! "
   ]
  },
  {
   "cell_type": "code",
   "execution_count": 57,
   "id": "burning-difficulty",
   "metadata": {},
   "outputs": [
    {
     "name": "stdout",
     "output_type": "stream",
     "text": [
      "Zed\n"
     ]
    }
   ],
   "source": [
    "stuff = {'name': 'Zed', 'age': 39, 'height': 6 * 12 + 2}\n",
    "print(stuff['name'])"
   ]
  },
  {
   "cell_type": "code",
   "execution_count": 58,
   "id": "exceptional-toronto",
   "metadata": {},
   "outputs": [
    {
     "name": "stdout",
     "output_type": "stream",
     "text": [
      "39\n"
     ]
    }
   ],
   "source": [
    "print(stuff['age'])"
   ]
  },
  {
   "cell_type": "code",
   "execution_count": 59,
   "id": "acknowledged-pricing",
   "metadata": {},
   "outputs": [
    {
     "name": "stdout",
     "output_type": "stream",
     "text": [
      "74\n"
     ]
    }
   ],
   "source": [
    "print(stuff['height'])"
   ]
  },
  {
   "cell_type": "code",
   "execution_count": 60,
   "id": "juvenile-thousand",
   "metadata": {},
   "outputs": [],
   "source": [
    "stuff['city'] = 'SF'"
   ]
  },
  {
   "cell_type": "code",
   "execution_count": 61,
   "id": "intense-proposal",
   "metadata": {},
   "outputs": [
    {
     "name": "stdout",
     "output_type": "stream",
     "text": [
      "SF\n"
     ]
    }
   ],
   "source": [
    "print(stuff['city'])"
   ]
  },
  {
   "cell_type": "code",
   "execution_count": 62,
   "id": "acting-auction",
   "metadata": {},
   "outputs": [
    {
     "name": "stdout",
     "output_type": "stream",
     "text": [
      "Wow\n"
     ]
    }
   ],
   "source": [
    "stuff[1] = \"Wow\"\n",
    "stuff[2] = \"Neato\"\n",
    "print(stuff[1])"
   ]
  },
  {
   "cell_type": "code",
   "execution_count": 63,
   "id": "unable-rings",
   "metadata": {},
   "outputs": [
    {
     "name": "stdout",
     "output_type": "stream",
     "text": [
      "Neato\n"
     ]
    }
   ],
   "source": [
    "print(stuff[2])"
   ]
  },
  {
   "cell_type": "code",
   "execution_count": 64,
   "id": "synthetic-welding",
   "metadata": {},
   "outputs": [
    {
     "data": {
      "text/plain": [
       "{'name': 'Zed', 'age': 39, 'height': 74}"
      ]
     },
     "execution_count": 64,
     "metadata": {},
     "output_type": "execute_result"
    }
   ],
   "source": [
    "del stuff['city']\n",
    "del stuff[1]\n",
    "del stuff[2]\n",
    "stuff"
   ]
  },
  {
   "cell_type": "code",
   "execution_count": 68,
   "id": "sealed-trace",
   "metadata": {},
   "outputs": [
    {
     "name": "stdout",
     "output_type": "stream",
     "text": [
      "----------\n",
      "NY State has:  New York\n",
      "Florida's abbreviation is FL\n",
      "----------\n",
      "Michigan has:  Detroit\n",
      "Florida has:  Jacksonville\n",
      "----------\n",
      "Oregon is abbreviated OR\n",
      "Florida is abbreviated FL\n",
      "California is abbreviated CA\n",
      "New York is abbreviated NY\n",
      "Michigan is abbreviated MI\n",
      "----------\n",
      "Michigan state is abbreviated Oregon\n",
      "Michigan state is abbreviated Florida\n",
      "Michigan state is abbreviated California\n",
      "Michigan state is abbreviated New York\n",
      "Michigan state is abbreviated Michigan\n",
      "----------\n",
      "Oregon state is abbreviated OR\n",
      "and has city Portland\n",
      "Florida state is abbreviated FL\n",
      "and has city Jacksonville\n",
      "California state is abbreviated CA\n",
      "and has city San Francisco\n",
      "New York state is abbreviated NY\n",
      "and has city New York\n",
      "Michigan state is abbreviated MI\n",
      "and has city Detroit\n",
      "----------\n",
      "Sorry, no Texas.\n",
      "The city for the state 'TX' is: Does Not Exist\n"
     ]
    }
   ],
   "source": [
    "# create a mapping of state to abbreveation \n",
    "states = {\n",
    "    'Oregon':'OR',\n",
    "    'Florida': 'FL',\n",
    "    'California': 'CA',\n",
    "    'New York': 'NY',\n",
    "    'Michigan': 'MI'\n",
    "}\n",
    "\n",
    "# create a basic set of states and some cities in them\n",
    "cities = {\n",
    "    'CA': 'San Francisco',\n",
    "    'MI': 'Detroit',\n",
    "    'FL': 'Jacksonville'\n",
    "}\n",
    "\n",
    "# add some more cities \n",
    "cities['NY'] = 'New York'\n",
    "cities['OR'] = 'Portland'\n",
    "\n",
    "# print out some cities\n",
    "print('-' * 10)\n",
    "print(\"NY State has: \", cities['NY'])\n",
    "print(\"Florida's abbreviation is\", states['Florida'])\n",
    "\n",
    "# do it by using the state then cities dict\n",
    "print('-' * 10)\n",
    "print('Michigan has: ', cities[states['Michigan']])\n",
    "print(\"Florida has: \", cities[states['Florida']])\n",
    "\n",
    "# print every state abbreviation\n",
    "print('-' * 10)\n",
    "for state, abbrev in list(states.items()):\n",
    "    print(f\"{state} is abbreviated {abbrev}\")\n",
    "    \n",
    "# print every city in state \n",
    "print('-' * 10)\n",
    "for abbrev, city in list(states.items()):\n",
    "    print(f\"{state} state is abbreviated {abbrev}\")\n",
    "    \n",
    "# new do both at the same time \n",
    "print('-' * 10)\n",
    "for state, abbrev in list(states.items()):\n",
    "    print(f\"{state} state is abbreviated {abbrev}\")\n",
    "    print(f\"and has city {cities[abbrev]}\")\n",
    "    \n",
    "print('-' * 10)\n",
    "# safely get a abbreviation by state that might not be there\n",
    "state = states.get('Texas')\n",
    "\n",
    "if not state:\n",
    "    print(\"Sorry, no Texas.\")\n",
    "    \n",
    "# get a city with a default value\n",
    "city = cities.get('TX', 'Does Not Exist')\n",
    "print(f\"The city for the state 'TX' is: {city}\")\n"
   ]
  },
  {
   "cell_type": "code",
   "execution_count": 1,
   "id": "technical-mambo",
   "metadata": {},
   "outputs": [
    {
     "name": "stdout",
     "output_type": "stream",
     "text": [
      "<__main__.String object at 0x10376d970>\n"
     ]
    }
   ],
   "source": [
    "class String:\n",
    "    def __init__(self, string):\n",
    "        self.string = string\n",
    "        \n",
    "if __name__ == '__main__':\n",
    "    string1 = String('Hello')\n",
    "    \n",
    "    print(string1)"
   ]
  },
  {
   "cell_type": "code",
   "execution_count": 2,
   "id": "premium-walter",
   "metadata": {},
   "outputs": [
    {
     "name": "stdout",
     "output_type": "stream",
     "text": [
      "Object: Hello\n"
     ]
    }
   ],
   "source": [
    "class String:\n",
    "    def __init__(self, string):\n",
    "        self.string = string\n",
    "        \n",
    "    def __repr__(self):\n",
    "        return 'Object: {}'.format(self.string)\n",
    "    \n",
    "if __name__ == '__main__':\n",
    "    string1 = String('Hello')\n",
    "    print(string1)"
   ]
  },
  {
   "cell_type": "code",
   "execution_count": 4,
   "id": "utility-elimination",
   "metadata": {},
   "outputs": [
    {
     "name": "stdout",
     "output_type": "stream",
     "text": [
      "Hello world\n"
     ]
    }
   ],
   "source": [
    "class String:\n",
    "    def __init__(self, string):\n",
    "        self.string = string\n",
    "    def __repr__(self):\n",
    "        return 'Object: {}'.format(self.string)\n",
    "    def __add__(self,other):\n",
    "        return self.string + other\n",
    "    \n",
    "if __name__ == '__main__':\n",
    "    \n",
    "    string1 = String('Hello')\n",
    "    \n",
    "    print(string1 + ' world')"
   ]
  },
  {
   "cell_type": "code",
   "execution_count": 5,
   "id": "alternate-roommate",
   "metadata": {},
   "outputs": [
    {
     "name": "stdout",
     "output_type": "stream",
     "text": [
      "5\n",
      "5\n"
     ]
    }
   ],
   "source": [
    "nums = [1,2,3,4,5]\n",
    "print(len(nums))\n",
    "print(nums.__len__())"
   ]
  },
  {
   "cell_type": "code",
   "execution_count": 7,
   "id": "delayed-context",
   "metadata": {},
   "outputs": [
    {
     "name": "stdout",
     "output_type": "stream",
     "text": [
      "Invoice from Google for 500\n",
      "Invoice(Google,500)\n"
     ]
    }
   ],
   "source": [
    "class Invoice:\n",
    "    def __init__(self,client,total):\n",
    "        self.client = client\n",
    "        self.total = total\n",
    "    def __str__(self):\n",
    "        return f\"Invoice from {self.client} for {self.total}\"\n",
    "    def __repr__(self):\n",
    "        return f\"Invoice({self.client},{self.total})\"\n",
    "    \n",
    "inv = Invoice('Google', 500)\n",
    "print(str(inv))\n",
    "print(repr(inv))"
   ]
  },
  {
   "cell_type": "code",
   "execution_count": 10,
   "id": "voluntary-newspaper",
   "metadata": {},
   "outputs": [],
   "source": [
    "a = 2\n",
    "b = 4"
   ]
  },
  {
   "cell_type": "code",
   "execution_count": 11,
   "id": "exposed-philip",
   "metadata": {},
   "outputs": [
    {
     "data": {
      "text/plain": [
       "6"
      ]
     },
     "execution_count": 11,
     "metadata": {},
     "output_type": "execute_result"
    }
   ],
   "source": [
    "a + b"
   ]
  },
  {
   "cell_type": "code",
   "execution_count": 12,
   "id": "earned-civilian",
   "metadata": {},
   "outputs": [
    {
     "data": {
      "text/plain": [
       "6"
      ]
     },
     "execution_count": 12,
     "metadata": {},
     "output_type": "execute_result"
    }
   ],
   "source": [
    "a.__add__(b)"
   ]
  },
  {
   "cell_type": "code",
   "execution_count": 17,
   "id": "nasty-scottish",
   "metadata": {},
   "outputs": [
    {
     "data": {
      "text/plain": [
       "False"
      ]
     },
     "execution_count": 17,
     "metadata": {},
     "output_type": "execute_result"
    }
   ],
   "source": [
    "a.__eq__(b)"
   ]
  },
  {
   "cell_type": "code",
   "execution_count": 2,
   "id": "round-velvet",
   "metadata": {},
   "outputs": [
    {
     "data": {
      "text/plain": [
       "6"
      ]
     },
     "execution_count": 2,
     "metadata": {},
     "output_type": "execute_result"
    }
   ],
   "source": [
    "2 + 4"
   ]
  },
  {
   "cell_type": "code",
   "execution_count": 3,
   "id": "stock-cowboy",
   "metadata": {},
   "outputs": [
    {
     "name": "stdout",
     "output_type": "stream",
     "text": [
      "Hallo\n"
     ]
    }
   ],
   "source": [
    "print(\"Hallo\")"
   ]
  },
  {
   "cell_type": "code",
   "execution_count": 6,
   "id": "innocent-blood",
   "metadata": {},
   "outputs": [
    {
     "name": "stdout",
     "output_type": "stream",
     "text": [
      "4\n"
     ]
    }
   ],
   "source": [
    "def add(a, b):\n",
    "    return a + b\n",
    "\n",
    "\n",
    "print(add(1,3))"
   ]
  },
  {
   "cell_type": "code",
   "execution_count": 7,
   "id": "simple-nebraska",
   "metadata": {},
   "outputs": [
    {
     "name": "stdout",
     "output_type": "stream",
     "text": [
      "Hallo\n"
     ]
    }
   ],
   "source": [
    "a = 2\n",
    "b = 3\n",
    "if a < b:\n",
    "    print(\"Hallo\")"
   ]
  },
  {
   "cell_type": "code",
   "execution_count": 70,
   "id": "exposed-baseball",
   "metadata": {},
   "outputs": [],
   "source": [
    "class Dog:\n",
    "    species = \"Canis familiaris\"\n",
    "    \n",
    "    def __init__(self, name, age):\n",
    "        self.name = name\n",
    "        self.age = age\n",
    "        \n",
    "    def __str__(self):\n",
    "        return \"\" + self.name + \" \" + str(self.age)\n",
    "    \n",
    "    def __repr__(self):\n",
    "        return 2"
   ]
  },
  {
   "cell_type": "code",
   "execution_count": 71,
   "id": "incorrect-organizer",
   "metadata": {},
   "outputs": [],
   "source": [
    "bobby = Dog(\"bobby\", 2)"
   ]
  },
  {
   "cell_type": "code",
   "execution_count": 72,
   "id": "confirmed-crowd",
   "metadata": {},
   "outputs": [
    {
     "name": "stdout",
     "output_type": "stream",
     "text": [
      "bobby 2\n"
     ]
    }
   ],
   "source": [
    "print(bobby.name, bobby.age)"
   ]
  },
  {
   "cell_type": "code",
   "execution_count": 73,
   "id": "parliamentary-tissue",
   "metadata": {},
   "outputs": [
    {
     "name": "stdout",
     "output_type": "stream",
     "text": [
      "bobby 2\n"
     ]
    }
   ],
   "source": [
    "print(Dog(\"bobby\", 2))"
   ]
  },
  {
   "cell_type": "code",
   "execution_count": 74,
   "id": "divided-quantum",
   "metadata": {},
   "outputs": [],
   "source": [
    "age = bobby.__repr__()"
   ]
  },
  {
   "cell_type": "code",
   "execution_count": 75,
   "id": "opponent-payroll",
   "metadata": {},
   "outputs": [
    {
     "name": "stdout",
     "output_type": "stream",
     "text": [
      "2\n"
     ]
    }
   ],
   "source": [
    "print(age)"
   ]
  },
  {
   "cell_type": "code",
   "execution_count": 76,
   "id": "likely-desire",
   "metadata": {},
   "outputs": [
    {
     "data": {
      "text/plain": [
       "4"
      ]
     },
     "execution_count": 76,
     "metadata": {},
     "output_type": "execute_result"
    }
   ],
   "source": [
    "age + 2 "
   ]
  },
  {
   "cell_type": "code",
   "execution_count": 79,
   "id": "trained-folder",
   "metadata": {},
   "outputs": [
    {
     "name": "stdout",
     "output_type": "stream",
     "text": [
      "['ben', 'max', 'jakob']\n"
     ]
    }
   ],
   "source": [
    "list = [\"jakob\", 'max', 'ben']\n",
    "list.reverse()\n",
    "print(list)"
   ]
  },
  {
   "cell_type": "code",
   "execution_count": 80,
   "id": "roman-remainder",
   "metadata": {},
   "outputs": [],
   "source": [
    "a, b, c = list"
   ]
  },
  {
   "cell_type": "code",
   "execution_count": 81,
   "id": "traditional-jersey",
   "metadata": {},
   "outputs": [
    {
     "name": "stdout",
     "output_type": "stream",
     "text": [
      "ben\n"
     ]
    }
   ],
   "source": [
    "print(a)"
   ]
  },
  {
   "cell_type": "code",
   "execution_count": 82,
   "id": "forward-cement",
   "metadata": {},
   "outputs": [
    {
     "name": "stdout",
     "output_type": "stream",
     "text": [
      "max\n"
     ]
    }
   ],
   "source": [
    "print(b)"
   ]
  },
  {
   "cell_type": "code",
   "execution_count": 83,
   "id": "compact-upgrade",
   "metadata": {},
   "outputs": [
    {
     "name": "stdout",
     "output_type": "stream",
     "text": [
      "jakob\n"
     ]
    }
   ],
   "source": [
    "print(c)"
   ]
  },
  {
   "cell_type": "code",
   "execution_count": 84,
   "id": "comparable-conditions",
   "metadata": {},
   "outputs": [
    {
     "name": "stdout",
     "output_type": "stream",
     "text": [
      "45\n"
     ]
    }
   ],
   "source": [
    "print(sum(i for i in range(10)))"
   ]
  },
  {
   "cell_type": "code",
   "execution_count": 94,
   "id": "serious-operation",
   "metadata": {},
   "outputs": [
    {
     "name": "stdout",
     "output_type": "stream",
     "text": [
      "{(2000, 'February', 23), (1999, 'January', 12), (2002, 'December', 10), (2001, 'May', 24)}\n"
     ]
    }
   ],
   "source": [
    "Year = (1999, 2000, 2001, 2002)\n",
    "Month = (\"January\", \"February\", \"May\", \"December\")\n",
    "Day = (12, 23, 24, 10)\n",
    "result = zip(Year, Month, Day)\n",
    "print(set(result))"
   ]
  },
  {
   "cell_type": "code",
   "execution_count": 95,
   "id": "favorite-twelve",
   "metadata": {},
   "outputs": [
    {
     "name": "stdout",
     "output_type": "stream",
     "text": [
      "12\n",
      "13\n"
     ]
    }
   ],
   "source": [
    "x,y = 12, 13\n",
    "print(x)\n",
    "print(y)"
   ]
  },
  {
   "cell_type": "code",
   "execution_count": 96,
   "id": "preceding-bargain",
   "metadata": {},
   "outputs": [
    {
     "name": "stdout",
     "output_type": "stream",
     "text": [
      "13\n",
      "12\n"
     ]
    }
   ],
   "source": [
    "x,y = y,x\n",
    "print(x)\n",
    "print(y)"
   ]
  },
  {
   "cell_type": "code",
   "execution_count": 98,
   "id": "graduate-national",
   "metadata": {},
   "outputs": [
    {
     "name": "stdout",
     "output_type": "stream",
     "text": [
      "{(2, 4, 6), (1, 3, 5)}\n"
     ]
    }
   ],
   "source": [
    "x = [[1,2],[3,4],[5,6]]\n",
    "print(set(zip(*x)))"
   ]
  },
  {
   "cell_type": "code",
   "execution_count": 99,
   "id": "ordinary-blocking",
   "metadata": {},
   "outputs": [
    {
     "data": {
      "text/plain": [
       "[3, 2, 1]"
      ]
     },
     "execution_count": 99,
     "metadata": {},
     "output_type": "execute_result"
    }
   ],
   "source": [
    "list = [1,2,3]\n",
    "list[::-1]"
   ]
  },
  {
   "cell_type": "code",
   "execution_count": null,
   "id": "stupid-attention",
   "metadata": {},
   "outputs": [],
   "source": []
  }
 ],
 "metadata": {
  "kernelspec": {
   "display_name": "Python 3",
   "language": "python",
   "name": "python3"
  },
  "language_info": {
   "codemirror_mode": {
    "name": "ipython",
    "version": 3
   },
   "file_extension": ".py",
   "mimetype": "text/x-python",
   "name": "python",
   "nbconvert_exporter": "python",
   "pygments_lexer": "ipython3",
   "version": "3.8.2"
  }
 },
 "nbformat": 4,
 "nbformat_minor": 5
}
