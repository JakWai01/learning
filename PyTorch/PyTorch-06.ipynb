{
 "cells": [
  {
   "cell_type": "markdown",
   "id": "5a5feb16",
   "metadata": {},
   "source": [
    "# Optimizing Model Parameters"
   ]
  },
  {
   "cell_type": "markdown",
   "id": "fce03701",
   "metadata": {},
   "source": [
    "- validate and testing model by optimizing its parameters\n",
    "- iterative process (each iteration is called epoch)\n",
    "- Process\n",
    "    - Guess about output\n",
    "    - Calculate loss\n",
    "    - Collect derivatives of the error with respect to its parameters\n",
    "    - Optimize these parameters using gradient descent"
   ]
  },
  {
   "cell_type": "markdown",
   "id": "fbfd8db4",
   "metadata": {},
   "source": [
    "## Prequisite Code"
   ]
  },
  {
   "cell_type": "code",
   "execution_count": 2,
   "id": "52356422",
   "metadata": {},
   "outputs": [],
   "source": [
    "import torch\n",
    "from torch import nn\n",
    "from torch.utils.data import DataLoader\n",
    "from torchvision import datasets\n",
    "from torchvision.transforms import ToTensor, Lambda\n",
    "\n",
    "training_data = datasets.FashionMNIST(\n",
    "    root=\"data\",\n",
    "    train=True,\n",
    "    download=True,\n",
    "    transform=ToTensor()\n",
    ")\n",
    "\n",
    "test_data = datasets.FashionMNIST(\n",
    "    root=\"data\",\n",
    "    train=False,\n",
    "    download=True,\n",
    "    transform=ToTensor()\n",
    ")\n",
    "\n",
    "train_dataloader = DataLoader(training_data, batch_size=64)\n",
    "test_dataloader = DataLoader(test_data, batch_size=64)\n",
    "\n",
    "class NeuralNetwork(nn.Module):\n",
    "    def __init__(self):\n",
    "        super(NeuralNetwork, self).__init__()\n",
    "        self.flatten = nn.Flatten()\n",
    "        self.linear_relu_stack = nn.Sequential(\n",
    "            nn.Linear(28*28, 512),\n",
    "            nn.ReLU(),\n",
    "            nn.Linear(512,512),\n",
    "            nn.ReLU(),\n",
    "            nn.Linear(512,10),\n",
    "            nn.ReLU()\n",
    "        )\n",
    "        \n",
    "    def forward(self, x):\n",
    "        x = self.flatten(x)\n",
    "        logits = self.linear_relu_stack(x)\n",
    "        return logits\n",
    "    \n",
    "model = NeuralNetwork()"
   ]
  },
  {
   "cell_type": "markdown",
   "id": "fa2555bd",
   "metadata": {},
   "source": [
    "## Hyperparameters"
   ]
  },
  {
   "cell_type": "markdown",
   "id": "be0abef4",
   "metadata": {},
   "source": [
    "Hyperparameters are adjustable parameters that let you control the model optimization process. Different hyperparameter values can impact model training and convergence rates."
   ]
  },
  {
   "cell_type": "markdown",
   "id": "e2c639ab",
   "metadata": {},
   "source": [
    "We define the following hyperparameters for the training:\n",
    "- **Number of Epochs** - the number times to iterate over the dataset\n",
    "- **Batch Size** - the number of data samples propagated through the network before the parameters are updated\n",
    "- **Learning Rate** - how much to update models parameters at each batch/epoch. Smaller values yield slow learning speed, while large values may result in unpredictable behaviour during training."
   ]
  },
  {
   "cell_type": "code",
   "execution_count": 3,
   "id": "f58838a8",
   "metadata": {},
   "outputs": [],
   "source": [
    "learning_rate = 1e-3\n",
    "batch_size = 64\n",
    "epochs = 5"
   ]
  },
  {
   "cell_type": "markdown",
   "id": "9c0ca47c",
   "metadata": {},
   "source": [
    "## Optimization Loop"
   ]
  },
  {
   "cell_type": "markdown",
   "id": "25d52d58",
   "metadata": {},
   "source": [
    "Once we set our hyperparameters, we can then train and optimize our model with an optimization loop. Each iteration of the optimization loop is called an epoch. \n",
    "\n",
    "Each epoch consists of two main parts:\n",
    "- **The Train Loop** - iterate over the training dataset and try to converge to optimal parameters.\n",
    "- **The Validation/Test Loop** - iterate over the test dataset to check if model performance is impoving."
   ]
  },
  {
   "cell_type": "markdown",
   "id": "2373d023",
   "metadata": {},
   "source": [
    "## Loss Function"
   ]
  },
  {
   "cell_type": "markdown",
   "id": "02d4897d",
   "metadata": {},
   "source": [
    "When presented with some training data, our untrained network is likely not to give the correct answer. **Loss function** measures the degree of dissimilarity of obtained results to the target value, and it is the loss function that we want to minimize during training. To calculate the loss we make a prediction using the inputs of our given data sample and compare it against the true data label value."
   ]
  },
  {
   "cell_type": "markdown",
   "id": "1dd0516c",
   "metadata": {},
   "source": [
    "Common loss functions incluse `nn.MSELoss` (Mean Square Error) for regression tasks, and `nn.NLLLoss` (Negative Log Likelihood) for classification. `nn.CrossEntropyLoss` combines `nn.LogSoftmax` and `nn.NLLLoss`."
   ]
  },
  {
   "cell_type": "markdown",
   "id": "e86dd3d0",
   "metadata": {},
   "source": [
    "We pass our model's output logits to run `nn.CrossEntropyLoss`, which will normalize the logits and compute the prediction error."
   ]
  },
  {
   "cell_type": "code",
   "execution_count": 4,
   "id": "bf3188f7",
   "metadata": {},
   "outputs": [],
   "source": [
    "# Initialize the loss function\n",
    "loss_fn = nn.CrossEntropyLoss()"
   ]
  },
  {
   "cell_type": "markdown",
   "id": "346772a2",
   "metadata": {},
   "source": [
    "## Optimizer"
   ]
  },
  {
   "cell_type": "markdown",
   "id": "a6b13f88",
   "metadata": {},
   "source": [
    "Optimization is the process of adjusting model parameters to reduce model error in each training step. **Optimization algorithms** define how this process is performed (in this example we use Stochastic Gradient Descent). All optimization logic is encapsulated in the `optimizer` object. Here, we use the SGD optimizer; additionally, there are many different optimizers available in PyTorch such as ADAM and RMSProp, that work better for different kinds of models and data."
   ]
  },
  {
   "cell_type": "markdown",
   "id": "bde279a8",
   "metadata": {},
   "source": [
    "We initizalize the optimizer by registering the model's parameters that need to be trained, and passing in the learning rate hyperparameter."
   ]
  },
  {
   "cell_type": "code",
   "execution_count": 5,
   "id": "2bf3bc00",
   "metadata": {},
   "outputs": [],
   "source": [
    "optimizer = torch.optim.SGD(model.parameters(), lr=learning_rate)"
   ]
  },
  {
   "cell_type": "markdown",
   "id": "beaa86de",
   "metadata": {},
   "source": [
    "Inside the training loop, optimization happens in three step:\n",
    "- Call `optimizer.zero_grad()` to reset the gradients of model parameters. Gradients by default add up; to prevent double-counting, we explicitly zero them at each iteration.\n",
    "- Backpropagate the prediction loss with a call to `loss.backwards()`. PyTorch deposits the gradients of the loss w.r.t each parameter.\n",
    "- Once we have our gradients, we call `optimizer.step()` to adjust the parameters by the gradients collected in the backward pass."
   ]
  },
  {
   "cell_type": "markdown",
   "id": "814263e9",
   "metadata": {},
   "source": [
    "## Full Implementation"
   ]
  },
  {
   "cell_type": "markdown",
   "id": "9966601f",
   "metadata": {},
   "source": [
    "We define `train_loop` that loops over our optimization code, and `test_loop` that evaluates the model's performance against our data."
   ]
  },
  {
   "cell_type": "code",
   "execution_count": 6,
   "id": "be598a00",
   "metadata": {},
   "outputs": [],
   "source": [
    "def train_loop(dataloader, model, loss_fn, optimizer):\n",
    "    size = len(dataloader.dataset)\n",
    "    for batch, (X, y) in enumerate(dataloader):\n",
    "        # Compute prediction and loss\n",
    "        pred = model(X)\n",
    "        loss = loss_fn(pred, y)\n",
    "        \n",
    "        # Backpropagation\n",
    "        optimizer.zero_grad()\n",
    "        loss.backward()\n",
    "        optimizer.step()\n",
    "        \n",
    "        if batch % 100 == 0:\n",
    "            loss, current = loss.item(), batch * len(X)\n",
    "            print(f\"loss: {loss:>7f}    [{current:>5d}/{size:>5d}]\")\n",
    "            \n",
    "def test_loop(dataloader, model, loss_fn):\n",
    "    size = len(dataloader.dataset)\n",
    "    test_loss, correct = 0, 0 \n",
    "\n",
    "    with torch.no_grad():\n",
    "        for X, y in dataloader:\n",
    "            pred = model(X)\n",
    "            test_loss += loss_fn(pred, y).item()\n",
    "            correct += (pred.argmax(1) == y).type(torch.float).sum().item()\n",
    "            \n",
    "    test_loss /= size\n",
    "    correct /= size\n",
    "    print(f\"Test Error: \\n Accuracy: {(100*correct):>0.1f}%, Avg loss: {test_loss:>8f} \\n\")"
   ]
  },
  {
   "cell_type": "markdown",
   "id": "7c98750b",
   "metadata": {},
   "source": [
    "We initialize the loss function and optimizer, and pass it to `train_loop` and `test_loop`. Feel free to increase the number of epichs to track the model's improving performance."
   ]
  },
  {
   "cell_type": "code",
   "execution_count": 7,
   "id": "cebeab2e",
   "metadata": {},
   "outputs": [
    {
     "name": "stdout",
     "output_type": "stream",
     "text": [
      "Epoch 1\n",
      "-------------------------------\n",
      "loss: 2.298001    [    0/60000]\n",
      "loss: 2.295189    [ 6400/60000]\n",
      "loss: 2.281959    [12800/60000]\n",
      "loss: 2.272343    [19200/60000]\n",
      "loss: 2.286216    [25600/60000]\n",
      "loss: 2.251794    [32000/60000]\n",
      "loss: 2.257336    [38400/60000]\n",
      "loss: 2.243258    [44800/60000]\n",
      "loss: 2.225271    [51200/60000]\n",
      "loss: 2.214068    [57600/60000]\n",
      "Test Error: \n",
      " Accuracy: 45.0%, Avg loss: 0.034867 \n",
      "\n",
      "Epoch 2\n",
      "-------------------------------\n",
      "loss: 2.229494    [    0/60000]\n",
      "loss: 2.238868    [ 6400/60000]\n",
      "loss: 2.194725    [12800/60000]\n",
      "loss: 2.178675    [19200/60000]\n",
      "loss: 2.224717    [25600/60000]\n",
      "loss: 2.160390    [32000/60000]\n",
      "loss: 2.170206    [38400/60000]\n",
      "loss: 2.146972    [44800/60000]\n",
      "loss: 2.108452    [51200/60000]\n",
      "loss: 2.090030    [57600/60000]\n",
      "Test Error: \n",
      " Accuracy: 50.9%, Avg loss: 0.033066 \n",
      "\n",
      "Epoch 3\n",
      "-------------------------------\n",
      "loss: 2.133033    [    0/60000]\n",
      "loss: 2.153128    [ 6400/60000]\n",
      "loss: 2.061239    [12800/60000]\n",
      "loss: 2.026456    [19200/60000]\n",
      "loss: 2.128087    [25600/60000]\n",
      "loss: 2.013195    [32000/60000]\n",
      "loss: 2.014380    [38400/60000]\n",
      "loss: 1.971563    [44800/60000]\n",
      "loss: 1.928476    [51200/60000]\n",
      "loss: 1.875363    [57600/60000]\n",
      "Test Error: \n",
      " Accuracy: 47.9%, Avg loss: 0.029984 \n",
      "\n",
      "Epoch 4\n",
      "-------------------------------\n",
      "loss: 1.974022    [    0/60000]\n",
      "loss: 1.987107    [ 6400/60000]\n",
      "loss: 1.823755    [12800/60000]\n",
      "loss: 1.789873    [19200/60000]\n",
      "loss: 1.912591    [25600/60000]\n",
      "loss: 1.753688    [32000/60000]\n",
      "loss: 1.783267    [38400/60000]\n",
      "loss: 1.722142    [44800/60000]\n",
      "loss: 1.728144    [51200/60000]\n",
      "loss: 1.621310    [57600/60000]\n",
      "Test Error: \n",
      " Accuracy: 56.1%, Avg loss: 0.026459 \n",
      "\n",
      "Epoch 5\n",
      "-------------------------------\n",
      "loss: 1.790969    [    0/60000]\n",
      "loss: 1.790709    [ 6400/60000]\n",
      "loss: 1.585449    [12800/60000]\n",
      "loss: 1.572946    [19200/60000]\n",
      "loss: 1.693085    [25600/60000]\n",
      "loss: 1.518176    [32000/60000]\n",
      "loss: 1.581244    [38400/60000]\n",
      "loss: 1.524539    [44800/60000]\n",
      "loss: 1.567565    [51200/60000]\n",
      "loss: 1.432313    [57600/60000]\n",
      "Test Error: \n",
      " Accuracy: 57.4%, Avg loss: 0.023702 \n",
      "\n",
      "Epoch 6\n",
      "-------------------------------\n",
      "loss: 1.638682    [    0/60000]\n",
      "loss: 1.633408    [ 6400/60000]\n",
      "loss: 1.412464    [12800/60000]\n",
      "loss: 1.416806    [19200/60000]\n",
      "loss: 1.510310    [25600/60000]\n",
      "loss: 1.358072    [32000/60000]\n",
      "loss: 1.433809    [38400/60000]\n",
      "loss: 1.394079    [44800/60000]\n",
      "loss: 1.445210    [51200/60000]\n",
      "loss: 1.306132    [57600/60000]\n",
      "Test Error: \n",
      " Accuracy: 58.2%, Avg loss: 0.021718 \n",
      "\n",
      "Epoch 7\n",
      "-------------------------------\n",
      "loss: 1.520192    [    0/60000]\n",
      "loss: 1.524723    [ 6400/60000]\n",
      "loss: 1.289725    [12800/60000]\n",
      "loss: 1.303328    [19200/60000]\n",
      "loss: 1.377053    [25600/60000]\n",
      "loss: 1.248718    [32000/60000]\n",
      "loss: 1.328542    [38400/60000]\n",
      "loss: 1.303976    [44800/60000]\n",
      "loss: 1.352701    [51200/60000]\n",
      "loss: 1.218250    [57600/60000]\n",
      "Test Error: \n",
      " Accuracy: 59.1%, Avg loss: 0.020295 \n",
      "\n",
      "Epoch 8\n",
      "-------------------------------\n",
      "loss: 1.427664    [    0/60000]\n",
      "loss: 1.446277    [ 6400/60000]\n",
      "loss: 1.197618    [12800/60000]\n",
      "loss: 1.219508    [19200/60000]\n",
      "loss: 1.284254    [25600/60000]\n",
      "loss: 1.169632    [32000/60000]\n",
      "loss: 1.254581    [38400/60000]\n",
      "loss: 1.239453    [44800/60000]\n",
      "loss: 1.282828    [51200/60000]\n",
      "loss: 1.156950    [57600/60000]\n",
      "Test Error: \n",
      " Accuracy: 60.2%, Avg loss: 0.019267 \n",
      "\n",
      "Epoch 9\n",
      "-------------------------------\n",
      "loss: 1.355068    [    0/60000]\n",
      "loss: 1.387573    [ 6400/60000]\n",
      "loss: 1.126770    [12800/60000]\n",
      "loss: 1.155064    [19200/60000]\n",
      "loss: 1.220815    [25600/60000]\n",
      "loss: 1.108543    [32000/60000]\n",
      "loss: 1.202071    [38400/60000]\n",
      "loss: 1.192119    [44800/60000]\n",
      "loss: 1.228925    [51200/60000]\n",
      "loss: 1.113039    [57600/60000]\n",
      "Test Error: \n",
      " Accuracy: 61.2%, Avg loss: 0.018506 \n",
      "\n",
      "Epoch 10\n",
      "-------------------------------\n",
      "loss: 1.298415    [    0/60000]\n",
      "loss: 1.345103    [ 6400/60000]\n",
      "loss: 1.071892    [12800/60000]\n",
      "loss: 1.104726    [19200/60000]\n",
      "loss: 1.176657    [25600/60000]\n",
      "loss: 1.061706    [32000/60000]\n",
      "loss: 1.162807    [38400/60000]\n",
      "loss: 1.155708    [44800/60000]\n",
      "loss: 1.185399    [51200/60000]\n",
      "loss: 1.080429    [57600/60000]\n",
      "Test Error: \n",
      " Accuracy: 62.4%, Avg loss: 0.017919 \n",
      "\n",
      "Done!\n"
     ]
    }
   ],
   "source": [
    "loss_fn = nn.CrossEntropyLoss()\n",
    "optimizer = torch.optim.SGD(model.parameters(), lr=learning_rate)\n",
    "\n",
    "epochs = 10\n",
    "\n",
    "for t in range(epochs):\n",
    "    print(f\"Epoch {t+1}\\n-------------------------------\")\n",
    "    train_loop(train_dataloader, model, loss_fn, optimizer)\n",
    "    test_loop(test_dataloader, model, loss_fn)\n",
    "print(\"Done!\")"
   ]
  }
 ],
 "metadata": {
  "kernelspec": {
   "display_name": "Python 3",
   "language": "python",
   "name": "python3"
  },
  "language_info": {
   "codemirror_mode": {
    "name": "ipython",
    "version": 3
   },
   "file_extension": ".py",
   "mimetype": "text/x-python",
   "name": "python",
   "nbconvert_exporter": "python",
   "pygments_lexer": "ipython3",
   "version": "3.8.6"
  }
 },
 "nbformat": 4,
 "nbformat_minor": 5
}
