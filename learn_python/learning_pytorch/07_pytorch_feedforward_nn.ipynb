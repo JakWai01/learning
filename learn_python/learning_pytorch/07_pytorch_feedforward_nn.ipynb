{
 "cells": [
  {
   "cell_type": "markdown",
   "metadata": {},
   "source": [
    "# Training Deep Neural Networks on a GPU"
   ]
  },
  {
   "cell_type": "markdown",
   "metadata": {},
   "source": [
    "In the previous notebook, we trained a logistic regression model to identify handwritten digits from the MNIST dataset with an accuracy of around 86%.\n",
    "\n",
    "![](https://cdn-images-1.medium.com/max/1600/1*q2nyeRU8uvjPeKpo_lMXgQ.jpeg)"
   ]
  },
  {
   "cell_type": "markdown",
   "metadata": {},
   "source": [
    "Howerver, we also noticed that it's quite difficult to improve the accuracy beyond 87%, due to the limited power of the model. In this post, we'll try to improve upon it using a feedforward neural network."
   ]
  },
  {
   "cell_type": "markdown",
   "metadata": {},
   "source": [
    "## Preparing the Data"
   ]
  },
  {
   "cell_type": "markdown",
   "metadata": {},
   "source": [
    "The data preparation is identical to the previous tutorial. We begin by importing the required modules & classes."
   ]
  },
  {
   "cell_type": "code",
   "execution_count": 1,
   "metadata": {},
   "outputs": [],
   "source": [
    "import torch\n",
    "import numpy as np\n",
    "import torchvision\n",
    "from torchvision.datasets import MNIST\n",
    "from torchvision.transforms import ToTensor\n",
    "from torch.utils.data.sampler import SubsetRandomSampler\n",
    "from torch.utils.data.dataloader import DataLoader"
   ]
  },
  {
   "cell_type": "markdown",
   "metadata": {},
   "source": [
    "We download the data and create a PyTorch dataset using the `MNIST` class from `torchvision.datasets`."
   ]
  },
  {
   "cell_type": "code",
   "execution_count": 2,
   "metadata": {},
   "outputs": [],
   "source": [
    "dataset = MNIST(root='data/', download=True, transform=ToTensor())"
   ]
  },
  {
   "cell_type": "code",
   "execution_count": 3,
   "metadata": {},
   "outputs": [
    {
     "data": {
      "text/plain": [
       "(torch.Size([1, 28, 28]), 5)"
      ]
     },
     "execution_count": 3,
     "metadata": {},
     "output_type": "execute_result"
    }
   ],
   "source": [
    "img, label = dataset[0]\n",
    "img.shape, label"
   ]
  },
  {
   "cell_type": "code",
   "execution_count": 4,
   "metadata": {},
   "outputs": [
    {
     "data": {
      "text/plain": [
       "<matplotlib.image.AxesImage at 0x7f28d95868b0>"
      ]
     },
     "execution_count": 4,
     "metadata": {},
     "output_type": "execute_result"
    },
    {
     "data": {
      "image/png": "[encoded data removed]",
      "text/plain": [
       "<Figure size 432x288 with 1 Axes>"
      ]
     },
     "metadata": {
      "needs_background": "light"
     },
     "output_type": "display_data"
    }
   ],
   "source": [
    "import matplotlib.pyplot as plt\n",
    "# somehow it works even without matplotlib inline\n",
    "%matplotlib inline\n",
    "plt.imshow(img[0])"
   ]
  },
  {
   "cell_type": "code",
   "execution_count": 5,
   "metadata": {},
   "outputs": [
    {
     "data": {
      "text/plain": [
       "tensor([[0.0039, 0.6039, 0.9922, 0.3529, 0.0000],\n",
       "        [0.0000, 0.5451, 0.9922, 0.7451, 0.0078],\n",
       "        [0.0000, 0.0431, 0.7451, 0.9922, 0.2745],\n",
       "        [0.0000, 0.0000, 0.1373, 0.9451, 0.8824],\n",
       "        [0.0000, 0.0000, 0.0000, 0.3176, 0.9412]])"
      ]
     },
     "execution_count": 5,
     "metadata": {},
     "output_type": "execute_result"
    }
   ],
   "source": [
    "img[0,10:15,10:15]"
   ]
  },
  {
   "cell_type": "markdown",
   "metadata": {},
   "source": [
    "Next, we define and use a function `split_indices` to pick a random 20% fraction of the images for the validation set."
   ]
  },
  {
   "cell_type": "code",
   "execution_count": 6,
   "metadata": {},
   "outputs": [],
   "source": [
    "def split_indices(n, val_pct):\n",
    "    # Determine size of validation set\n",
    "    n_val = int(val_pct*n)\n",
    "    # Create random permutation of 0 to n-1\n",
    "    idxs = np.random.permutation(n)\n",
    "    # Pick first n_val indices for validation set\n",
    "    return idxs[n_val:], idxs[:n_val]"
   ]
  },
  {
   "cell_type": "code",
   "execution_count": 7,
   "metadata": {},
   "outputs": [
    {
     "name": "stdout",
     "output_type": "stream",
     "text": [
      "48000 12000\n",
      "Sample val indices: [37826 57374 14981 41594 21561 25680 40224   288 51343 48398 19178 45271\n",
      " 50954  6905 11080 42655  8193 39267 30099 45391]\n"
     ]
    }
   ],
   "source": [
    "train_indices, val_indices = split_indices(len(dataset), val_pct=0.2)\n",
    "\n",
    "print(len(train_indices), len(val_indices))\n",
    "print('Sample val indices:', val_indices[:20])"
   ]
  },
  {
   "cell_type": "markdown",
   "metadata": {},
   "source": [
    "We can now create PyTorch data loaders for each of the subsets using a `SubsetRandomSampler`, which samples elements randomly from a give list of indices, while creating batches of data."
   ]
  },
  {
   "cell_type": "code",
   "execution_count": 8,
   "metadata": {},
   "outputs": [],
   "source": [
    "batch_size=100\n",
    "\n",
    "# Training sampler and data loader\n",
    "train_sampler = SubsetRandomSampler(train_indices)\n",
    "train_dl = DataLoader(dataset, \n",
    "                     batch_size,\n",
    "                     sampler=train_sampler)\n",
    "\n",
    "# Validation sampler and data loader\n",
    "valid_sampler = SubsetRandomSampler(val_indices)\n",
    "valid_dl = DataLoader(dataset,\n",
    "                     batch_size,\n",
    "                     sampler=valid_sampler)"
   ]
  },
  {
   "cell_type": "markdown",
   "metadata": {},
   "source": [
    "## Model"
   ]
  },
  {
   "cell_type": "markdown",
   "metadata": {},
   "source": [
    "To improve upon logistic regression, we'll create a nerual network with one hidden layer. Here's what this means: \n",
    "\n",
    "- Instead of using a single `nn.Layer` object to transform a batch of inputs (pixel intensities) into a batch of outputs (class probabilites), we'll use two `nn.Linear` objects. Each of these is called a layer in the network.\n",
    "\n",
    "- The first layer (also knows as the hidden layer) will transform the input matrix of shape batch_size x 784 into an intermediate output matrix of shape `batch_size x hidden_size`, where `hidden_size` is a preconfigured parameter (e.g. 32 or 64).\n",
    "\n",
    "- The intermediate outputs are then passed into a non-linear activation function, which operates on individual elements of the output matrix.\n",
    "\n",
    "- The result of the activation function, which is also of size `batch_size x hidden_size`, is passed into the second layer (also known as the output layer), which transforms it into a matrix of size `batch_size` x 10, identical to the output of the logistic regression model."
   ]
  },
  {
   "cell_type": "markdown",
   "metadata": {},
   "source": [
    "Introducing a hiddenlayer and an activation function allows the model to learn more complex, multi-layered nonlinear relationships between the inputs and the targets. Here's what it looks like visually:"
   ]
  },
  {
   "cell_type": "markdown",
   "metadata": {},
   "source": [
    "![](https://i.imgur.com/vDOGEkG.png)"
   ]
  },
  {
   "cell_type": "markdown",
   "metadata": {},
   "source": [
    "The activation function we'll use here is called a *Rectified Linear Unit* or *ReLU*, and it has a really simple formula: `relu(x) = max(0,x)` i.e. if an element is negative, we replace it by 0, otherwhise we leave it unchanged.\n",
    "\n",
    "To define the model, we extend the `nn.Module` class, just as we did with logistic regression."
   ]
  },
  {
   "cell_type": "code",
   "execution_count": 9,
   "metadata": {},
   "outputs": [],
   "source": [
    "import torch.nn.functional as F\n",
    "import torch.nn as nn"
   ]
  },
  {
   "cell_type": "code",
   "execution_count": 10,
   "metadata": {},
   "outputs": [
    {
     "name": "stdout",
     "output_type": "stream",
     "text": [
      "torch.Size([100, 784])\n"
     ]
    }
   ],
   "source": [
    "for xb, yb in train_dl:\n",
    "    # reshape\n",
    "    xb = xb.view(xb.size(0), -1)\n",
    "    \n",
    "    print(xb.shape)\n",
    "    \n",
    "    break"
   ]
  },
  {
   "cell_type": "code",
   "execution_count": 11,
   "metadata": {},
   "outputs": [],
   "source": [
    "class MnistModel(nn.Module):\n",
    "    \"\"\"Feedforward neural network with 1 hidden layer\"\"\"\n",
    "    def __init__(self, in_size, hidden_size, out_size):\n",
    "        super().__init__()\n",
    "        # hidden layer\n",
    "        self.linear1 = nn.Linear(in_size, hidden_size)\n",
    "        # output layer\n",
    "        self.linear2 = nn.Linear(hidden_size, out_size)\n",
    "        \n",
    "    def forward(self, xb):\n",
    "        # Flatten the images tensors\n",
    "        # resize\n",
    "        # sb.size(0) takes 0th argument --> batch_size\n",
    "        # -1 because python will calculate its own value for the give resolution\n",
    "        xb = xb.view(xb.size(0), -1)\n",
    "        # Get intermediate outputs using hidden layer\n",
    "        out = self.linear1(xb)\n",
    "        # Apply activaion function\n",
    "        out = F.relu(out)\n",
    "        # Get predictions using output layer\n",
    "        out = self.linear2(out)\n",
    "        return out"
   ]
  },
  {
   "cell_type": "markdown",
   "metadata": {},
   "source": [
    "We'll create a model that contains a hidden layer with 32 activations."
   ]
  },
  {
   "cell_type": "code",
   "execution_count": 27,
   "metadata": {},
   "outputs": [],
   "source": [
    "input_size = 784\n",
    "hidden_size = 32 # you can change this\n",
    "num_classes = 10\n",
    "\n",
    "model = MnistModel(input_size, hidden_size=32, out_size=num_classes)"
   ]
  },
  {
   "cell_type": "markdown",
   "metadata": {},
   "source": [
    "Let's take a look at the model's parameters. We expect to see one weight and bias matrix for each of the layers."
   ]
  },
  {
   "cell_type": "code",
   "execution_count": 28,
   "metadata": {},
   "outputs": [
    {
     "name": "stdout",
     "output_type": "stream",
     "text": [
      "torch.Size([32, 784])\n",
      "torch.Size([32])\n",
      "torch.Size([10, 32])\n",
      "torch.Size([10])\n"
     ]
    }
   ],
   "source": [
    "for t in model.parameters():\n",
    "    print(t.shape)"
   ]
  },
  {
   "cell_type": "markdown",
   "metadata": {},
   "source": [
    "Let's try and generate some outputs using our model. We'll takethe first batch of 100 images from our dataset, and pass them into our model."
   ]
  },
  {
   "cell_type": "code",
   "execution_count": 29,
   "metadata": {},
   "outputs": [
    {
     "name": "stdout",
     "output_type": "stream",
     "text": [
      "Loss: 2.3259778022766113\n",
      "outputs.shape :  torch.Size([100, 10])\n",
      "Sample outputs :\n",
      " tensor([[ 0.0045,  0.0045, -0.0513,  0.1572, -0.0996,  0.0577, -0.0227, -0.0542,\n",
      "          0.2412,  0.0766],\n",
      "        [-0.1190, -0.0243, -0.1109,  0.2248, -0.1874,  0.0682,  0.0143,  0.0314,\n",
      "          0.2166,  0.1166]])\n"
     ]
    }
   ],
   "source": [
    "for images, labels in train_dl:\n",
    "    outputs = model(images)\n",
    "    loss = F.cross_entropy(outputs, labels)\n",
    "    print('Loss:', loss.item())\n",
    "    break\n",
    "    \n",
    "print('outputs.shape : ', outputs.shape)\n",
    "print('Sample outputs :\\n', outputs[:2].data)"
   ]
  },
  {
   "cell_type": "markdown",
   "metadata": {},
   "source": [
    "## Using a GPU"
   ]
  },
  {
   "cell_type": "markdown",
   "metadata": {},
   "source": [
    "As the sizes of our models and datasets increase, we need to use GPU's to train out models within a reasonable amount of time. GPUs contain hundreds of cores that are optimized for performing expensive matrix operations on floating point numbers in a short time, which makes them ideal for training deep neural networks with many layers. You can use GPUs for free on Kaggle kernels or Google Colab, or rent GPU-powered machines on services like Google Cloud Platform, Amazon Web Services or Paperspace."
   ]
  },
  {
   "cell_type": "markdown",
   "metadata": {},
   "source": [
    "We can chack if a GPU is available and the required NVIDIA CUDA drivers are installed using `torch.cuda.is_available`."
   ]
  },
  {
   "cell_type": "code",
   "execution_count": 30,
   "metadata": {},
   "outputs": [
    {
     "data": {
      "text/plain": [
       "False"
      ]
     },
     "execution_count": 30,
     "metadata": {},
     "output_type": "execute_result"
    }
   ],
   "source": [
    "torch.cuda.is_available()"
   ]
  },
  {
   "cell_type": "markdown",
   "metadata": {},
   "source": [
    "Let's define a helper function to ensure that our code uses the GPU if available, and defaults to usind the GPU if it isn't"
   ]
  },
  {
   "cell_type": "code",
   "execution_count": 31,
   "metadata": {},
   "outputs": [],
   "source": [
    "def get_default_device():\n",
    "    \"\"\"Pick GPU if available, else CPU\"\"\"\n",
    "    if torch.cuda.is_available():\n",
    "        return torch.device('cuda')\n",
    "    else: \n",
    "        return torch.device('cpu')"
   ]
  },
  {
   "cell_type": "code",
   "execution_count": 32,
   "metadata": {},
   "outputs": [
    {
     "data": {
      "text/plain": [
       "device(type='cpu')"
      ]
     },
     "execution_count": 32,
     "metadata": {},
     "output_type": "execute_result"
    }
   ],
   "source": [
    "device = get_default_device()\n",
    "device"
   ]
  },
  {
   "cell_type": "markdown",
   "metadata": {},
   "source": [
    "Next, let's define a function that can move data and model to a chosen device."
   ]
  },
  {
   "cell_type": "code",
   "execution_count": 33,
   "metadata": {},
   "outputs": [],
   "source": [
    "def to_device(data,device):\n",
    "    \"\"\"Move tensor(s) to chosen device\"\"\"\n",
    "    if isinstance(data, (list,tuple)):\n",
    "        return [to_device(x, device) for x in data]\n",
    "    return data.to(device, non_blocking=True)"
   ]
  },
  {
   "cell_type": "code",
   "execution_count": 34,
   "metadata": {},
   "outputs": [
    {
     "name": "stdout",
     "output_type": "stream",
     "text": [
      "torch.Size([100, 1, 28, 28])\n",
      "cpu\n"
     ]
    }
   ],
   "source": [
    "for images, labels in train_dl:\n",
    "    print(images.shape)\n",
    "    images = to_device(images, device)\n",
    "    print(images.device)\n",
    "    break"
   ]
  },
  {
   "cell_type": "markdown",
   "metadata": {},
   "source": [
    "Finally, we define a `DeviceDataLoader` class to wrap our existing data loaders and move data to the selected device, as batches are accessed. Interestingly, we don't need to extend an existing class to create a PyRoch dataloader. All we need is an __iter__ method to retrieve batches of data, and an __len__ mathod to get the number of batches."
   ]
  },
  {
   "cell_type": "code",
   "execution_count": 35,
   "metadata": {},
   "outputs": [],
   "source": [
    "class DeviceDataLoader():\n",
    "    \"\"\"Wrap a dataloader to move data to a device\"\"\"\n",
    "    def __init__(self, dl, device):\n",
    "        self.dl = dl\n",
    "        self.device = device\n",
    "        \n",
    "    def __iter__(self):\n",
    "        \"\"\"Yield a batch of data after moving it to device\"\"\"\n",
    "        for b in self.dl:\n",
    "            yield to_device(b, self.device)\n",
    "            \n",
    "    def __len__(self):\n",
    "        \"\"\"Number of batches\"\"\"\n",
    "        return len(self.dl)"
   ]
  },
  {
   "cell_type": "markdown",
   "metadata": {},
   "source": [
    "We can now wrap our data loaders using `DeviceDataLoaders`"
   ]
  },
  {
   "cell_type": "code",
   "execution_count": 45,
   "metadata": {},
   "outputs": [
    {
     "ename": "NameError",
     "evalue": "name 'train_loader' is not defined",
     "output_type": "error",
     "traceback": [
      "\u001b[0;31m---------------------------------------------------------------------------\u001b[0m",
      "\u001b[0;31mNameError\u001b[0m                                 Traceback (most recent call last)",
      "\u001b[0;32m<ipython-input-45-699786703453>\u001b[0m in \u001b[0;36m<module>\u001b[0;34m\u001b[0m\n\u001b[0;32m----> 1\u001b[0;31m \u001b[0mtrain_loader\u001b[0m \u001b[0;34m=\u001b[0m \u001b[0mDeviceDataLoader\u001b[0m\u001b[0;34m(\u001b[0m\u001b[0mtrain_loader\u001b[0m\u001b[0;34m,\u001b[0m \u001b[0mdevice\u001b[0m\u001b[0;34m)\u001b[0m\u001b[0;34m\u001b[0m\u001b[0;34m\u001b[0m\u001b[0m\n\u001b[0m\u001b[1;32m      2\u001b[0m \u001b[0mval_loader\u001b[0m \u001b[0;34m=\u001b[0m \u001b[0mDeviceDataLoader\u001b[0m\u001b[0;34m(\u001b[0m\u001b[0mval_loader\u001b[0m\u001b[0;34m,\u001b[0m \u001b[0mdevice\u001b[0m\u001b[0;34m)\u001b[0m\u001b[0;34m\u001b[0m\u001b[0;34m\u001b[0m\u001b[0m\n",
      "\u001b[0;31mNameError\u001b[0m: name 'train_loader' is not defined"
     ]
    }
   ],
   "source": [
    "train_loader = DeviceDataLoader(train_loader, device)\n",
    "val_loader = DeviceDataLoader(val_loader, device)"
   ]
  },
  {
   "cell_type": "markdown",
   "metadata": {},
   "source": [
    "Tensors that have been moved to the GPU's RAM have a `device` property which includes the word `cuda`. Let's verify this by looking at a batch of data from `valid_dl`. "
   ]
  },
  {
   "cell_type": "code",
   "execution_count": 37,
   "metadata": {},
   "outputs": [
    {
     "name": "stdout",
     "output_type": "stream",
     "text": [
      "xb.device: cpu\n",
      "yb: tensor([5, 3, 4, 2, 4, 6, 4, 4, 6, 1, 3, 5, 8, 2, 3, 9, 0, 0, 9, 0, 4, 6, 9, 2,\n",
      "        3, 6, 7, 7, 4, 6, 3, 6, 8, 0, 7, 8, 8, 3, 0, 7, 4, 7, 2, 1, 1, 2, 7, 1,\n",
      "        2, 3, 4, 6, 5, 2, 8, 3, 9, 9, 9, 4, 2, 2, 6, 1, 1, 6, 0, 9, 3, 7, 1, 8,\n",
      "        3, 7, 4, 4, 0, 5, 6, 1, 6, 8, 0, 2, 6, 4, 3, 5, 6, 1, 4, 4, 2, 8, 9, 6,\n",
      "        6, 6, 5, 2])\n",
      "xb.device: cpu\n",
      "yb: tensor([2, 2, 2, 6, 1, 2, 5, 3, 0, 6, 4, 4, 9, 4, 6, 8, 6, 8, 4, 8, 4, 3, 7, 1,\n",
      "        6, 9, 6, 5, 8, 1, 3, 9, 6, 7, 7, 1, 8, 9, 3, 2, 6, 5, 4, 5, 4, 3, 2, 1,\n",
      "        0, 3, 5, 2, 8, 4, 9, 7, 1, 3, 0, 3, 5, 2, 2, 7, 1, 6, 9, 8, 8, 0, 1, 8,\n",
      "        6, 2, 0, 3, 5, 5, 0, 3, 1, 2, 3, 6, 0, 3, 1, 1, 3, 9, 0, 1, 5, 9, 6, 0,\n",
      "        9, 8, 5, 3])\n",
      "xb.device: cpu\n",
      "yb: tensor([5, 0, 8, 9, 1, 1, 1, 0, 1, 1, 8, 0, 6, 9, 6, 2, 2, 6, 0, 9, 1, 1, 8, 4,\n",
      "        8, 5, 7, 9, 9, 7, 4, 1, 5, 1, 4, 5, 7, 1, 0, 7, 1, 7, 3, 1, 0, 1, 0, 3,\n",
      "        5, 6, 3, 3, 4, 9, 9, 8, 5, 4, 6, 6, 3, 0, 8, 4, 0, 1, 6, 5, 3, 3, 0, 9,\n",
      "        9, 2, 6, 1, 3, 2, 9, 6, 1, 4, 7, 8, 4, 1, 4, 8, 1, 7, 5, 2, 9, 4, 4, 9,\n",
      "        4, 8, 3, 2])\n",
      "xb.device: cpu\n",
      "yb: tensor([8, 6, 5, 2, 1, 3, 2, 8, 0, 9, 9, 0, 2, 3, 2, 8, 0, 9, 9, 0, 6, 2, 6, 1,\n",
      "        1, 6, 3, 4, 1, 2, 0, 5, 8, 7, 7, 6, 4, 3, 6, 0, 3, 1, 3, 5, 4, 1, 0, 4,\n",
      "        7, 7, 1, 3, 2, 2, 2, 4, 4, 0, 7, 3, 1, 3, 7, 8, 9, 4, 1, 4, 4, 6, 2, 4,\n",
      "        1, 0, 1, 7, 1, 5, 1, 1, 1, 3, 0, 5, 2, 0, 4, 6, 5, 3, 6, 1, 4, 8, 7, 8,\n",
      "        4, 5, 4, 7])\n",
      "xb.device: cpu\n",
      "yb: tensor([6, 2, 7, 7, 7, 3, 5, 1, 2, 5, 1, 7, 7, 1, 4, 7, 1, 9, 1, 1, 9, 1, 3, 9,\n",
      "        2, 3, 6, 4, 8, 3, 0, 1, 7, 2, 5, 7, 8, 7, 0, 3, 1, 0, 6, 4, 4, 6, 7, 3,\n",
      "        3, 8, 9, 7, 2, 2, 6, 9, 7, 2, 6, 8, 8, 2, 4, 9, 7, 8, 2, 4, 9, 3, 3, 5,\n",
      "        8, 0, 7, 4, 0, 1, 1, 3, 3, 4, 6, 6, 8, 4, 9, 6, 6, 1, 7, 0, 2, 1, 7, 9,\n",
      "        2, 9, 9, 3])\n",
      "xb.device: cpu\n",
      "yb: tensor([4, 3, 8, 4, 1, 4, 4, 7, 1, 1, 7, 1, 0, 9, 3, 6, 3, 6, 7, 9, 1, 1, 2, 9,\n",
      "        3, 2, 3, 4, 8, 8, 5, 8, 8, 6, 8, 0, 3, 1, 5, 2, 7, 1, 9, 2, 7, 2, 3, 4,\n",
      "        1, 2, 3, 2, 0, 8, 4, 4, 5, 6, 1, 7, 2, 8, 6, 9, 5, 2, 3, 1, 1, 5, 0, 5,\n",
      "        4, 4, 2, 3, 0, 9, 5, 9, 9, 6, 5, 2, 8, 8, 7, 8, 6, 3, 1, 1, 6, 7, 3, 1,\n",
      "        5, 5, 5, 1])\n",
      "xb.device: cpu\n",
      "yb: tensor([6, 9, 3, 9, 8, 1, 8, 9, 6, 7, 0, 0, 4, 4, 3, 5, 2, 5, 6, 3, 7, 2, 8, 6,\n",
      "        6, 7, 9, 4, 5, 4, 5, 8, 1, 8, 5, 2, 6, 2, 5, 7, 0, 4, 6, 8, 0, 1, 1, 2,\n",
      "        1, 1, 8, 5, 4, 4, 1, 7, 4, 5, 2, 9, 7, 5, 0, 6, 2, 7, 6, 9, 8, 8, 5, 4,\n",
      "        1, 8, 0, 8, 1, 5, 6, 4, 7, 8, 5, 0, 4, 8, 8, 3, 3, 2, 0, 3, 3, 5, 8, 3,\n",
      "        8, 9, 4, 8])\n",
      "xb.device: cpu\n",
      "yb: tensor([0, 4, 9, 0, 2, 3, 2, 2, 0, 4, 7, 9, 2, 7, 8, 0, 0, 6, 1, 4, 9, 7, 9, 3,\n",
      "        8, 1, 7, 2, 2, 5, 9, 7, 9, 1, 5, 6, 1, 4, 3, 1, 1, 9, 4, 7, 4, 9, 5, 4,\n",
      "        0, 1, 3, 9, 9, 2, 0, 1, 3, 2, 3, 0, 1, 7, 0, 1, 9, 8, 7, 4, 6, 7, 8, 5,\n",
      "        4, 8, 6, 9, 1, 8, 6, 6, 1, 7, 1, 8, 1, 3, 6, 0, 2, 2, 6, 2, 4, 3, 7, 1,\n",
      "        7, 8, 9, 7])\n",
      "xb.device: cpu\n",
      "yb: tensor([0, 0, 3, 9, 9, 1, 1, 8, 4, 5, 7, 5, 8, 9, 7, 4, 1, 7, 5, 1, 6, 3, 2, 2,\n",
      "        4, 1, 0, 4, 2, 7, 9, 9, 6, 8, 1, 8, 8, 3, 1, 3, 1, 3, 7, 2, 9, 9, 8, 8,\n",
      "        1, 7, 1, 0, 8, 2, 0, 8, 1, 0, 1, 7, 7, 2, 6, 0, 5, 7, 1, 3, 7, 4, 7, 4,\n",
      "        9, 4, 5, 7, 9, 1, 1, 0, 6, 3, 2, 0, 1, 7, 2, 4, 7, 9, 6, 4, 9, 4, 0, 5,\n",
      "        6, 4, 0, 6])\n",
      "xb.device: cpu\n",
      "yb: tensor([9, 2, 7, 1, 7, 4, 9, 8, 3, 6, 7, 9, 4, 7, 0, 6, 5, 5, 8, 3, 4, 4, 0, 5,\n",
      "        9, 6, 4, 9, 2, 7, 6, 2, 4, 7, 7, 4, 1, 5, 0, 2, 0, 5, 9, 2, 3, 8, 1, 9,\n",
      "        9, 7, 2, 6, 3, 5, 2, 9, 1, 6, 0, 0, 9, 6, 4, 1, 9, 5, 7, 6, 9, 4, 8, 6,\n",
      "        0, 8, 1, 6, 1, 3, 3, 9, 4, 5, 2, 7, 3, 5, 7, 4, 2, 2, 6, 7, 3, 8, 5, 1,\n",
      "        4, 6, 0, 3])\n",
      "xb.device: cpu\n",
      "yb: tensor([8, 8, 1, 7, 0, 7, 1, 1, 8, 6, 3, 2, 0, 2, 6, 3, 1, 2, 3, 1, 8, 8, 9, 3,\n",
      "        3, 4, 5, 4, 5, 3, 0, 4, 7, 2, 7, 6, 9, 1, 1, 6, 6, 5, 1, 2, 0, 7, 0, 0,\n",
      "        1, 2, 1, 9, 7, 7, 2, 0, 7, 9, 6, 1, 0, 0, 8, 8, 6, 8, 1, 5, 4, 5, 0, 8,\n",
      "        7, 1, 3, 4, 1, 6, 9, 2, 7, 7, 0, 3, 2, 3, 0, 9, 6, 3, 5, 7, 5, 1, 0, 7,\n",
      "        5, 2, 6, 2])\n",
      "xb.device: cpu\n",
      "yb: tensor([5, 7, 2, 9, 3, 5, 8, 7, 2, 4, 2, 1, 5, 1, 3, 4, 6, 2, 4, 9, 4, 4, 0, 8,\n",
      "        5, 6, 4, 1, 7, 0, 3, 5, 2, 4, 5, 5, 9, 7, 7, 1, 7, 7, 1, 5, 7, 9, 4, 7,\n",
      "        8, 0, 3, 5, 3, 0, 1, 3, 3, 2, 4, 3, 5, 8, 7, 8, 5, 5, 7, 5, 6, 5, 7, 2,\n",
      "        0, 7, 6, 2, 1, 0, 1, 7, 7, 5, 0, 4, 8, 6, 7, 1, 6, 5, 2, 9, 9, 2, 6, 5,\n",
      "        3, 9, 0, 4])\n",
      "xb.device: cpu\n",
      "yb: tensor([9, 0, 4, 5, 0, 0, 9, 1, 3, 9, 0, 2, 9, 3, 7, 5, 0, 1, 8, 0, 7, 6, 3, 5,\n",
      "        5, 4, 9, 5, 2, 2, 8, 4, 7, 7, 3, 4, 7, 2, 9, 4, 3, 1, 1, 3, 7, 8, 5, 0,\n",
      "        9, 3, 8, 5, 9, 6, 7, 8, 1, 7, 7, 2, 7, 8, 9, 4, 7, 1, 0, 7, 9, 3, 5, 6,\n",
      "        7, 2, 3, 6, 0, 3, 1, 3, 3, 7, 5, 1, 2, 9, 8, 7, 3, 6, 6, 3, 4, 1, 2, 8,\n",
      "        4, 4, 2, 4])\n",
      "xb.device: cpu\n",
      "yb: tensor([7, 3, 3, 1, 6, 8, 8, 2, 9, 3, 7, 3, 7, 2, 2, 8, 5, 8, 8, 0, 7, 1, 1, 1,\n",
      "        7, 9, 5, 9, 2, 5, 0, 5, 2, 5, 1, 0, 6, 9, 8, 7, 7, 1, 7, 7, 7, 9, 3, 9,\n",
      "        8, 8, 1, 6, 1, 3, 4, 6, 6, 0, 4, 0, 6, 4, 8, 8, 0, 7, 0, 2, 6, 2, 7, 8,\n",
      "        3, 5, 4, 4, 1, 6, 7, 9, 1, 2, 4, 7, 5, 4, 4, 7, 4, 4, 5, 9, 8, 4, 4, 3,\n",
      "        4, 5, 9, 4])\n",
      "xb.device: cpu\n",
      "yb: tensor([6, 3, 0, 6, 3, 1, 5, 6, 5, 2, 6, 5, 0, 5, 1, 7, 6, 6, 5, 6, 2, 3, 3, 2,\n",
      "        4, 9, 5, 8, 0, 7, 0, 0, 3, 3, 6, 9, 2, 4, 0, 2, 2, 7, 8, 9, 0, 9, 7, 6,\n",
      "        5, 1, 6, 5, 6, 5, 4, 0, 1, 5, 3, 1, 3, 1, 0, 0, 0, 6, 1, 9, 6, 5, 1, 3,\n",
      "        6, 4, 7, 5, 9, 0, 6, 7, 4, 8, 6, 2, 4, 5, 4, 6, 2, 6, 3, 2, 1, 0, 5, 9,\n",
      "        8, 1, 9, 0])\n",
      "xb.device: cpu\n",
      "yb: tensor([5, 1, 0, 1, 1, 2, 3, 5, 6, 3, 4, 9, 1, 0, 2, 4, 2, 6, 1, 0, 6, 4, 5, 1,\n",
      "        5, 1, 1, 3, 3, 1, 5, 5, 9, 0, 6, 7, 1, 2, 4, 4, 6, 9, 6, 6, 9, 7, 2, 4,\n",
      "        2, 9, 9, 7, 4, 9, 4, 4, 4, 3, 1, 1, 8, 3, 7, 2, 1, 5, 1, 6, 3, 3, 0, 9,\n",
      "        7, 8, 3, 7, 3, 4, 7, 9, 0, 5, 0, 7, 7, 1, 4, 9, 3, 5, 7, 5, 0, 1, 1, 6,\n",
      "        3, 4, 4, 9])\n",
      "xb.device: cpu\n",
      "yb: tensor([1, 0, 2, 1, 5, 5, 9, 6, 8, 3, 0, 0, 9, 1, 6, 9, 4, 3, 6, 0, 6, 2, 3, 4,\n",
      "        6, 7, 6, 5, 6, 7, 8, 2, 9, 2, 4, 5, 7, 0, 9, 6, 6, 0, 2, 9, 1, 9, 4, 3,\n",
      "        7, 8, 9, 8, 8, 1, 8, 4, 1, 9, 3, 7, 3, 7, 0, 4, 8, 3, 3, 8, 0, 7, 4, 3,\n",
      "        1, 6, 4, 3, 1, 1, 1, 1, 7, 2, 3, 4, 0, 3, 4, 6, 6, 8, 1, 7, 1, 2, 6, 4,\n",
      "        0, 9, 0, 7])\n",
      "xb.device: cpu\n",
      "yb: tensor([4, 0, 8, 6, 8, 7, 3, 6, 7, 0, 7, 9, 1, 4, 7, 1, 2, 0, 0, 7, 2, 1, 0, 3,\n",
      "        2, 9, 0, 1, 9, 9, 3, 9, 1, 1, 4, 6, 4, 7, 3, 5, 3, 8, 1, 2, 6, 2, 7, 1,\n",
      "        3, 8, 3, 2, 8, 3, 3, 0, 9, 8, 6, 4, 9, 5, 7, 8, 8, 6, 4, 9, 0, 4, 8, 3,\n",
      "        3, 3, 0, 0, 4, 7, 5, 5, 4, 4, 8, 1, 4, 8, 2, 9, 9, 1, 3, 2, 9, 0, 1, 0,\n",
      "        0, 1, 5, 7])\n",
      "xb.device: cpu\n",
      "yb: tensor([3, 3, 5, 2, 7, 9, 5, 8, 4, 1, 0, 5, 1, 8, 5, 7, 1, 9, 3, 7, 1, 8, 8, 7,\n",
      "        0, 1, 7, 8, 3, 1, 1, 3, 0, 8, 7, 2, 0, 1, 5, 9, 1, 7, 4, 7, 6, 3, 0, 4,\n",
      "        8, 7, 3, 0, 8, 5, 4, 9, 3, 8, 5, 2, 2, 9, 4, 3, 4, 2, 2, 6, 6, 8, 1, 4,\n",
      "        6, 0, 1, 8, 9, 6, 1, 4, 5, 6, 4, 4, 8, 2, 5, 8, 1, 8, 9, 4, 7, 3, 9, 3,\n",
      "        7, 1, 3, 5])\n",
      "xb.device: cpu\n",
      "yb: tensor([7, 2, 3, 5, 9, 7, 7, 7, 0, 2, 6, 8, 2, 5, 3, 0, 3, 2, 2, 0, 4, 0, 3, 4,\n",
      "        5, 1, 3, 1, 7, 7, 1, 3, 0, 4, 0, 3, 0, 5, 6, 2, 0, 2, 6, 8, 5, 1, 0, 1,\n",
      "        6, 7, 5, 7, 4, 5, 1, 7, 6, 1, 3, 2, 4, 9, 9, 7, 1, 5, 4, 1, 7, 8, 3, 8,\n",
      "        1, 1, 8, 5, 0, 0, 9, 5, 9, 8, 1, 7, 1, 0, 4, 0, 1, 9, 9, 9, 1, 4, 6, 5,\n",
      "        2, 8, 5, 1])\n",
      "xb.device: cpu\n",
      "yb: tensor([2, 4, 5, 5, 6, 3, 1, 7, 5, 3, 4, 2, 3, 3, 9, 1, 8, 2, 1, 7, 6, 5, 5, 3,\n",
      "        0, 0, 9, 2, 9, 8, 3, 5, 4, 7, 0, 6, 3, 7, 0, 6, 3, 4, 8, 3, 4, 9, 5, 4,\n",
      "        2, 1, 7, 4, 2, 3, 8, 9, 0, 5, 1, 8, 2, 8, 6, 0, 5, 9, 1, 3, 9, 7, 0, 0,\n",
      "        7, 9, 6, 0, 6, 2, 4, 8, 2, 6, 5, 4, 7, 6, 3, 2, 4, 1, 4, 6, 1, 8, 1, 9,\n",
      "        4, 5, 2, 0])\n",
      "xb.device: cpu\n",
      "yb: tensor([2, 1, 7, 6, 6, 6, 3, 8, 8, 8, 1, 2, 1, 1, 3, 4, 6, 3, 7, 8, 6, 8, 3, 9,\n",
      "        9, 0, 4, 7, 3, 2, 3, 8, 4, 4, 6, 8, 1, 1, 3, 3, 7, 8, 9, 3, 3, 6, 9, 5,\n",
      "        5, 3, 6, 2, 7, 7, 5, 8, 3, 1, 2, 2, 4, 8, 5, 7, 1, 3, 8, 4, 1, 6, 7, 5,\n",
      "        2, 3, 8, 4, 6, 5, 6, 8, 4, 8, 2, 0, 6, 5, 8, 5, 3, 9, 9, 1, 7, 8, 2, 0,\n",
      "        7, 1, 0, 0])\n",
      "xb.device: cpu\n",
      "yb: tensor([1, 3, 3, 5, 2, 8, 2, 2, 6, 5, 6, 4, 1, 0, 1, 8, 5, 7, 1, 1, 3, 1, 8, 6,\n",
      "        6, 6, 6, 3, 2, 9, 2, 7, 3, 6, 9, 9, 0, 3, 7, 5, 6, 2, 3, 7, 0, 2, 1, 5,\n",
      "        6, 5, 9, 3, 8, 5, 1, 1, 3, 9, 3, 1, 0, 8, 5, 3, 9, 4, 2, 5, 9, 9, 8, 3,\n",
      "        3, 8, 8, 0, 8, 2, 0, 9, 3, 0, 3, 3, 2, 4, 6, 8, 5, 4, 4, 1, 1, 8, 1, 1,\n",
      "        2, 4, 0, 2])\n",
      "xb.device: cpu\n",
      "yb: tensor([0, 5, 4, 2, 1, 2, 4, 1, 7, 2, 1, 8, 3, 2, 5, 2, 3, 8, 4, 1, 0, 3, 3, 9,\n",
      "        5, 2, 2, 3, 5, 0, 8, 0, 4, 1, 3, 8, 7, 9, 6, 8, 2, 4, 9, 4, 9, 1, 5, 9,\n",
      "        9, 7, 0, 7, 5, 6, 7, 9, 4, 5, 7, 1, 6, 5, 3, 9, 6, 4, 8, 6, 2, 8, 6, 8,\n",
      "        8, 5, 4, 3, 9, 5, 6, 5, 5, 4, 7, 8, 2, 2, 5, 7, 4, 4, 0, 5, 3, 9, 5, 2,\n",
      "        7, 7, 3, 9])\n",
      "xb.device: cpu\n",
      "yb: tensor([6, 7, 6, 0, 6, 8, 2, 0, 3, 5, 2, 2, 6, 9, 9, 8, 7, 2, 8, 9, 6, 6, 7, 0,\n",
      "        3, 1, 9, 7, 6, 6, 8, 5, 2, 7, 6, 6, 7, 6, 1, 6, 3, 6, 4, 5, 3, 0, 0, 7,\n",
      "        6, 2, 0, 2, 1, 7, 7, 2, 9, 4, 0, 7, 9, 4, 6, 3, 1, 2, 3, 6, 0, 3, 1, 0,\n",
      "        8, 1, 9, 5, 8, 0, 2, 9, 0, 0, 7, 9, 9, 7, 6, 8, 2, 7, 2, 2, 8, 2, 7, 8,\n",
      "        7, 5, 3, 2])\n"
     ]
    },
    {
     "name": "stdout",
     "output_type": "stream",
     "text": [
      "xb.device: cpu\n",
      "yb: tensor([5, 3, 2, 0, 9, 3, 8, 9, 7, 8, 2, 0, 1, 7, 5, 0, 1, 5, 8, 1, 3, 3, 3, 0,\n",
      "        4, 1, 1, 0, 8, 8, 8, 4, 1, 3, 6, 3, 7, 2, 5, 0, 1, 2, 0, 3, 6, 7, 4, 0,\n",
      "        8, 5, 1, 6, 3, 1, 0, 9, 4, 1, 7, 4, 9, 7, 8, 9, 1, 6, 2, 1, 2, 9, 8, 5,\n",
      "        7, 0, 3, 5, 1, 3, 8, 1, 4, 6, 6, 7, 9, 8, 5, 4, 6, 4, 0, 4, 0, 5, 7, 4,\n",
      "        4, 1, 6, 5])\n",
      "xb.device: cpu\n",
      "yb: tensor([2, 0, 0, 8, 9, 8, 5, 7, 2, 0, 1, 8, 7, 1, 2, 2, 8, 7, 3, 9, 7, 8, 5, 4,\n",
      "        1, 9, 3, 9, 1, 1, 8, 1, 1, 3, 3, 2, 7, 1, 2, 8, 7, 9, 0, 6, 2, 6, 2, 6,\n",
      "        5, 5, 7, 9, 7, 2, 0, 0, 8, 2, 9, 9, 7, 8, 1, 7, 0, 9, 3, 7, 7, 8, 0, 0,\n",
      "        0, 6, 1, 6, 6, 9, 1, 9, 4, 2, 5, 5, 9, 1, 9, 7, 7, 0, 8, 4, 5, 0, 8, 3,\n",
      "        2, 8, 5, 3])\n",
      "xb.device: cpu\n",
      "yb: tensor([9, 8, 6, 2, 9, 0, 1, 8, 4, 1, 5, 0, 4, 1, 0, 0, 7, 0, 2, 7, 3, 7, 7, 6,\n",
      "        6, 0, 9, 8, 6, 3, 9, 5, 4, 6, 3, 1, 9, 0, 2, 4, 1, 8, 4, 0, 2, 2, 6, 5,\n",
      "        8, 8, 3, 9, 4, 9, 0, 6, 0, 7, 9, 0, 7, 2, 1, 2, 6, 8, 3, 0, 3, 6, 2, 9,\n",
      "        3, 9, 8, 3, 4, 4, 9, 9, 1, 4, 3, 6, 0, 1, 9, 3, 0, 8, 8, 1, 8, 9, 0, 4,\n",
      "        8, 7, 1, 2])\n",
      "xb.device: cpu\n",
      "yb: tensor([9, 9, 7, 6, 6, 3, 0, 8, 0, 2, 2, 3, 4, 2, 7, 0, 7, 5, 0, 0, 1, 1, 2, 1,\n",
      "        4, 0, 4, 7, 3, 0, 4, 4, 1, 5, 1, 1, 9, 7, 5, 3, 8, 4, 3, 2, 0, 1, 0, 7,\n",
      "        6, 7, 6, 8, 4, 9, 7, 5, 6, 4, 1, 6, 2, 0, 9, 1, 8, 4, 4, 5, 8, 2, 5, 1,\n",
      "        4, 8, 1, 8, 0, 5, 6, 4, 6, 2, 3, 4, 7, 2, 4, 3, 1, 2, 2, 5, 1, 4, 7, 9,\n",
      "        6, 6, 1, 1])\n",
      "xb.device: cpu\n",
      "yb: tensor([0, 4, 0, 2, 6, 7, 1, 8, 1, 2, 7, 4, 1, 6, 2, 2, 0, 8, 7, 9, 4, 7, 9, 7,\n",
      "        6, 7, 7, 9, 2, 7, 1, 5, 5, 7, 5, 3, 8, 3, 8, 4, 7, 7, 9, 4, 8, 0, 6, 4,\n",
      "        9, 7, 0, 3, 2, 2, 0, 7, 9, 9, 0, 5, 6, 8, 1, 1, 3, 9, 3, 7, 6, 5, 2, 2,\n",
      "        8, 9, 5, 8, 5, 2, 2, 6, 7, 8, 7, 8, 8, 2, 3, 3, 6, 5, 4, 9, 9, 8, 1, 3,\n",
      "        3, 1, 0, 7])\n",
      "xb.device: cpu\n",
      "yb: tensor([7, 4, 5, 2, 1, 5, 5, 4, 5, 3, 4, 2, 8, 5, 2, 6, 0, 5, 2, 0, 5, 2, 2, 4,\n",
      "        3, 6, 2, 0, 0, 7, 9, 4, 6, 5, 7, 3, 4, 3, 8, 9, 1, 9, 8, 7, 8, 2, 6, 2,\n",
      "        3, 8, 3, 8, 5, 1, 0, 5, 1, 4, 1, 4, 4, 3, 7, 1, 9, 4, 2, 4, 8, 2, 7, 1,\n",
      "        1, 6, 4, 3, 0, 2, 1, 9, 1, 1, 7, 8, 1, 9, 6, 9, 7, 3, 7, 0, 4, 7, 2, 4,\n",
      "        0, 4, 1, 5])\n",
      "xb.device: cpu\n",
      "yb: tensor([6, 5, 2, 3, 5, 8, 1, 9, 2, 3, 7, 0, 2, 4, 9, 7, 2, 1, 3, 5, 3, 5, 7, 9,\n",
      "        7, 7, 4, 0, 6, 5, 9, 4, 5, 6, 7, 7, 6, 0, 2, 3, 9, 9, 7, 1, 3, 1, 0, 3,\n",
      "        5, 0, 7, 7, 9, 2, 8, 3, 1, 8, 1, 1, 4, 0, 2, 9, 8, 2, 3, 0, 0, 3, 3, 0,\n",
      "        9, 7, 9, 3, 3, 2, 3, 8, 4, 5, 0, 3, 6, 4, 6, 2, 5, 9, 9, 8, 1, 4, 2, 7,\n",
      "        6, 4, 2, 6])\n",
      "xb.device: cpu\n",
      "yb: tensor([2, 2, 8, 4, 6, 2, 9, 9, 7, 5, 6, 5, 6, 3, 8, 4, 0, 1, 5, 8, 2, 7, 6, 0,\n",
      "        5, 7, 0, 8, 9, 1, 1, 1, 6, 9, 9, 7, 4, 6, 7, 5, 4, 1, 5, 9, 3, 6, 0, 9,\n",
      "        4, 6, 7, 6, 3, 6, 7, 0, 6, 0, 5, 5, 4, 1, 1, 1, 4, 0, 7, 4, 0, 5, 7, 8,\n",
      "        2, 9, 2, 3, 4, 4, 7, 8, 3, 1, 6, 8, 1, 9, 9, 0, 8, 3, 9, 1, 4, 1, 5, 4,\n",
      "        5, 7, 4, 6])\n",
      "xb.device: cpu\n",
      "yb: tensor([8, 6, 4, 1, 9, 4, 2, 9, 6, 4, 3, 0, 6, 1, 3, 8, 0, 5, 0, 5, 2, 9, 2, 6,\n",
      "        1, 3, 4, 7, 0, 8, 4, 4, 2, 5, 8, 7, 5, 6, 4, 3, 9, 6, 8, 0, 7, 2, 8, 6,\n",
      "        6, 0, 1, 2, 1, 1, 5, 4, 4, 3, 8, 6, 3, 0, 7, 8, 9, 7, 2, 0, 4, 4, 1, 6,\n",
      "        1, 8, 7, 8, 7, 8, 6, 0, 0, 4, 5, 7, 9, 7, 0, 2, 1, 3, 0, 4, 7, 6, 2, 4,\n",
      "        8, 1, 9, 4])\n",
      "xb.device: cpu\n",
      "yb: tensor([7, 7, 1, 9, 0, 2, 0, 4, 2, 6, 7, 6, 3, 6, 1, 7, 0, 1, 1, 6, 4, 5, 0, 7,\n",
      "        6, 7, 8, 2, 2, 3, 5, 3, 2, 2, 1, 0, 3, 4, 0, 5, 1, 2, 1, 4, 1, 3, 3, 9,\n",
      "        8, 4, 8, 1, 0, 5, 0, 2, 9, 5, 8, 1, 7, 7, 0, 5, 1, 5, 8, 9, 0, 1, 0, 3,\n",
      "        1, 2, 9, 5, 5, 0, 9, 0, 8, 0, 4, 6, 0, 9, 0, 4, 7, 8, 0, 3, 8, 8, 6, 8,\n",
      "        2, 0, 9, 0])\n",
      "xb.device: cpu\n",
      "yb: tensor([2, 5, 1, 2, 6, 3, 7, 8, 6, 1, 0, 0, 2, 9, 9, 0, 0, 0, 1, 7, 2, 9, 6, 2,\n",
      "        2, 4, 6, 4, 6, 1, 6, 7, 4, 0, 4, 7, 1, 1, 5, 5, 4, 8, 5, 4, 1, 8, 0, 3,\n",
      "        4, 4, 6, 8, 6, 2, 2, 0, 2, 2, 7, 3, 1, 3, 9, 4, 1, 2, 4, 5, 1, 6, 6, 7,\n",
      "        6, 9, 7, 8, 4, 0, 8, 1, 6, 7, 0, 0, 4, 1, 4, 3, 0, 9, 7, 5, 6, 5, 8, 2,\n",
      "        9, 6, 3, 4])\n",
      "xb.device: cpu\n",
      "yb: tensor([6, 1, 1, 9, 3, 4, 5, 3, 6, 5, 4, 3, 7, 6, 8, 4, 7, 4, 7, 1, 8, 8, 4, 4,\n",
      "        0, 7, 7, 7, 1, 6, 1, 0, 1, 0, 7, 8, 8, 5, 9, 0, 4, 2, 7, 1, 9, 6, 8, 1,\n",
      "        7, 7, 4, 4, 7, 4, 5, 9, 8, 3, 7, 7, 1, 0, 4, 6, 3, 7, 7, 8, 5, 7, 5, 4,\n",
      "        6, 8, 7, 6, 6, 2, 2, 0, 2, 7, 8, 1, 4, 1, 9, 2, 7, 9, 8, 4, 9, 9, 5, 7,\n",
      "        0, 8, 6, 3])\n",
      "xb.device: cpu\n",
      "yb: tensor([3, 3, 4, 0, 4, 9, 1, 7, 0, 0, 5, 3, 6, 6, 4, 6, 1, 9, 4, 1, 0, 9, 8, 4,\n",
      "        9, 4, 7, 2, 2, 9, 2, 0, 1, 8, 0, 8, 0, 0, 9, 1, 4, 3, 1, 8, 8, 4, 1, 5,\n",
      "        4, 8, 6, 8, 2, 1, 8, 2, 0, 7, 4, 9, 8, 0, 9, 8, 8, 1, 4, 8, 0, 6, 1, 8,\n",
      "        9, 7, 9, 9, 6, 8, 4, 4, 8, 4, 3, 0, 3, 9, 4, 1, 8, 2, 6, 8, 5, 3, 8, 3,\n",
      "        5, 1, 5, 9])\n",
      "xb.device: cpu\n",
      "yb: tensor([3, 6, 0, 7, 1, 0, 7, 5, 8, 7, 2, 2, 5, 2, 0, 9, 7, 9, 9, 2, 4, 1, 2, 6,\n",
      "        4, 6, 4, 1, 1, 5, 6, 0, 1, 2, 1, 5, 0, 3, 1, 2, 9, 7, 4, 8, 5, 4, 9, 9,\n",
      "        5, 0, 1, 9, 6, 6, 3, 7, 2, 2, 2, 1, 6, 5, 8, 6, 1, 7, 0, 9, 0, 3, 8, 9,\n",
      "        2, 0, 2, 7, 1, 6, 7, 5, 5, 9, 6, 4, 2, 9, 1, 8, 1, 7, 5, 5, 3, 4, 4, 5,\n",
      "        8, 0, 5, 7])\n",
      "xb.device: cpu\n",
      "yb: tensor([8, 2, 4, 5, 8, 7, 3, 3, 0, 8, 4, 7, 4, 0, 1, 8, 1, 4, 5, 5, 8, 1, 2, 1,\n",
      "        0, 3, 9, 7, 9, 2, 3, 5, 9, 3, 8, 0, 3, 3, 3, 0, 8, 9, 1, 2, 8, 6, 7, 9,\n",
      "        1, 5, 1, 8, 3, 5, 9, 8, 8, 6, 4, 0, 4, 9, 1, 3, 7, 4, 1, 9, 3, 1, 1, 5,\n",
      "        5, 5, 3, 5, 5, 6, 8, 8, 0, 2, 0, 9, 8, 4, 1, 3, 9, 5, 0, 0, 7, 9, 9, 2,\n",
      "        9, 0, 4, 3])\n",
      "xb.device: cpu\n",
      "yb: tensor([3, 0, 6, 8, 2, 0, 1, 4, 2, 0, 1, 2, 1, 4, 1, 2, 8, 4, 5, 3, 4, 8, 5, 1,\n",
      "        6, 4, 8, 8, 7, 3, 7, 5, 7, 7, 7, 9, 5, 2, 1, 5, 9, 0, 1, 7, 8, 2, 8, 8,\n",
      "        3, 9, 9, 1, 3, 7, 0, 9, 0, 1, 2, 6, 8, 1, 3, 5, 5, 1, 2, 2, 3, 9, 5, 8,\n",
      "        9, 2, 0, 8, 4, 9, 8, 6, 1, 7, 4, 7, 6, 6, 0, 3, 5, 3, 5, 5, 1, 1, 5, 3,\n",
      "        4, 8, 0, 9])\n",
      "xb.device: cpu\n",
      "yb: tensor([1, 1, 9, 7, 2, 4, 6, 1, 0, 2, 2, 5, 4, 9, 1, 9, 2, 5, 8, 9, 1, 4, 8, 0,\n",
      "        3, 2, 6, 8, 9, 1, 4, 1, 3, 8, 9, 0, 2, 3, 9, 3, 3, 3, 4, 9, 3, 3, 4, 1,\n",
      "        5, 1, 3, 0, 6, 4, 9, 0, 1, 1, 4, 3, 0, 0, 2, 5, 0, 6, 7, 6, 3, 2, 4, 6,\n",
      "        1, 6, 0, 6, 8, 4, 1, 8, 0, 1, 5, 1, 8, 5, 8, 0, 3, 7, 5, 6, 6, 5, 8, 4,\n",
      "        7, 1, 1, 8])\n",
      "xb.device: cpu\n",
      "yb: tensor([3, 0, 0, 0, 4, 1, 9, 9, 9, 3, 8, 8, 2, 9, 6, 5, 3, 5, 0, 3, 8, 1, 8, 4,\n",
      "        6, 6, 0, 9, 1, 8, 3, 8, 6, 9, 1, 2, 0, 5, 3, 0, 1, 8, 2, 5, 0, 6, 7, 4,\n",
      "        6, 4, 0, 0, 0, 5, 1, 7, 8, 7, 2, 0, 1, 1, 9, 6, 3, 1, 5, 9, 3, 7, 1, 1,\n",
      "        4, 7, 0, 2, 2, 4, 1, 4, 2, 8, 5, 4, 6, 1, 1, 2, 0, 1, 4, 1, 5, 2, 7, 7,\n",
      "        2, 1, 8, 8])\n",
      "xb.device: cpu\n",
      "yb: tensor([6, 5, 6, 2, 6, 6, 0, 4, 2, 3, 6, 3, 1, 1, 7, 8, 5, 5, 6, 1, 2, 9, 2, 7,\n",
      "        9, 6, 8, 6, 3, 8, 6, 3, 5, 8, 9, 1, 4, 5, 9, 3, 2, 1, 2, 3, 4, 5, 6, 1,\n",
      "        9, 3, 0, 0, 2, 5, 0, 3, 1, 3, 1, 9, 9, 5, 1, 0, 7, 7, 1, 8, 4, 7, 8, 9,\n",
      "        3, 1, 3, 5, 2, 1, 1, 8, 5, 0, 8, 0, 1, 5, 8, 2, 3, 5, 7, 2, 5, 2, 7, 2,\n",
      "        4, 6, 7, 8])\n",
      "xb.device: cpu\n",
      "yb: tensor([5, 6, 7, 0, 4, 7, 7, 9, 8, 1, 4, 5, 4, 4, 9, 9, 5, 8, 9, 3, 4, 3, 1, 6,\n",
      "        7, 1, 0, 2, 7, 8, 8, 5, 2, 6, 3, 7, 2, 4, 3, 0, 2, 4, 1, 4, 8, 3, 3, 5,\n",
      "        3, 1, 9, 2, 2, 3, 8, 1, 0, 9, 4, 0, 1, 0, 7, 2, 6, 0, 3, 8, 1, 8, 6, 4,\n",
      "        8, 3, 1, 2, 5, 0, 9, 4, 8, 7, 3, 0, 3, 1, 5, 3, 3, 8, 5, 6, 9, 9, 4, 6,\n",
      "        3, 4, 9, 3])\n",
      "xb.device: cpu\n",
      "yb: tensor([1, 5, 1, 2, 4, 1, 5, 1, 7, 0, 4, 9, 0, 9, 0, 2, 5, 6, 4, 4, 4, 1, 0, 6,\n",
      "        8, 1, 3, 4, 0, 7, 4, 7, 2, 2, 1, 6, 6, 6, 5, 3, 1, 1, 5, 1, 3, 9, 0, 0,\n",
      "        6, 9, 5, 1, 3, 1, 7, 2, 0, 1, 5, 0, 2, 6, 5, 4, 6, 8, 9, 2, 9, 1, 4, 1,\n",
      "        1, 0, 9, 1, 8, 8, 9, 2, 3, 2, 8, 9, 6, 0, 8, 2, 9, 0, 1, 9, 2, 6, 4, 9,\n",
      "        1, 6, 3, 1])\n",
      "xb.device: cpu\n",
      "yb: tensor([9, 7, 3, 2, 6, 4, 0, 4, 1, 7, 2, 3, 6, 8, 7, 8, 4, 4, 6, 6, 1, 1, 3, 8,\n",
      "        8, 3, 3, 7, 8, 8, 0, 4, 4, 1, 1, 2, 2, 2, 2, 6, 8, 0, 1, 4, 3, 5, 2, 0,\n",
      "        3, 1, 6, 7, 7, 2, 3, 2, 0, 4, 3, 2, 4, 3, 8, 7, 4, 0, 2, 5, 3, 8, 9, 3,\n",
      "        8, 0, 7, 5, 2, 3, 6, 4, 2, 4, 9, 8, 2, 2, 3, 3, 0, 4, 9, 3, 6, 3, 3, 1,\n",
      "        8, 5, 9, 7])\n",
      "xb.device: cpu\n",
      "yb: tensor([8, 2, 9, 5, 2, 5, 1, 3, 8, 9, 2, 7, 9, 6, 4, 3, 4, 7, 4, 0, 5, 3, 1, 1,\n",
      "        9, 4, 7, 2, 4, 0, 8, 8, 3, 1, 3, 8, 2, 5, 7, 2, 5, 7, 8, 6, 5, 2, 7, 3,\n",
      "        2, 0, 0, 5, 2, 8, 0, 2, 6, 3, 6, 4, 3, 1, 4, 7, 9, 5, 6, 2, 3, 5, 5, 6,\n",
      "        1, 1, 0, 8, 6, 2, 6, 4, 7, 0, 2, 9, 0, 7, 5, 5, 4, 2, 1, 5, 6, 8, 2, 5,\n",
      "        9, 6, 7, 9])\n",
      "xb.device: cpu\n",
      "yb: tensor([9, 2, 1, 4, 1, 8, 9, 9, 7, 2, 1, 5, 3, 2, 6, 1, 7, 7, 2, 6, 9, 8, 6, 9,\n",
      "        5, 9, 9, 9, 1, 7, 2, 2, 2, 3, 1, 8, 4, 4, 0, 9, 0, 7, 5, 5, 2, 2, 6, 6,\n",
      "        0, 5, 1, 4, 5, 1, 0, 0, 1, 5, 2, 6, 2, 6, 3, 7, 0, 9, 0, 4, 9, 0, 4, 3,\n",
      "        7, 2, 4, 8, 8, 7, 7, 1, 6, 3, 3, 1, 5, 9, 9, 1, 7, 1, 6, 7, 3, 8, 8, 6,\n",
      "        3, 0, 7, 3])\n"
     ]
    },
    {
     "name": "stdout",
     "output_type": "stream",
     "text": [
      "xb.device: cpu\n",
      "yb: tensor([7, 4, 5, 0, 0, 3, 4, 0, 6, 4, 7, 6, 4, 2, 0, 2, 8, 2, 8, 9, 4, 1, 6, 9,\n",
      "        7, 5, 5, 6, 2, 0, 1, 2, 7, 7, 5, 6, 0, 5, 4, 2, 0, 9, 1, 3, 7, 7, 4, 8,\n",
      "        2, 1, 1, 5, 5, 0, 5, 9, 5, 0, 7, 2, 4, 5, 7, 9, 8, 1, 7, 4, 1, 3, 9, 0,\n",
      "        5, 6, 4, 9, 9, 6, 9, 3, 2, 9, 1, 3, 7, 5, 7, 1, 8, 7, 4, 4, 2, 9, 1, 1,\n",
      "        2, 8, 1, 5])\n",
      "xb.device: cpu\n",
      "yb: tensor([3, 8, 1, 5, 7, 3, 4, 6, 4, 0, 6, 8, 5, 8, 7, 0, 4, 3, 6, 5, 4, 7, 3, 7,\n",
      "        9, 1, 3, 7, 3, 8, 5, 7, 2, 1, 0, 8, 0, 4, 0, 1, 5, 9, 3, 7, 3, 6, 5, 8,\n",
      "        2, 1, 7, 0, 1, 0, 2, 0, 6, 0, 4, 6, 0, 7, 5, 1, 6, 5, 2, 3, 6, 3, 7, 2,\n",
      "        4, 0, 2, 4, 4, 9, 4, 7, 5, 5, 8, 7, 2, 8, 3, 6, 2, 4, 1, 0, 0, 4, 4, 4,\n",
      "        0, 6, 3, 6])\n",
      "xb.device: cpu\n",
      "yb: tensor([7, 2, 1, 9, 2, 8, 8, 4, 0, 8, 9, 9, 6, 1, 8, 7, 9, 2, 5, 3, 8, 3, 2, 0,\n",
      "        1, 9, 3, 2, 7, 6, 1, 0, 9, 0, 0, 3, 1, 3, 6, 0, 5, 2, 3, 8, 3, 9, 5, 8,\n",
      "        5, 9, 1, 9, 7, 2, 4, 5, 3, 0, 2, 6, 7, 0, 9, 4, 0, 8, 3, 2, 7, 5, 5, 1,\n",
      "        5, 9, 8, 2, 7, 0, 5, 2, 5, 4, 4, 4, 6, 2, 6, 7, 3, 6, 8, 9, 9, 3, 3, 4,\n",
      "        1, 3, 7, 6])\n",
      "xb.device: cpu\n",
      "yb: tensor([1, 0, 1, 6, 9, 3, 0, 9, 7, 9, 9, 1, 3, 2, 1, 4, 4, 2, 6, 2, 6, 7, 4, 6,\n",
      "        4, 4, 4, 0, 8, 8, 6, 6, 2, 4, 6, 7, 3, 7, 3, 8, 1, 2, 6, 5, 3, 8, 8, 8,\n",
      "        5, 4, 6, 5, 9, 4, 6, 7, 0, 0, 3, 1, 1, 9, 1, 1, 4, 4, 0, 8, 8, 4, 9, 0,\n",
      "        1, 0, 4, 8, 0, 3, 2, 7, 0, 6, 8, 0, 2, 8, 2, 7, 8, 6, 4, 4, 1, 7, 6, 7,\n",
      "        7, 3, 4, 3])\n",
      "xb.device: cpu\n",
      "yb: tensor([3, 9, 1, 4, 9, 0, 5, 2, 6, 1, 3, 5, 7, 5, 0, 3, 0, 9, 0, 5, 6, 5, 5, 9,\n",
      "        6, 2, 2, 6, 2, 8, 1, 8, 1, 0, 9, 0, 2, 0, 3, 7, 8, 8, 1, 4, 7, 8, 5, 3,\n",
      "        6, 6, 1, 5, 2, 1, 2, 2, 4, 0, 2, 9, 5, 0, 2, 2, 0, 4, 2, 3, 0, 5, 1, 3,\n",
      "        7, 2, 2, 7, 0, 7, 5, 4, 7, 0, 4, 4, 5, 9, 1, 3, 2, 9, 9, 4, 2, 0, 0, 1,\n",
      "        6, 8, 8, 2])\n",
      "xb.device: cpu\n",
      "yb: tensor([9, 7, 9, 6, 8, 1, 6, 7, 5, 3, 5, 2, 6, 6, 6, 4, 9, 6, 4, 3, 3, 1, 9, 2,\n",
      "        4, 3, 7, 5, 9, 9, 9, 1, 9, 7, 7, 1, 6, 7, 9, 1, 6, 1, 5, 9, 7, 5, 3, 2,\n",
      "        9, 8, 7, 4, 5, 6, 3, 3, 0, 1, 4, 2, 0, 9, 9, 1, 9, 9, 4, 7, 3, 0, 5, 2,\n",
      "        5, 3, 8, 5, 8, 4, 0, 2, 6, 5, 4, 8, 5, 5, 8, 1, 7, 1, 8, 2, 7, 9, 3, 1,\n",
      "        9, 4, 8, 1])\n",
      "xb.device: cpu\n",
      "yb: tensor([3, 2, 8, 2, 5, 2, 3, 2, 1, 6, 4, 1, 4, 3, 7, 2, 0, 5, 2, 0, 0, 1, 9, 3,\n",
      "        4, 7, 9, 6, 8, 1, 6, 1, 0, 4, 8, 3, 5, 1, 8, 3, 2, 0, 0, 0, 3, 3, 0, 8,\n",
      "        6, 4, 5, 6, 4, 0, 4, 8, 1, 1, 3, 9, 7, 0, 4, 7, 7, 7, 1, 3, 9, 8, 2, 9,\n",
      "        0, 2, 9, 7, 2, 8, 9, 3, 6, 9, 5, 1, 3, 6, 8, 1, 5, 2, 9, 7, 6, 1, 7, 5,\n",
      "        4, 4, 8, 7])\n",
      "xb.device: cpu\n",
      "yb: tensor([4, 6, 9, 0, 1, 2, 1, 6, 1, 9, 2, 4, 7, 9, 1, 8, 7, 8, 9, 4, 7, 3, 1, 8,\n",
      "        6, 0, 9, 6, 8, 3, 0, 8, 8, 4, 3, 9, 5, 0, 3, 3, 0, 1, 8, 5, 2, 0, 9, 9,\n",
      "        7, 0, 0, 0, 6, 9, 2, 9, 9, 3, 7, 9, 2, 0, 0, 8, 2, 7, 4, 4, 3, 9, 6, 7,\n",
      "        3, 7, 3, 2, 5, 4, 3, 3, 6, 9, 5, 5, 0, 2, 7, 9, 1, 6, 4, 1, 6, 2, 9, 9,\n",
      "        6, 6, 2, 6])\n",
      "xb.device: cpu\n",
      "yb: tensor([5, 2, 4, 0, 0, 1, 7, 8, 9, 6, 0, 4, 5, 4, 3, 0, 9, 5, 8, 7, 1, 6, 9, 4,\n",
      "        5, 2, 2, 7, 2, 7, 9, 2, 9, 9, 6, 3, 4, 7, 8, 2, 8, 7, 6, 6, 7, 4, 8, 0,\n",
      "        5, 6, 9, 0, 0, 8, 8, 8, 3, 0, 9, 3, 1, 9, 7, 8, 6, 8, 7, 3, 5, 6, 8, 6,\n",
      "        1, 6, 1, 0, 5, 8, 3, 6, 0, 6, 6, 4, 3, 2, 7, 9, 0, 2, 2, 4, 1, 1, 2, 9,\n",
      "        1, 3, 0, 0])\n",
      "xb.device: cpu\n",
      "yb: tensor([1, 0, 4, 7, 3, 0, 5, 1, 7, 2, 3, 0, 5, 2, 3, 6, 6, 6, 3, 7, 1, 0, 2, 4,\n",
      "        3, 2, 7, 6, 4, 3, 2, 6, 3, 1, 7, 2, 1, 7, 3, 8, 1, 4, 9, 2, 1, 4, 2, 9,\n",
      "        2, 6, 4, 4, 5, 5, 8, 2, 2, 9, 4, 7, 8, 2, 8, 0, 8, 6, 6, 9, 9, 7, 2, 9,\n",
      "        6, 1, 9, 1, 7, 8, 4, 0, 4, 0, 1, 0, 5, 4, 2, 8, 6, 3, 1, 6, 8, 5, 3, 5,\n",
      "        5, 3, 7, 2])\n",
      "xb.device: cpu\n",
      "yb: tensor([1, 3, 7, 8, 3, 7, 5, 9, 6, 5, 5, 8, 4, 4, 1, 4, 4, 8, 3, 1, 8, 3, 0, 0,\n",
      "        1, 1, 7, 1, 1, 5, 1, 8, 5, 6, 7, 3, 8, 2, 1, 4, 6, 8, 4, 1, 3, 6, 9, 5,\n",
      "        7, 3, 1, 8, 4, 1, 2, 8, 6, 0, 9, 1, 2, 9, 4, 4, 6, 5, 0, 8, 4, 3, 5, 2,\n",
      "        9, 2, 4, 9, 4, 8, 9, 9, 0, 2, 9, 4, 0, 4, 9, 0, 6, 4, 9, 5, 5, 0, 8, 4,\n",
      "        0, 1, 7, 5])\n",
      "xb.device: cpu\n",
      "yb: tensor([7, 3, 0, 6, 9, 2, 8, 9, 6, 1, 6, 9, 1, 2, 3, 2, 2, 8, 0, 1, 1, 3, 8, 7,\n",
      "        1, 4, 9, 8, 1, 8, 7, 8, 6, 5, 8, 5, 7, 4, 1, 2, 7, 1, 3, 3, 8, 0, 9, 1,\n",
      "        3, 0, 0, 9, 2, 3, 5, 1, 8, 4, 2, 5, 0, 2, 3, 5, 2, 6, 0, 1, 8, 0, 3, 0,\n",
      "        2, 2, 8, 6, 8, 7, 1, 7, 0, 7, 1, 1, 5, 5, 3, 8, 6, 1, 6, 3, 1, 5, 4, 3,\n",
      "        4, 9, 9, 5])\n",
      "xb.device: cpu\n",
      "yb: tensor([5, 4, 1, 8, 5, 7, 4, 8, 0, 8, 8, 0, 3, 2, 0, 4, 4, 9, 9, 1, 3, 6, 3, 5,\n",
      "        0, 3, 9, 1, 2, 6, 2, 0, 5, 0, 2, 9, 3, 2, 3, 0, 0, 6, 3, 7, 7, 9, 8, 1,\n",
      "        9, 1, 4, 3, 5, 9, 1, 4, 5, 2, 0, 7, 7, 7, 7, 5, 8, 4, 1, 3, 7, 6, 4, 8,\n",
      "        0, 5, 1, 0, 9, 7, 2, 7, 1, 7, 5, 5, 7, 4, 5, 4, 7, 5, 7, 6, 0, 2, 6, 3,\n",
      "        2, 1, 0, 4])\n",
      "xb.device: cpu\n",
      "yb: tensor([8, 0, 9, 4, 6, 3, 3, 3, 4, 9, 5, 4, 0, 3, 9, 3, 3, 1, 0, 2, 6, 8, 8, 5,\n",
      "        8, 4, 0, 8, 6, 8, 7, 4, 0, 3, 7, 0, 8, 1, 8, 3, 0, 6, 2, 0, 5, 1, 4, 3,\n",
      "        3, 0, 3, 2, 7, 9, 7, 3, 8, 9, 3, 2, 6, 7, 7, 6, 9, 9, 7, 0, 7, 1, 4, 5,\n",
      "        2, 3, 7, 8, 5, 9, 9, 8, 6, 4, 8, 8, 4, 0, 4, 7, 2, 3, 1, 6, 4, 2, 9, 0,\n",
      "        2, 9, 6, 9])\n",
      "xb.device: cpu\n",
      "yb: tensor([2, 9, 0, 4, 7, 6, 0, 0, 1, 2, 4, 4, 2, 6, 3, 6, 8, 5, 6, 2, 0, 7, 8, 2,\n",
      "        3, 6, 7, 1, 1, 7, 0, 0, 4, 8, 9, 6, 2, 5, 1, 6, 1, 1, 8, 7, 6, 8, 2, 9,\n",
      "        4, 6, 7, 7, 5, 0, 5, 2, 4, 7, 7, 1, 7, 5, 7, 6, 2, 6, 4, 1, 7, 8, 2, 7,\n",
      "        7, 7, 1, 1, 3, 9, 7, 6, 3, 4, 5, 3, 6, 9, 2, 2, 5, 7, 1, 8, 8, 4, 0, 9,\n",
      "        5, 1, 3, 0])\n",
      "xb.device: cpu\n",
      "yb: tensor([8, 1, 0, 8, 7, 7, 5, 5, 2, 0, 1, 2, 5, 9, 2, 3, 4, 0, 1, 3, 7, 1, 0, 4,\n",
      "        9, 8, 2, 8, 9, 6, 9, 4, 7, 2, 9, 5, 5, 2, 9, 6, 5, 2, 9, 6, 7, 0, 6, 6,\n",
      "        1, 4, 5, 7, 0, 8, 1, 3, 7, 0, 6, 6, 9, 4, 1, 3, 2, 3, 9, 2, 2, 3, 8, 0,\n",
      "        2, 6, 7, 3, 0, 7, 4, 1, 1, 2, 1, 4, 7, 8, 1, 2, 1, 5, 9, 8, 5, 8, 0, 0,\n",
      "        7, 9, 6, 6])\n",
      "xb.device: cpu\n",
      "yb: tensor([5, 0, 7, 1, 6, 3, 7, 1, 7, 5, 5, 9, 9, 7, 6, 9, 1, 6, 0, 7, 5, 3, 0, 2,\n",
      "        5, 6, 6, 6, 2, 6, 3, 9, 5, 2, 4, 1, 1, 7, 6, 8, 6, 0, 1, 8, 0, 7, 8, 9,\n",
      "        1, 2, 6, 9, 0, 5, 7, 1, 6, 5, 3, 5, 0, 3, 6, 8, 4, 3, 3, 8, 2, 2, 1, 3,\n",
      "        6, 6, 0, 4, 2, 0, 4, 4, 1, 2, 4, 2, 8, 4, 4, 0, 6, 2, 6, 6, 2, 6, 7, 1,\n",
      "        3, 0, 1, 4])\n",
      "xb.device: cpu\n",
      "yb: tensor([5, 4, 7, 2, 2, 0, 3, 5, 4, 8, 9, 8, 0, 1, 9, 8, 2, 5, 3, 4, 5, 5, 9, 3,\n",
      "        3, 5, 7, 8, 2, 2, 5, 6, 6, 6, 3, 8, 7, 1, 5, 7, 9, 1, 4, 9, 8, 1, 5, 2,\n",
      "        8, 0, 9, 5, 1, 6, 1, 1, 5, 6, 2, 4, 8, 4, 9, 1, 6, 9, 1, 4, 5, 4, 5, 3,\n",
      "        8, 4, 2, 0, 5, 1, 8, 5, 8, 0, 5, 1, 0, 1, 0, 0, 1, 2, 0, 1, 0, 0, 8, 2,\n",
      "        4, 2, 6, 7])\n",
      "xb.device: cpu\n",
      "yb: tensor([6, 9, 9, 0, 5, 3, 7, 8, 9, 5, 6, 6, 8, 5, 5, 3, 1, 9, 5, 3, 0, 0, 2, 0,\n",
      "        1, 6, 9, 2, 0, 8, 9, 8, 3, 5, 9, 2, 0, 1, 4, 7, 2, 4, 4, 1, 3, 7, 1, 0,\n",
      "        0, 7, 1, 9, 2, 8, 0, 1, 9, 1, 8, 8, 0, 1, 4, 5, 4, 3, 9, 2, 2, 2, 5, 1,\n",
      "        2, 9, 7, 0, 2, 7, 3, 9, 0, 3, 3, 0, 9, 9, 3, 3, 5, 9, 5, 9, 8, 0, 9, 5,\n",
      "        7, 9, 1, 2])\n",
      "xb.device: cpu\n",
      "yb: tensor([0, 6, 2, 3, 8, 5, 3, 8, 3, 9, 2, 9, 0, 4, 7, 6, 9, 7, 2, 9, 2, 4, 6, 1,\n",
      "        0, 2, 9, 6, 0, 4, 1, 8, 8, 4, 2, 2, 0, 0, 0, 7, 9, 7, 6, 0, 9, 1, 2, 0,\n",
      "        1, 6, 7, 7, 8, 5, 8, 5, 0, 8, 3, 0, 8, 1, 7, 1, 7, 6, 9, 9, 4, 2, 1, 4,\n",
      "        3, 2, 7, 2, 0, 4, 0, 6, 2, 1, 1, 3, 0, 3, 3, 1, 4, 2, 3, 8, 8, 5, 6, 0,\n",
      "        1, 9, 2, 6])\n",
      "xb.device: cpu\n",
      "yb: tensor([2, 5, 3, 8, 5, 4, 7, 4, 9, 1, 4, 3, 3, 7, 6, 6, 1, 4, 6, 8, 4, 5, 6, 2,\n",
      "        9, 6, 6, 0, 3, 5, 8, 8, 2, 0, 8, 4, 5, 9, 6, 9, 6, 9, 4, 6, 4, 6, 7, 4,\n",
      "        1, 4, 0, 3, 1, 9, 1, 0, 3, 7, 8, 7, 0, 1, 6, 3, 0, 1, 2, 5, 1, 1, 0, 3,\n",
      "        6, 3, 4, 3, 1, 2, 8, 4, 8, 2, 6, 2, 0, 0, 1, 8, 3, 1, 7, 8, 3, 8, 4, 9,\n",
      "        3, 9, 7, 3])\n",
      "xb.device: cpu\n",
      "yb: tensor([4, 0, 1, 1, 6, 7, 3, 4, 6, 4, 4, 9, 8, 9, 3, 9, 5, 5, 2, 7, 9, 9, 7, 7,\n",
      "        6, 1, 9, 7, 2, 1, 5, 4, 3, 2, 1, 1, 9, 8, 2, 1, 1, 3, 4, 5, 0, 1, 9, 6,\n",
      "        2, 5, 7, 8, 8, 4, 3, 4, 1, 1, 4, 0, 2, 0, 6, 6, 1, 2, 1, 6, 7, 3, 6, 4,\n",
      "        3, 4, 3, 2, 0, 4, 3, 5, 0, 7, 0, 0, 2, 1, 0, 5, 4, 9, 7, 9, 7, 1, 6, 4,\n",
      "        8, 0, 4, 2])\n",
      "xb.device: cpu\n",
      "yb: tensor([3, 9, 7, 6, 8, 7, 3, 6, 5, 6, 5, 0, 3, 6, 7, 4, 8, 5, 7, 2, 0, 1, 6, 4,\n",
      "        6, 8, 4, 8, 2, 5, 8, 8, 7, 3, 4, 2, 3, 7, 3, 0, 8, 3, 7, 0, 9, 1, 9, 9,\n",
      "        6, 0, 1, 4, 6, 7, 2, 2, 1, 1, 3, 8, 3, 8, 5, 0, 5, 2, 2, 7, 3, 6, 8, 9,\n",
      "        7, 3, 1, 4, 0, 5, 0, 4, 7, 9, 6, 9, 1, 7, 7, 2, 6, 1, 0, 5, 9, 6, 0, 7,\n",
      "        2, 3, 0, 3])\n",
      "xb.device: cpu\n",
      "yb: tensor([4, 3, 6, 5, 3, 3, 5, 9, 7, 3, 6, 1, 0, 7, 4, 4, 0, 7, 6, 2, 0, 8, 1, 4,\n",
      "        5, 0, 2, 3, 1, 3, 2, 8, 9, 1, 8, 9, 4, 5, 2, 3, 8, 1, 4, 2, 0, 9, 6, 6,\n",
      "        8, 7, 1, 5, 3, 6, 0, 7, 0, 2, 4, 7, 0, 0, 3, 6, 3, 9, 9, 6, 6, 0, 7, 2,\n",
      "        3, 5, 4, 4, 8, 3, 2, 3, 9, 1, 2, 1, 7, 8, 9, 0, 1, 5, 3, 0, 5, 4, 4, 7,\n",
      "        7, 6, 8, 3])\n",
      "xb.device: cpu\n",
      "yb: tensor([8, 9, 1, 5, 6, 1, 0, 5, 2, 9, 7, 8, 9, 3, 4, 0, 6, 2, 7, 9, 1, 5, 7, 3,\n",
      "        7, 4, 1, 3, 2, 5, 6, 3, 9, 4, 2, 1, 7, 6, 6, 9, 0, 4, 1, 9, 6, 9, 6, 2,\n",
      "        5, 2, 8, 8, 0, 3, 5, 7, 5, 9, 7, 1, 4, 3, 0, 5, 2, 1, 7, 3, 9, 0, 5, 2,\n",
      "        3, 1, 5, 8, 5, 7, 1, 6, 8, 2, 1, 6, 7, 2, 1, 6, 0, 2, 9, 5, 9, 4, 1, 7,\n",
      "        4, 2, 9, 9])\n",
      "xb.device: cpu\n",
      "yb: tensor([9, 6, 5, 4, 6, 7, 1, 9, 9, 9, 1, 0, 4, 1, 3, 7, 5, 7, 9, 6, 5, 9, 6, 2,\n",
      "        1, 9, 8, 1, 6, 8, 3, 8, 0, 8, 4, 7, 1, 9, 0, 1, 7, 5, 9, 4, 8, 0, 8, 9,\n",
      "        9, 8, 0, 5, 4, 4, 2, 3, 8, 0, 5, 3, 5, 7, 4, 1, 6, 6, 5, 0, 8, 9, 1, 9,\n",
      "        4, 6, 5, 9, 3, 1, 9, 2, 1, 5, 1, 4, 8, 0, 1, 2, 7, 1, 5, 9, 9, 1, 5, 3,\n",
      "        7, 9, 6, 0])\n",
      "xb.device: cpu\n",
      "yb: tensor([4, 3, 2, 3, 4, 4, 6, 4, 0, 1, 5, 1, 3, 2, 7, 3, 0, 0, 0, 6, 4, 2, 8, 2,\n",
      "        1, 0, 1, 2, 6, 8, 5, 9, 5, 3, 3, 4, 3, 0, 7, 9, 2, 1, 6, 1, 4, 5, 7, 2,\n",
      "        6, 6, 7, 1, 5, 1, 6, 0, 2, 1, 8, 5, 1, 9, 5, 1, 7, 6, 0, 1, 9, 5, 9, 0,\n",
      "        3, 8, 0, 6, 9, 9, 7, 5, 3, 6, 9, 4, 5, 1, 5, 9, 5, 9, 4, 1, 0, 2, 4, 7,\n",
      "        1, 6, 1, 6])\n"
     ]
    },
    {
     "name": "stdout",
     "output_type": "stream",
     "text": [
      "xb.device: cpu\n",
      "yb: tensor([0, 0, 4, 8, 4, 3, 8, 2, 5, 6, 3, 1, 8, 2, 4, 3, 2, 4, 6, 6, 2, 6, 7, 7,\n",
      "        4, 5, 7, 5, 8, 3, 3, 4, 4, 2, 2, 7, 1, 3, 1, 6, 8, 2, 7, 9, 3, 4, 4, 2,\n",
      "        3, 4, 1, 2, 5, 9, 8, 3, 7, 7, 6, 5, 1, 8, 6, 2, 3, 6, 5, 0, 1, 1, 3, 2,\n",
      "        4, 9, 8, 8, 5, 4, 8, 5, 2, 7, 1, 5, 4, 3, 8, 3, 7, 6, 8, 2, 8, 7, 2, 9,\n",
      "        0, 7, 9, 9])\n",
      "xb.device: cpu\n",
      "yb: tensor([9, 8, 7, 0, 3, 7, 0, 2, 3, 7, 3, 7, 5, 6, 1, 8, 1, 0, 6, 1, 4, 4, 2, 8,\n",
      "        0, 7, 0, 9, 9, 8, 1, 4, 4, 1, 3, 5, 8, 6, 7, 4, 8, 9, 0, 6, 2, 4, 4, 2,\n",
      "        0, 6, 0, 7, 0, 3, 4, 5, 7, 2, 8, 4, 5, 7, 8, 0, 5, 9, 7, 7, 5, 7, 3, 8,\n",
      "        8, 9, 0, 0, 3, 6, 9, 0, 6, 9, 7, 6, 2, 8, 9, 0, 2, 5, 0, 5, 9, 2, 4, 7,\n",
      "        4, 0, 0, 5])\n",
      "xb.device: cpu\n",
      "yb: tensor([0, 9, 5, 8, 3, 7, 6, 4, 1, 9, 9, 1, 6, 5, 5, 0, 5, 7, 6, 4, 4, 3, 2, 9,\n",
      "        1, 4, 1, 7, 0, 1, 4, 6, 1, 6, 4, 2, 1, 5, 8, 7, 8, 3, 7, 0, 8, 8, 7, 8,\n",
      "        9, 0, 0, 6, 5, 2, 0, 8, 5, 5, 7, 6, 1, 0, 1, 4, 8, 1, 6, 0, 5, 4, 9, 5,\n",
      "        6, 0, 4, 9, 9, 9, 8, 4, 5, 0, 4, 6, 5, 9, 9, 1, 8, 3, 6, 2, 9, 5, 2, 7,\n",
      "        5, 3, 8, 7])\n",
      "xb.device: cpu\n",
      "yb: tensor([4, 3, 2, 8, 4, 3, 5, 1, 5, 9, 3, 4, 2, 6, 1, 1, 3, 9, 3, 5, 9, 4, 8, 5,\n",
      "        2, 6, 6, 0, 0, 0, 9, 9, 9, 4, 1, 0, 5, 5, 7, 4, 4, 3, 9, 6, 3, 1, 4, 7,\n",
      "        8, 5, 2, 3, 8, 1, 7, 2, 1, 1, 4, 1, 2, 4, 7, 6, 5, 6, 0, 1, 2, 0, 3, 4,\n",
      "        3, 7, 1, 7, 6, 2, 6, 8, 3, 7, 5, 9, 9, 3, 3, 9, 1, 6, 7, 8, 6, 9, 2, 8,\n",
      "        3, 6, 7, 1])\n",
      "xb.device: cpu\n",
      "yb: tensor([5, 2, 2, 9, 1, 4, 7, 1, 2, 3, 3, 6, 9, 3, 1, 2, 3, 5, 9, 9, 4, 9, 5, 3,\n",
      "        0, 7, 5, 6, 6, 9, 8, 8, 8, 2, 3, 0, 8, 9, 4, 2, 8, 2, 5, 1, 3, 0, 3, 1,\n",
      "        5, 1, 5, 1, 6, 7, 5, 7, 2, 5, 4, 3, 5, 5, 5, 5, 5, 7, 3, 5, 3, 1, 6, 7,\n",
      "        4, 0, 0, 8, 1, 7, 6, 5, 1, 0, 6, 6, 1, 2, 9, 5, 4, 4, 7, 3, 8, 3, 7, 1,\n",
      "        8, 2, 0, 1])\n",
      "xb.device: cpu\n",
      "yb: tensor([3, 1, 4, 3, 8, 5, 8, 4, 6, 4, 1, 1, 4, 2, 4, 1, 8, 8, 2, 3, 0, 1, 7, 8,\n",
      "        3, 1, 6, 8, 7, 7, 0, 3, 2, 3, 1, 2, 9, 4, 5, 3, 5, 3, 2, 7, 5, 9, 9, 3,\n",
      "        4, 7, 3, 7, 0, 9, 7, 3, 9, 7, 0, 6, 4, 2, 7, 0, 5, 0, 5, 5, 8, 7, 7, 7,\n",
      "        2, 4, 9, 8, 0, 4, 0, 9, 7, 0, 3, 0, 1, 7, 9, 5, 4, 8, 6, 2, 2, 6, 8, 5,\n",
      "        7, 2, 2, 3])\n",
      "xb.device: cpu\n",
      "yb: tensor([0, 5, 7, 3, 7, 0, 3, 6, 1, 7, 3, 6, 2, 6, 6, 5, 3, 3, 1, 8, 3, 1, 3, 5,\n",
      "        8, 2, 9, 5, 5, 9, 4, 9, 1, 8, 7, 1, 6, 3, 4, 9, 9, 3, 2, 2, 9, 5, 9, 1,\n",
      "        1, 4, 9, 7, 8, 9, 4, 7, 0, 4, 0, 2, 1, 1, 4, 9, 2, 5, 8, 3, 5, 4, 3, 3,\n",
      "        4, 2, 0, 1, 5, 6, 0, 3, 0, 8, 4, 2, 6, 6, 1, 2, 9, 2, 2, 7, 2, 0, 4, 9,\n",
      "        9, 2, 5, 5])\n",
      "xb.device: cpu\n",
      "yb: tensor([0, 3, 0, 6, 8, 7, 2, 4, 3, 1, 1, 4, 5, 0, 2, 2, 8, 1, 0, 9, 2, 9, 4, 5,\n",
      "        1, 2, 2, 8, 7, 5, 3, 7, 9, 5, 3, 5, 7, 4, 8, 3, 7, 6, 4, 8, 0, 7, 2, 3,\n",
      "        7, 4, 8, 7, 4, 9, 7, 3, 3, 5, 3, 7, 2, 4, 0, 7, 5, 8, 9, 3, 1, 0, 5, 6,\n",
      "        1, 3, 1, 2, 0, 1, 0, 7, 4, 7, 4, 0, 7, 0, 3, 1, 9, 2, 2, 3, 3, 0, 2, 7,\n",
      "        9, 3, 7, 1])\n",
      "xb.device: cpu\n",
      "yb: tensor([3, 3, 7, 5, 0, 0, 1, 7, 1, 2, 5, 5, 8, 1, 7, 7, 6, 5, 9, 4, 9, 2, 6, 6,\n",
      "        4, 3, 5, 4, 7, 3, 5, 8, 7, 9, 7, 2, 4, 7, 5, 5, 3, 5, 9, 1, 8, 3, 1, 4,\n",
      "        5, 1, 0, 4, 3, 0, 1, 8, 5, 3, 2, 2, 6, 8, 3, 8, 8, 1, 7, 0, 4, 4, 3, 9,\n",
      "        1, 7, 8, 4, 0, 6, 2, 5, 6, 0, 7, 0, 1, 7, 8, 6, 3, 0, 4, 2, 6, 5, 8, 3,\n",
      "        9, 7, 5, 5])\n",
      "xb.device: cpu\n",
      "yb: tensor([5, 9, 3, 4, 9, 1, 5, 0, 8, 2, 8, 2, 6, 8, 4, 7, 0, 2, 1, 4, 6, 5, 7, 1,\n",
      "        3, 6, 3, 0, 0, 9, 4, 3, 3, 6, 0, 9, 0, 8, 3, 4, 1, 7, 6, 5, 0, 3, 3, 3,\n",
      "        3, 8, 6, 6, 3, 0, 9, 1, 1, 1, 1, 6, 0, 6, 1, 4, 7, 7, 8, 2, 3, 5, 2, 1,\n",
      "        4, 3, 4, 9, 2, 9, 3, 1, 0, 5, 9, 4, 6, 6, 1, 8, 9, 4, 3, 7, 8, 0, 1, 1,\n",
      "        9, 6, 5, 2])\n",
      "xb.device: cpu\n",
      "yb: tensor([8, 6, 1, 4, 7, 2, 7, 9, 9, 8, 4, 6, 0, 4, 7, 4, 8, 7, 6, 1, 1, 3, 7, 7,\n",
      "        5, 4, 9, 1, 1, 3, 1, 5, 9, 1, 3, 9, 5, 4, 3, 1, 1, 1, 3, 7, 7, 8, 4, 3,\n",
      "        0, 3, 7, 4, 4, 6, 1, 8, 3, 7, 0, 9, 6, 0, 8, 9, 1, 7, 6, 7, 9, 4, 0, 4,\n",
      "        1, 6, 7, 6, 5, 3, 7, 4, 0, 3, 1, 9, 0, 5, 8, 6, 8, 1, 4, 4, 9, 6, 5, 5,\n",
      "        7, 4, 4, 1])\n",
      "xb.device: cpu\n",
      "yb: tensor([7, 7, 2, 6, 8, 4, 8, 1, 0, 7, 8, 7, 8, 3, 6, 5, 6, 3, 7, 1, 0, 5, 8, 6,\n",
      "        7, 7, 7, 9, 9, 2, 3, 3, 8, 6, 2, 8, 3, 1, 0, 4, 3, 8, 1, 6, 6, 1, 8, 2,\n",
      "        6, 3, 6, 7, 4, 4, 3, 8, 8, 1, 3, 0, 3, 5, 7, 3, 7, 0, 9, 0, 6, 1, 9, 1,\n",
      "        7, 9, 4, 5, 2, 7, 5, 1, 6, 9, 4, 3, 3, 5, 3, 3, 8, 9, 4, 8, 0, 7, 0, 8,\n",
      "        5, 7, 9, 1])\n",
      "xb.device: cpu\n",
      "yb: tensor([6, 1, 3, 9, 7, 9, 3, 7, 2, 6, 2, 9, 9, 3, 7, 6, 9, 6, 2, 7, 9, 1, 9, 9,\n",
      "        4, 5, 8, 3, 7, 6, 2, 9, 3, 9, 0, 2, 1, 1, 5, 5, 3, 4, 6, 4, 1, 9, 0, 9,\n",
      "        1, 9, 0, 7, 5, 7, 2, 6, 6, 9, 5, 7, 1, 5, 1, 2, 2, 2, 5, 0, 7, 8, 0, 9,\n",
      "        4, 2, 4, 6, 3, 1, 9, 0, 5, 2, 9, 5, 6, 3, 2, 0, 8, 0, 7, 1, 8, 5, 5, 6,\n",
      "        8, 9, 6, 8])\n",
      "xb.device: cpu\n",
      "yb: tensor([7, 8, 8, 4, 3, 7, 6, 6, 9, 8, 1, 1, 2, 7, 3, 5, 0, 6, 7, 0, 5, 4, 1, 4,\n",
      "        9, 0, 6, 9, 1, 8, 4, 3, 9, 1, 1, 8, 9, 4, 0, 8, 1, 4, 3, 5, 5, 8, 9, 8,\n",
      "        8, 1, 8, 3, 1, 4, 9, 2, 8, 4, 9, 7, 6, 1, 5, 2, 8, 7, 9, 8, 3, 6, 0, 1,\n",
      "        6, 3, 3, 9, 7, 7, 3, 3, 4, 6, 7, 6, 9, 7, 2, 4, 2, 4, 8, 0, 4, 8, 0, 5,\n",
      "        9, 8, 4, 5])\n",
      "xb.device: cpu\n",
      "yb: tensor([7, 3, 8, 1, 5, 6, 7, 6, 2, 0, 0, 9, 7, 2, 0, 0, 0, 1, 4, 3, 4, 8, 8, 7,\n",
      "        9, 8, 0, 7, 3, 7, 2, 4, 3, 8, 1, 0, 8, 4, 6, 0, 0, 2, 7, 3, 0, 7, 4, 3,\n",
      "        3, 1, 0, 8, 1, 8, 9, 4, 7, 5, 0, 7, 9, 3, 4, 0, 2, 8, 5, 4, 1, 4, 8, 1,\n",
      "        8, 5, 3, 9, 0, 2, 3, 2, 4, 6, 9, 8, 0, 1, 2, 2, 8, 6, 2, 4, 0, 7, 6, 6,\n",
      "        9, 7, 8, 1])\n",
      "xb.device: cpu\n",
      "yb: tensor([9, 7, 1, 4, 0, 1, 9, 7, 6, 1, 2, 5, 7, 7, 7, 2, 2, 1, 8, 0, 2, 9, 7, 4,\n",
      "        5, 0, 2, 2, 7, 2, 7, 2, 0, 9, 0, 9, 6, 0, 3, 4, 9, 3, 7, 6, 8, 8, 3, 1,\n",
      "        7, 1, 0, 8, 0, 7, 1, 9, 6, 5, 9, 1, 7, 1, 5, 5, 6, 7, 6, 8, 9, 0, 1, 4,\n",
      "        4, 8, 1, 1, 1, 4, 8, 9, 5, 8, 4, 0, 0, 3, 1, 0, 1, 7, 0, 8, 8, 9, 7, 6,\n",
      "        0, 2, 8, 4])\n",
      "xb.device: cpu\n",
      "yb: tensor([8, 3, 6, 4, 0, 8, 0, 7, 7, 2, 6, 6, 9, 4, 9, 1, 2, 3, 3, 3, 7, 1, 6, 3,\n",
      "        7, 5, 5, 1, 1, 2, 1, 7, 1, 5, 0, 2, 9, 0, 0, 5, 1, 4, 1, 9, 9, 4, 7, 7,\n",
      "        9, 3, 5, 0, 5, 5, 8, 3, 8, 1, 6, 7, 2, 3, 6, 7, 3, 0, 9, 5, 8, 9, 7, 9,\n",
      "        1, 2, 6, 1, 3, 8, 4, 6, 4, 1, 6, 6, 2, 5, 2, 3, 6, 0, 5, 7, 7, 6, 8, 5,\n",
      "        1, 4, 4, 6])\n",
      "xb.device: cpu\n",
      "yb: tensor([7, 0, 3, 5, 5, 2, 2, 7, 3, 9, 1, 2, 5, 1, 9, 6, 5, 1, 6, 0, 6, 4, 3, 2,\n",
      "        2, 6, 6, 8, 3, 2, 9, 6, 4, 8, 0, 9, 5, 2, 3, 7, 2, 5, 1, 8, 9, 5, 7, 1,\n",
      "        7, 8, 2, 0, 4, 6, 5, 1, 2, 3, 8, 1, 8, 2, 3, 0, 2, 3, 8, 7, 7, 3, 3, 7,\n",
      "        6, 8, 2, 0, 8, 7, 3, 5, 2, 4, 9, 1, 5, 2, 7, 0, 2, 5, 6, 2, 5, 0, 8, 0,\n",
      "        2, 2, 2, 3])\n",
      "xb.device: cpu\n",
      "yb: tensor([8, 8, 0, 0, 2, 7, 6, 5, 2, 4, 7, 6, 1, 9, 5, 4, 5, 9, 6, 1, 6, 7, 0, 7,\n",
      "        6, 1, 7, 9, 6, 0, 2, 4, 4, 1, 0, 8, 7, 4, 8, 9, 7, 7, 4, 4, 1, 3, 0, 3,\n",
      "        8, 6, 0, 6, 1, 0, 9, 5, 4, 9, 3, 0, 1, 6, 4, 6, 6, 1, 4, 2, 7, 0, 8, 8,\n",
      "        4, 0, 8, 0, 5, 0, 6, 3, 2, 5, 8, 3, 5, 7, 2, 8, 6, 7, 0, 7, 1, 8, 9, 8,\n",
      "        7, 5, 8, 8])\n",
      "xb.device: cpu\n",
      "yb: tensor([7, 4, 7, 6, 7, 6, 0, 5, 3, 9, 1, 2, 1, 5, 2, 9, 8, 6, 0, 5, 9, 4, 6, 2,\n",
      "        9, 7, 0, 7, 6, 2, 5, 9, 2, 7, 3, 8, 7, 7, 0, 1, 7, 8, 5, 5, 8, 6, 9, 4,\n",
      "        6, 4, 6, 2, 1, 8, 5, 1, 6, 4, 7, 1, 6, 4, 7, 0, 7, 9, 1, 4, 0, 9, 3, 9,\n",
      "        0, 8, 7, 6, 2, 5, 0, 2, 9, 7, 6, 6, 4, 4, 9, 4, 9, 9, 0, 9, 5, 7, 2, 4,\n",
      "        9, 3, 4, 3])\n",
      "xb.device: cpu\n",
      "yb: tensor([9, 0, 2, 6, 6, 1, 1, 0, 3, 8, 1, 1, 8, 1, 9, 8, 3, 6, 4, 9, 0, 5, 5, 0,\n",
      "        1, 5, 3, 7, 9, 9, 9, 5, 8, 5, 6, 9, 4, 4, 0, 7, 8, 6, 5, 3, 5, 1, 9, 4,\n",
      "        2, 3, 8, 2, 2, 8, 4, 1, 1, 3, 6, 2, 3, 3, 3, 5, 3, 6, 0, 7, 6, 2, 0, 8,\n",
      "        8, 6, 9, 1, 3, 1, 0, 0, 1, 1, 0, 5, 3, 6, 6, 8, 1, 5, 9, 5, 3, 0, 9, 4,\n",
      "        6, 5, 9, 5])\n",
      "xb.device: cpu\n",
      "yb: tensor([8, 1, 1, 4, 5, 6, 6, 2, 2, 3, 7, 8, 3, 5, 3, 1, 3, 2, 4, 9, 2, 3, 9, 9,\n",
      "        1, 0, 1, 1, 5, 6, 2, 1, 8, 5, 4, 5, 0, 5, 8, 7, 3, 4, 6, 6, 7, 6, 1, 3,\n",
      "        5, 5, 2, 7, 3, 8, 0, 6, 1, 9, 2, 0, 9, 4, 4, 1, 4, 4, 4, 3, 3, 1, 6, 1,\n",
      "        8, 8, 5, 0, 1, 9, 1, 7, 3, 5, 8, 8, 0, 3, 6, 0, 8, 6, 8, 1, 4, 2, 2, 5,\n",
      "        4, 6, 4, 5])\n",
      "xb.device: cpu\n",
      "yb: tensor([5, 3, 9, 9, 0, 0, 9, 1, 0, 8, 5, 9, 8, 2, 8, 5, 6, 2, 6, 0, 5, 9, 0, 6,\n",
      "        6, 3, 1, 2, 0, 7, 0, 3, 0, 3, 2, 2, 3, 1, 7, 1, 9, 5, 0, 1, 6, 2, 5, 8,\n",
      "        3, 4, 2, 8, 1, 0, 9, 2, 1, 1, 5, 0, 8, 7, 9, 3, 5, 6, 1, 9, 4, 8, 5, 3,\n",
      "        9, 5, 8, 8, 4, 0, 6, 5, 1, 3, 4, 3, 5, 7, 0, 4, 9, 3, 9, 5, 1, 6, 7, 5,\n",
      "        1, 0, 3, 4])\n",
      "xb.device: cpu\n",
      "yb: tensor([0, 3, 6, 3, 6, 9, 5, 7, 6, 3, 8, 6, 3, 4, 4, 0, 3, 5, 7, 0, 1, 3, 6, 3,\n",
      "        0, 3, 9, 9, 8, 0, 8, 3, 7, 8, 3, 6, 2, 0, 1, 2, 9, 2, 8, 7, 8, 6, 1, 1,\n",
      "        2, 2, 7, 3, 2, 2, 6, 6, 0, 7, 0, 1, 9, 2, 3, 3, 8, 7, 3, 1, 9, 7, 8, 0,\n",
      "        5, 9, 5, 2, 6, 5, 8, 0, 1, 8, 8, 1, 9, 5, 3, 3, 7, 1, 9, 6, 3, 5, 6, 7,\n",
      "        5, 0, 6, 2])\n",
      "xb.device: cpu\n",
      "yb: tensor([3, 3, 6, 3, 7, 7, 6, 1, 3, 4, 8, 6, 8, 7, 9, 2, 4, 1, 0, 6, 8, 8, 3, 6,\n",
      "        4, 6, 7, 8, 8, 0, 8, 0, 3, 2, 9, 5, 1, 6, 0, 9, 6, 3, 5, 9, 3, 7, 8, 2,\n",
      "        5, 0, 5, 3, 3, 8, 6, 5, 0, 5, 5, 1, 5, 0, 2, 2, 5, 3, 7, 3, 8, 8, 6, 8,\n",
      "        3, 4, 3, 2, 7, 1, 6, 5, 5, 9, 7, 8, 6, 9, 7, 8, 6, 1, 0, 2, 7, 0, 4, 6,\n",
      "        0, 9, 2, 1])\n"
     ]
    },
    {
     "name": "stdout",
     "output_type": "stream",
     "text": [
      "xb.device: cpu\n",
      "yb: tensor([7, 4, 6, 0, 8, 5, 1, 9, 2, 9, 3, 7, 0, 8, 9, 3, 1, 9, 3, 3, 4, 8, 6, 6,\n",
      "        9, 1, 4, 1, 4, 8, 8, 5, 6, 2, 6, 8, 7, 8, 0, 1, 2, 6, 6, 5, 2, 6, 8, 0,\n",
      "        5, 6, 1, 7, 7, 9, 2, 6, 4, 7, 3, 8, 0, 0, 3, 4, 6, 8, 0, 1, 6, 9, 8, 0,\n",
      "        6, 6, 2, 6, 4, 1, 0, 1, 9, 8, 6, 0, 6, 7, 2, 1, 1, 9, 4, 0, 1, 4, 3, 3,\n",
      "        1, 1, 1, 2])\n",
      "xb.device: cpu\n",
      "yb: tensor([1, 3, 7, 7, 6, 4, 6, 1, 3, 8, 0, 4, 7, 4, 7, 7, 4, 5, 3, 9, 9, 1, 2, 1,\n",
      "        7, 9, 1, 3, 8, 4, 6, 7, 1, 3, 0, 0, 7, 0, 6, 2, 2, 6, 3, 8, 1, 8, 6, 6,\n",
      "        0, 3, 7, 9, 9, 4, 7, 8, 8, 0, 2, 1, 7, 2, 0, 0, 9, 0, 5, 1, 5, 4, 0, 9,\n",
      "        6, 8, 0, 0, 4, 6, 7, 2, 1, 4, 2, 6, 9, 5, 3, 2, 6, 3, 7, 2, 8, 4, 1, 5,\n",
      "        5, 2, 4, 2])\n",
      "xb.device: cpu\n",
      "yb: tensor([2, 2, 3, 1, 0, 8, 1, 1, 3, 1, 1, 4, 5, 0, 7, 8, 1, 7, 4, 7, 6, 8, 6, 6,\n",
      "        9, 6, 0, 8, 1, 1, 0, 6, 1, 0, 6, 1, 4, 9, 7, 4, 9, 5, 2, 9, 6, 0, 9, 5,\n",
      "        1, 8, 0, 1, 2, 1, 9, 8, 4, 7, 5, 2, 7, 4, 5, 2, 2, 7, 7, 6, 7, 2, 3, 5,\n",
      "        0, 2, 8, 9, 8, 9, 5, 8, 6, 3, 7, 4, 1, 8, 8, 6, 8, 9, 5, 1, 6, 8, 8, 2,\n",
      "        0, 7, 6, 2])\n",
      "xb.device: cpu\n",
      "yb: tensor([7, 2, 4, 9, 2, 3, 5, 6, 1, 6, 1, 9, 2, 1, 8, 8, 4, 5, 6, 3, 7, 2, 7, 2,\n",
      "        5, 4, 0, 2, 9, 8, 1, 2, 1, 7, 8, 8, 7, 3, 1, 5, 7, 0, 6, 0, 5, 6, 7, 8,\n",
      "        5, 0, 3, 7, 4, 8, 6, 0, 7, 6, 2, 5, 9, 2, 9, 8, 9, 9, 1, 1, 5, 3, 5, 8,\n",
      "        3, 4, 3, 4, 5, 3, 9, 2, 2, 4, 2, 2, 3, 3, 0, 7, 3, 5, 6, 2, 4, 0, 1, 9,\n",
      "        9, 5, 4, 8])\n",
      "xb.device: cpu\n",
      "yb: tensor([6, 1, 7, 9, 7, 0, 2, 7, 4, 1, 2, 1, 4, 1, 0, 9, 8, 1, 7, 3, 7, 7, 6, 3,\n",
      "        6, 2, 3, 8, 3, 0, 4, 2, 8, 6, 1, 0, 3, 2, 9, 1, 5, 5, 8, 0, 8, 6, 6, 9,\n",
      "        5, 4, 1, 4, 6, 2, 4, 9, 1, 7, 8, 0, 5, 4, 3, 9, 0, 6, 3, 0, 0, 8, 1, 0,\n",
      "        8, 5, 7, 7, 1, 8, 0, 5, 8, 4, 0, 0, 3, 3, 6, 8, 3, 0, 7, 7, 4, 5, 0, 9,\n",
      "        3, 5, 4, 7])\n",
      "xb.device: cpu\n",
      "yb: tensor([3, 7, 2, 3, 1, 5, 9, 8, 6, 6, 8, 1, 3, 8, 6, 1, 0, 3, 8, 9, 8, 6, 7, 2,\n",
      "        3, 1, 8, 9, 1, 8, 3, 0, 1, 4, 4, 5, 6, 3, 8, 1, 8, 4, 3, 8, 5, 9, 4, 5,\n",
      "        0, 1, 7, 5, 0, 0, 0, 4, 2, 3, 8, 8, 1, 4, 8, 0, 0, 5, 7, 9, 9, 8, 7, 8,\n",
      "        1, 3, 6, 9, 7, 0, 2, 8, 7, 3, 6, 7, 1, 1, 2, 6, 2, 7, 0, 3, 5, 3, 5, 3,\n",
      "        5, 9, 3, 7])\n",
      "xb.device: cpu\n",
      "yb: tensor([9, 7, 4, 3, 9, 2, 1, 1, 5, 2, 2, 7, 6, 9, 4, 9, 0, 5, 0, 7, 1, 3, 0, 1,\n",
      "        7, 7, 3, 8, 6, 4, 9, 7, 0, 1, 5, 4, 9, 3, 7, 9, 4, 8, 9, 0, 1, 7, 3, 6,\n",
      "        1, 7, 1, 5, 8, 7, 4, 0, 2, 2, 7, 7, 3, 2, 3, 5, 2, 7, 4, 5, 8, 6, 7, 5,\n",
      "        6, 1, 8, 7, 6, 7, 0, 4, 5, 7, 4, 3, 6, 4, 2, 0, 8, 0, 5, 2, 9, 5, 7, 9,\n",
      "        6, 7, 5, 3])\n",
      "xb.device: cpu\n",
      "yb: tensor([4, 4, 7, 1, 4, 1, 2, 0, 6, 6, 9, 5, 3, 2, 8, 9, 6, 8, 3, 4, 3, 7, 9, 9,\n",
      "        9, 1, 9, 1, 3, 3, 1, 2, 4, 3, 9, 0, 4, 6, 6, 3, 6, 3, 6, 3, 3, 9, 6, 8,\n",
      "        8, 4, 4, 6, 1, 4, 7, 5, 0, 8, 5, 8, 8, 1, 8, 1, 8, 4, 9, 6, 3, 8, 4, 9,\n",
      "        3, 4, 9, 3, 6, 1, 4, 1, 8, 0, 3, 3, 5, 9, 3, 4, 8, 4, 9, 6, 1, 3, 2, 1,\n",
      "        3, 0, 8, 2])\n",
      "xb.device: cpu\n",
      "yb: tensor([8, 4, 2, 6, 5, 3, 3, 3, 7, 6, 8, 1, 9, 5, 4, 5, 2, 7, 3, 1, 9, 1, 1, 3,\n",
      "        5, 9, 7, 0, 0, 0, 8, 5, 5, 1, 7, 7, 1, 1, 0, 1, 7, 9, 3, 4, 7, 7, 1, 6,\n",
      "        8, 9, 0, 1, 6, 9, 4, 8, 2, 4, 4, 9, 0, 0, 3, 5, 9, 3, 9, 2, 9, 4, 7, 3,\n",
      "        6, 8, 8, 3, 0, 1, 2, 2, 6, 9, 7, 8, 8, 2, 9, 6, 1, 2, 4, 6, 9, 2, 7, 7,\n",
      "        0, 9, 3, 5])\n",
      "xb.device: cpu\n",
      "yb: tensor([1, 6, 9, 1, 3, 6, 9, 0, 1, 9, 3, 6, 1, 2, 6, 0, 5, 6, 0, 0, 1, 3, 0, 4,\n",
      "        0, 2, 2, 0, 8, 0, 9, 6, 1, 6, 7, 2, 7, 0, 8, 7, 9, 3, 3, 5, 1, 1, 1, 8,\n",
      "        3, 2, 5, 5, 3, 6, 1, 6, 9, 9, 0, 8, 4, 1, 1, 6, 6, 3, 7, 1, 8, 0, 7, 2,\n",
      "        1, 0, 8, 6, 3, 6, 7, 7, 6, 7, 3, 9, 9, 4, 2, 0, 6, 4, 6, 5, 9, 9, 3, 4,\n",
      "        3, 8, 0, 8])\n",
      "xb.device: cpu\n",
      "yb: tensor([8, 1, 8, 3, 6, 8, 4, 0, 7, 5, 1, 1, 5, 9, 4, 7, 3, 5, 0, 6, 1, 2, 3, 1,\n",
      "        8, 0, 6, 0, 3, 2, 9, 0, 3, 2, 0, 2, 2, 4, 3, 9, 9, 0, 8, 3, 5, 9, 2, 3,\n",
      "        4, 1, 2, 9, 7, 7, 2, 5, 8, 4, 2, 6, 5, 7, 0, 2, 5, 4, 2, 7, 4, 0, 7, 0,\n",
      "        8, 7, 3, 2, 2, 2, 3, 8, 0, 2, 7, 0, 8, 8, 4, 7, 8, 9, 8, 2, 4, 3, 8, 0,\n",
      "        3, 7, 1, 0])\n",
      "xb.device: cpu\n",
      "yb: tensor([7, 1, 8, 8, 7, 5, 0, 0, 3, 9, 0, 5, 9, 3, 2, 8, 6, 9, 2, 6, 1, 4, 4, 5,\n",
      "        8, 8, 4, 9, 8, 2, 7, 9, 5, 6, 5, 0, 6, 7, 5, 0, 9, 6, 0, 6, 7, 5, 4, 6,\n",
      "        5, 8, 3, 4, 6, 8, 0, 6, 9, 8, 6, 9, 0, 6, 4, 5, 5, 6, 0, 1, 1, 5, 8, 7,\n",
      "        0, 5, 4, 1, 8, 8, 1, 1, 6, 6, 6, 8, 7, 8, 0, 8, 8, 2, 1, 7, 1, 6, 2, 7,\n",
      "        2, 6, 7, 2])\n",
      "xb.device: cpu\n",
      "yb: tensor([4, 4, 3, 6, 1, 1, 4, 8, 1, 6, 3, 2, 1, 7, 7, 5, 9, 0, 5, 0, 5, 1, 7, 3,\n",
      "        0, 4, 9, 2, 8, 9, 1, 8, 6, 1, 7, 9, 7, 9, 3, 7, 1, 9, 7, 8, 6, 3, 7, 5,\n",
      "        8, 8, 3, 2, 2, 3, 7, 2, 1, 1, 7, 4, 2, 5, 2, 7, 6, 7, 8, 0, 5, 2, 3, 9,\n",
      "        0, 3, 1, 1, 8, 7, 0, 4, 9, 1, 9, 5, 7, 2, 1, 3, 9, 5, 2, 4, 1, 7, 1, 4,\n",
      "        4, 5, 8, 4])\n",
      "xb.device: cpu\n",
      "yb: tensor([1, 7, 0, 1, 5, 2, 5, 5, 3, 2, 7, 1, 1, 9, 1, 4, 7, 8, 6, 6, 1, 4, 6, 5,\n",
      "        8, 6, 4, 9, 6, 1, 5, 6, 1, 9, 0, 1, 9, 1, 7, 9, 0, 0, 5, 2, 8, 1, 2, 4,\n",
      "        2, 0, 7, 9, 9, 5, 4, 4, 7, 6, 1, 9, 7, 1, 6, 2, 8, 9, 5, 9, 9, 1, 2, 3,\n",
      "        3, 7, 3, 2, 4, 5, 1, 7, 8, 5, 5, 6, 9, 0, 3, 9, 8, 4, 7, 7, 8, 6, 7, 2,\n",
      "        4, 9, 9, 8])\n",
      "xb.device: cpu\n",
      "yb: tensor([0, 2, 4, 8, 7, 6, 7, 1, 0, 4, 5, 2, 8, 2, 4, 8, 6, 8, 0, 2, 8, 9, 8, 6,\n",
      "        8, 0, 2, 7, 7, 4, 5, 7, 2, 3, 7, 9, 7, 3, 8, 1, 1, 1, 9, 1, 3, 8, 8, 4,\n",
      "        1, 3, 5, 6, 7, 6, 4, 0, 8, 5, 2, 8, 1, 3, 2, 8, 8, 3, 1, 6, 6, 1, 5, 1,\n",
      "        2, 0, 3, 9, 8, 5, 3, 8, 5, 7, 2, 4, 5, 3, 8, 8, 9, 7, 9, 6, 1, 2, 2, 2,\n",
      "        2, 4, 5, 0])\n",
      "xb.device: cpu\n",
      "yb: tensor([5, 0, 7, 7, 9, 3, 6, 0, 4, 1, 9, 6, 3, 3, 3, 7, 2, 7, 3, 8, 1, 2, 6, 9,\n",
      "        9, 0, 5, 7, 9, 4, 6, 1, 0, 2, 7, 4, 7, 5, 8, 6, 3, 8, 7, 7, 5, 4, 8, 6,\n",
      "        9, 3, 0, 4, 6, 1, 1, 4, 5, 2, 2, 1, 5, 4, 7, 9, 1, 7, 5, 1, 9, 3, 2, 1,\n",
      "        1, 2, 8, 6, 4, 6, 9, 7, 2, 5, 2, 9, 0, 2, 2, 3, 4, 4, 7, 6, 8, 0, 6, 1,\n",
      "        5, 9, 6, 0])\n",
      "xb.device: cpu\n",
      "yb: tensor([2, 4, 2, 3, 9, 2, 8, 4, 9, 4, 7, 6, 2, 8, 3, 8, 8, 1, 5, 9, 3, 9, 0, 9,\n",
      "        1, 0, 9, 1, 7, 2, 4, 7, 3, 9, 8, 4, 7, 3, 7, 0, 7, 7, 4, 0, 5, 8, 3, 5,\n",
      "        6, 2, 2, 4, 0, 7, 4, 2, 1, 3, 0, 7, 1, 4, 3, 0, 3, 1, 1, 6, 0, 4, 1, 8,\n",
      "        1, 7, 1, 0, 7, 7, 2, 5, 7, 0, 9, 3, 7, 5, 7, 1, 9, 0, 0, 8, 6, 6, 6, 4,\n",
      "        9, 5, 3, 3])\n",
      "xb.device: cpu\n",
      "yb: tensor([9, 8, 2, 4, 6, 3, 4, 1, 8, 8, 9, 4, 9, 9, 5, 3, 9, 4, 3, 2, 3, 3, 3, 3,\n",
      "        3, 1, 5, 8, 5, 5, 0, 6, 1, 4, 4, 9, 0, 3, 4, 0, 1, 8, 4, 4, 2, 9, 2, 7,\n",
      "        3, 6, 7, 9, 5, 4, 0, 9, 6, 4, 9, 1, 3, 5, 2, 2, 1, 0, 4, 4, 3, 1, 9, 8,\n",
      "        8, 9, 3, 8, 8, 0, 5, 1, 2, 0, 1, 4, 0, 6, 0, 9, 3, 4, 0, 7, 6, 4, 8, 9,\n",
      "        3, 2, 9, 6])\n",
      "xb.device: cpu\n",
      "yb: tensor([6, 4, 9, 6, 1, 6, 5, 2, 7, 3, 9, 6, 7, 0, 4, 6, 2, 4, 4, 8, 9, 6, 2, 8,\n",
      "        3, 4, 1, 5, 2, 5, 4, 5, 7, 1, 8, 0, 7, 5, 4, 3, 0, 2, 2, 4, 4, 2, 1, 3,\n",
      "        2, 6, 4, 9, 2, 2, 9, 5, 8, 7, 2, 8, 0, 4, 5, 9, 0, 1, 9, 1, 3, 8, 7, 2,\n",
      "        4, 4, 0, 0, 1, 2, 0, 6, 5, 4, 7, 4, 4, 0, 5, 1, 2, 4, 5, 5, 3, 9, 8, 1,\n",
      "        6, 2, 9, 6])\n"
     ]
    }
   ],
   "source": [
    "for xb, yb in valid_dl:\n",
    "    print('xb.device:', xb.device)\n",
    "    print('yb:', yb)"
   ]
  },
  {
   "cell_type": "markdown",
   "metadata": {},
   "source": [
    "## Training the model"
   ]
  },
  {
   "cell_type": "markdown",
   "metadata": {},
   "source": [
    "We can use the exact same training loops from the logistic regression notebooks."
   ]
  },
  {
   "cell_type": "code",
   "execution_count": 38,
   "metadata": {},
   "outputs": [],
   "source": [
    "def evaluate(model, val_loader):\n",
    "    outputs = [model.validation_step(batch) for batch in val_loader]\n",
    "    return model.validation_epoch_end(outputs)\n",
    "\n",
    "def fit(epochs, lr, model, train_loader, val_loader, opt_func=torch.optim.SGD):\n",
    "    history = []\n",
    "    optimizer = opt_func(model.parameters(), lr)\n",
    "    for epoch in range(epochs):\n",
    "        # Training Phase\n",
    "        for batch in train_loader:\n",
    "            loss = model.training_step(batch)\n",
    "            loss.backward()\n",
    "            optimizer.step()\n",
    "            optimizer.zero_grad()\n",
    "        # Validation phase\n",
    "        result = evaluate(model, val_loader)\n",
    "        model.epoch_end(epoch, result)\n",
    "        history.append(result)\n",
    "    return history"
   ]
  },
  {
   "cell_type": "markdown",
   "metadata": {},
   "source": [
    "We also define an `accuracy` function which calculates the overall accuracy of the model on an entire batch of outputs, so that we can use it as a metric in `fit`."
   ]
  },
  {
   "cell_type": "markdown",
   "metadata": {},
   "source": [
    "Before we train the model, we need to ensure that the data and the model's parameters (weights and biases) are on the same device (CPU or GPU). We can reuse the `to_device` function to move the model's parameters to the right device."
   ]
  },
  {
   "cell_type": "code",
   "execution_count": 40,
   "metadata": {},
   "outputs": [
    {
     "data": {
      "text/plain": [
       "MnistModel(\n",
       "  (linear1): Linear(in_features=784, out_features=32, bias=True)\n",
       "  (linear2): Linear(in_features=32, out_features=10, bias=True)\n",
       ")"
      ]
     },
     "execution_count": 40,
     "metadata": {},
     "output_type": "execute_result"
    }
   ],
   "source": [
    "# Model (on GPU)\n",
    "model = MnistModel(input_size, hidden_size=hidden_size, out_size=num_classes)\n",
    "to_device(model, device)"
   ]
  },
  {
   "cell_type": "markdown",
   "metadata": {},
   "source": [
    "Let's see how the model performs on the validation set with the initial set of weights and biases."
   ]
  },
  {
   "cell_type": "code",
   "execution_count": 43,
   "metadata": {},
   "outputs": [
    {
     "ename": "NameError",
     "evalue": "name 'val_loader' is not defined",
     "output_type": "error",
     "traceback": [
      "\u001b[0;31m---------------------------------------------------------------------------\u001b[0m",
      "\u001b[0;31mNameError\u001b[0m                                 Traceback (most recent call last)",
      "\u001b[0;32m<ipython-input-43-2b3da6205248>\u001b[0m in \u001b[0;36m<module>\u001b[0;34m\u001b[0m\n\u001b[0;32m----> 1\u001b[0;31m \u001b[0mhistory\u001b[0m \u001b[0;34m=\u001b[0m \u001b[0;34m[\u001b[0m\u001b[0mevaluate\u001b[0m\u001b[0;34m(\u001b[0m\u001b[0mmodel\u001b[0m\u001b[0;34m,\u001b[0m \u001b[0mval_loader\u001b[0m\u001b[0;34m)\u001b[0m\u001b[0;34m]\u001b[0m\u001b[0;34m\u001b[0m\u001b[0;34m\u001b[0m\u001b[0m\n\u001b[0m\u001b[1;32m      2\u001b[0m \u001b[0mhistory\u001b[0m\u001b[0;34m\u001b[0m\u001b[0;34m\u001b[0m\u001b[0m\n",
      "\u001b[0;31mNameError\u001b[0m: name 'val_loader' is not defined"
     ]
    }
   ],
   "source": [
    "history = [evaluate(model, val_loader)]\n",
    "history"
   ]
  },
  {
   "cell_type": "code",
   "execution_count": null,
   "metadata": {},
   "outputs": [],
   "source": []
  },
  {
   "cell_type": "code",
   "execution_count": null,
   "metadata": {},
   "outputs": [],
   "source": []
  },
  {
   "cell_type": "code",
   "execution_count": null,
   "metadata": {},
   "outputs": [],
   "source": []
  }
 ],
 "metadata": {
  "kernelspec": {
   "display_name": "Python 3",
   "language": "python",
   "name": "python3"
  },
  "language_info": {
   "codemirror_mode": {
    "name": "ipython",
    "version": 3
   },
   "file_extension": ".py",
   "mimetype": "text/x-python",
   "name": "python",
   "nbconvert_exporter": "python",
   "pygments_lexer": "ipython3",
   "version": "3.8.3"
  }
 },
 "nbformat": 4,
 "nbformat_minor": 4
}
