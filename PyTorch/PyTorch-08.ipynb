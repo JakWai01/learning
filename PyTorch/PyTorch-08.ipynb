{
 "cells": [
  {
   "cell_type": "markdown",
   "id": "4d175b35",
   "metadata": {},
   "source": [
    "# A gentle introduction to torch.autograd"
   ]
  },
  {
   "cell_type": "markdown",
   "id": "4cf8db03",
   "metadata": {},
   "source": [
    "Neural Networks are a collection of nested functions that are executed on some input data. These functions are defined by parameters (consisting of weights and biases), which in PyTorch are stored in Tensors."
   ]
  },
  {
   "cell_type": "markdown",
   "id": "697425c9",
   "metadata": {},
   "source": [
    "Training a NN happens in two steps:\n",
    "- **Forward Propagation**: In forward prop, the NN makes its best guess about the correct output. It runs the input data through each of its functions to make this guess.\n",
    "- **Backward Propagation**: In backprop, the NN adjusts its parameters proportionate to the error in its guess. It does this by traversing backwards from the output, collecting the derivatives of the error with respect to the parameters of the functions (gradients), and optimizing the parameters using gradient descent."
   ]
  },
  {
   "cell_type": "markdown",
   "id": "c78df017",
   "metadata": {},
   "source": [
    "## Usage in PyTorch"
   ]
  },
  {
   "cell_type": "markdown",
   "id": "69ee7eda",
   "metadata": {},
   "source": [
    "Let's take a look at a single training step. For this example, we load a pretrained resnet18 model from `torchvision`. We create a random data tensor to reporesent a single image with 3 channels, and height & widht of 64, and its corresponding `label` initialized to some random values."
   ]
  },
  {
   "cell_type": "code",
   "execution_count": 3,
   "id": "99a0d793",
   "metadata": {},
   "outputs": [
    {
     "name": "stderr",
     "output_type": "stream",
     "text": [
      "Downloading: \"https://download.pytorch.org/models/resnet18-5c106cde.pth\" to /home/jakobwaibel/.cache/torch/hub/checkpoints/resnet18-5c106cde.pth\n",
      "100.0%\n"
     ]
    }
   ],
   "source": [
    "import torch, torchvision\n",
    "model = torchvision.models.resnet18(pretrained=True)\n",
    "data = torch.rand(1, 3, 64, 64)\n",
    "labels = torch.rand(1, 1000)"
   ]
  },
  {
   "cell_type": "markdown",
   "id": "c149b1de",
   "metadata": {},
   "source": [
    "Next, we run the input data through each of its layers to make a prediction. This is the **forward pass**."
   ]
  },
  {
   "cell_type": "code",
   "execution_count": 4,
   "id": "6731fcc3",
   "metadata": {},
   "outputs": [],
   "source": [
    "prediction = model(data) # forward pass"
   ]
  },
  {
   "cell_type": "markdown",
   "id": "5c2c21ef",
   "metadata": {},
   "source": [
    "We use the model's prediction and the corresponding label to calculate the error (loss). The next step is to backpropagate this error through the network. Backward propagation is kicked off when we call `.backward()` on the error tensor. Autograd then calculates and stores the gradients for each model parameter in the parameter's `.grad` attribute."
   ]
  },
  {
   "cell_type": "code",
   "execution_count": 5,
   "id": "57ffe755",
   "metadata": {},
   "outputs": [],
   "source": [
    "loss = (prediction - labels).sum()\n",
    "loss.backward() # backward pass"
   ]
  },
  {
   "cell_type": "markdown",
   "id": "a01b8788",
   "metadata": {},
   "source": [
    "Next, we load an optimizer, in this case SGD with a learning rate of 0.01 and momentum of 0.9. We register all the parameters of the model in the optimizer."
   ]
  },
  {
   "cell_type": "code",
   "execution_count": 6,
   "id": "c41e8039",
   "metadata": {},
   "outputs": [],
   "source": [
    "optim = torch.optim.SGD(model.parameters(), lr=1e-2, momentum=0.9)"
   ]
  },
  {
   "cell_type": "markdown",
   "id": "c9b222da",
   "metadata": {},
   "source": [
    "Finally, we call `.step()` to initiate gradient descent. The optimizer adjusts each parameter by its gradient stored in `.grad`."
   ]
  },
  {
   "cell_type": "code",
   "execution_count": 7,
   "id": "383747c6",
   "metadata": {},
   "outputs": [],
   "source": [
    "optim.step() # gradient descent"
   ]
  }
 ],
 "metadata": {
  "kernelspec": {
   "display_name": "Python 3",
   "language": "python",
   "name": "python3"
  },
  "language_info": {
   "codemirror_mode": {
    "name": "ipython",
    "version": 3
   },
   "file_extension": ".py",
   "mimetype": "text/x-python",
   "name": "python",
   "nbconvert_exporter": "python",
   "pygments_lexer": "ipython3",
   "version": "3.8.6"
  }
 },
 "nbformat": 4,
 "nbformat_minor": 5
}
